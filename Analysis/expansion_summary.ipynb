{
 "metadata": {
  "name": "expansion_summary"
 },
 "nbformat": 3,
 "nbformat_minor": 0,
 "worksheets": [
  {
   "cells": [
    {
     "cell_type": "code",
     "collapsed": false,
     "input": [
      "import flyphys as fph\n",
      "import numpy as np\n",
      "dataroot = '/Users/psilentp/Dropbox/Data/LeftRight/'"
     ],
     "language": "python",
     "metadata": {},
     "outputs": [],
     "prompt_number": 1
    },
    {
     "cell_type": "code",
     "collapsed": false,
     "input": [
      "fly = fph.get_fly_in_rootdir(dataroot,49,0)"
     ],
     "language": "python",
     "metadata": {},
     "outputs": [],
     "prompt_number": 2
    },
    {
     "cell_type": "code",
     "collapsed": false,
     "input": [
      "pattern_xnum = 768\n",
      "deg_per_xstp = 360./pattern_xnum\n",
      "ol_volts_per_deg = 10.0/(pattern_xnum*deg_per_xstp)\n",
      "cl_volts_per_rad = 5/(np.pi)\n",
      "expan_transform = lambda x:x/ol_volts_per_deg\n",
      "fix_transform = lambda x:x/cl_volts_per_rad\n",
      "\n",
      "def get_trials(fly,function_index,position_index,sli,sigkey):\n",
      "    retlist = list()\n",
      "    selected_trials_indices = [rps[0] for rps in fly.trial_matrix if rps[1] == function_index and rps[2] == position_index][sli]\n",
      "    for x in selected_trials_indices:\n",
      "        #first get the section presumed to include t-collision\n",
      "        start_ind = fly.trial_start_indicies[x]-fly.left_window\n",
      "        end_ind = fly.trial_start_indicies[x]+fly.right_window\n",
      "        #if self.get_wbf(start_ind,end_ind) > self.min_wbf:\n",
      "        #shift the start and end ind to correct for the actual collision time.\n",
      "        icol = where(fly.signals['Xpos'][fly.trial_start_indicies[x]+5000:end_ind] >= ol_volts_per_deg*89.5)[0][0]\n",
      "        offset = icol + 5000 - floor(int(fly.olepoch/fly.dt)) - 1\n",
      "        start_ind += offset\n",
      "        end_ind += offset\n",
      "        tsig = fly.signals['Xpos'].times\n",
      "        start_time = tsig[start_ind]\n",
      "        end_time = tsig[end_ind]\n",
      "        if sigkey in fly.processed_signals.keys():\n",
      "            if sigkey == 'spike_pool':\n",
      "                sp = fly.processed_signals['spike_pool']\n",
      "                sp_sind = argwhere(sp>start_time)[0]\n",
      "                sp_eind = argwhere(sp>end_time)[0] \n",
      "                mask = fly.processed_signals['spike_mask']\n",
      "                sp_phases = fly.processed_signals['spk_phases']\n",
      "                \n",
      "                cut_sp = sp.copy_slice(slice(sp_sind,sp_eind),rezero = False)\n",
      "                cut_mask = mask[sp_sind:sp_eind]\n",
      "                cut_phases = sp_phases[sp_sind:sp_eind]\n",
      "                cut_sp.annotations['spike_mask'] = cut_mask\n",
      "                cut_sp.annotations['spk_phases'] = cut_phases\n",
      "                retlist.append(cut_sp)\n",
      "            else:\n",
      "                retlist.append(fly.processed_signals[sigkey][start_ind:end_ind])\n",
      "        if sigkey in fly.signals.keys():\n",
      "            retlist.append(fly.signals[sigkey][start_ind:end_ind])\n",
      "    return retlist"
     ],
     "language": "python",
     "metadata": {},
     "outputs": [],
     "prompt_number": 147
    },
    {
     "cell_type": "code",
     "collapsed": false,
     "input": [
      "spks = get_trials(fly,2,11,slice(0,5),'spike_pool')\n",
      "l_amp = get_trials(fly,2,11,slice(0,5),'LeftAmp')\n",
      "l_wing = get_trials(fly,2,11,slice(0,5),'LeftWing')\n",
      "r_amp = get_trials(fly,2,11,slice(0,5),'RightAmp')\n",
      "r_wing = get_trials(fly,2,11,slice(0,5),'RightWing')\n",
      "l_m_r = get_trials(fly,2,11,slice(0,5),'L_m_R')\n",
      "x_pos = get_trials(fly,2,11,slice(0,5),'Xpos')\n",
      "wb_phases = get_trials(fly,2,11,slice(0,5),'wb_phase')"
     ],
     "language": "python",
     "metadata": {},
     "outputs": [],
     "prompt_number": 170
    },
    {
     "cell_type": "code",
     "collapsed": false,
     "input": [
      "trl_idx = 2\n",
      "ax = subplot(6,1,1)\n",
      "stime = l_amp[trl_idx].times[trl_idx]\n",
      "spk_lins = [plot(wf.times-stime,wf,color = cm.jet(float(phs/(2*pi)))) for wf,phs in zip(spks[trl_idx].waveforms,spks[trl_idx].annotations['spk_phases'])]\n",
      "subplot(6,1,2,sharex = ax)\n",
      "plot(l_amp[trl_idx].times-stime,wb_phases[trl_idx],color = 'k')\n",
      "subplot(6,1,3,sharex = ax)\n",
      "plot(l_amp[trl_idx].times-stime,r_wing[trl_idx],color = 'k')\n",
      "subplot(6,1,4,sharex = ax)\n",
      "plot(l_amp[trl_idx].times-stime,r_amp[trl_idx],color = 'k')\n",
      "subplot(6,1,5,sharex = ax)\n",
      "plot(l_amp[trl_idx].times-stime,x_pos[trl_idx],color = 'k')\n",
      "subplot(6,1,6,sharex = ax)\n",
      "plot(l_amp[trl_idx].times-stime,l_m_r[trl_idx],color = 'k')"
     ],
     "language": "python",
     "metadata": {},
     "outputs": [
      {
       "output_type": "pyout",
       "prompt_number": 172,
       "text": [
        "[<matplotlib.lines.Line2D at 0x18c2776d0>]"
       ]
      }
     ],
     "prompt_number": 172
    },
    {
     "cell_type": "code",
     "collapsed": false,
     "input": [
      "print fly.processed_signals.keys()\n",
      "print fly.signals.keys"
     ],
     "language": "python",
     "metadata": {},
     "outputs": [
      {
       "output_type": "stream",
       "stream": "stdout",
       "text": [
        "['LeftAmp', 'RightAmp', 'wb_flips', 'spike_pool', 'spike_mask', 'wb_peaks', 'flight_mask', 'wb_phase']\n",
        "['Xpos', 'Sync', 'Ypos', 'IN 11', 'LeftWing', 'L_m_R', 'RightWing', 'AMsysCh1']\n"
       ]
      }
     ],
     "prompt_number": 6
    },
    {
     "cell_type": "code",
     "collapsed": false,
     "input": [],
     "language": "python",
     "metadata": {},
     "outputs": [],
     "prompt_number": 71
    },
    {
     "cell_type": "code",
     "collapsed": false,
     "input": [
      "phs = wb_phases[1]\n",
      "tms = array(l_amp[trl_idx].times-stime)"
     ],
     "language": "python",
     "metadata": {},
     "outputs": [],
     "prompt_number": 51
    },
    {
     "cell_type": "code",
     "collapsed": false,
     "input": [
      "phase_idx = list()\n",
      "for spk in spks[1]:\n",
      "    phase_idx.append(argwhere(diff((spk-stime)>tms))[0][0])"
     ],
     "language": "python",
     "metadata": {},
     "outputs": [],
     "prompt_number": 52
    },
    {
     "cell_type": "code",
     "collapsed": false,
     "input": [
      "def calc_spike_phases(spike_pool,phases,times):\n",
      "    phase_idxs = np.zeros_like(np.array(spike_pool),dtype = int)\n",
      "    start_idx = 0\n",
      "    search_range = 1000\n",
      "    max_len = len(times)\n",
      "    for i,spk in enumerate(spike_pool):\n",
      "        try:\n",
      "            phase_idxs[i] = np.argwhere(np.diff(spk>times[start_idx:search_range]))[0][0]\n",
      "        except IndexError:\n",
      "            search_range = max_len-1\n",
      "            phase_idxs[i] = np.argwhere(np.diff(spk>times[start_idx:search_range]))[0][0]\n",
      "        phase_idxs[i] += start_idx\n",
      "        start_idx = phase_idxs[i]\n",
      "        search_range = 1000+start_idx\n",
      "        if search_range > max_len-1:\n",
      "            search_range = max_len-1\n",
      "    return phases[phase_idxs]"
     ],
     "language": "python",
     "metadata": {},
     "outputs": [],
     "prompt_number": 142
    },
    {
     "cell_type": "code",
     "collapsed": false,
     "input": [
      "sp = fly.processed_signals['spike_pool']\n",
      "phases = fly.processed_signals['wb_phase']\n",
      "times = fly.signals['LeftWing'].times"
     ],
     "language": "python",
     "metadata": {},
     "outputs": [],
     "prompt_number": 143
    },
    {
     "cell_type": "code",
     "collapsed": false,
     "input": [
      "spk_phases = calc_spike_phases(sp,phases,times)"
     ],
     "language": "python",
     "metadata": {},
     "outputs": [],
     "prompt_number": 144
    },
    {
     "cell_type": "code",
     "collapsed": false,
     "input": [
      "fly.processed_signals['spk_phases'] = spk_phases"
     ],
     "language": "python",
     "metadata": {},
     "outputs": [],
     "prompt_number": 146
    },
    {
     "cell_type": "code",
     "collapsed": false,
     "input": [
      "plot(spk_idxs[:1000000])"
     ],
     "language": "python",
     "metadata": {},
     "outputs": [
      {
       "output_type": "pyout",
       "prompt_number": 133,
       "text": [
        "[<matplotlib.lines.Line2D at 0x15dc89410>]"
       ]
      }
     ],
     "prompt_number": 133
    },
    {
     "cell_type": "code",
     "collapsed": false,
     "input": [
      "plot(spks[1].waveforms[1].times-stime,spks[1].waveforms[1])"
     ],
     "language": "python",
     "metadata": {},
     "outputs": [
      {
       "output_type": "pyout",
       "prompt_number": 37,
       "text": [
        "[<matplotlib.lines.Line2D at 0x162811390>]"
       ]
      }
     ],
     "prompt_number": 37
    },
    {
     "cell_type": "code",
     "collapsed": false,
     "input": [
      "spk_phases = phs[phase_idx]"
     ],
     "language": "python",
     "metadata": {},
     "outputs": [],
     "prompt_number": 54
    },
    {
     "cell_type": "code",
     "collapsed": false,
     "input": [
      "plot(spk_phases)"
     ],
     "language": "python",
     "metadata": {},
     "outputs": [
      {
       "output_type": "pyout",
       "prompt_number": 56,
       "text": [
        "[<matplotlib.lines.Line2D at 0x13ad05c10>]"
       ]
      }
     ],
     "prompt_number": 56
    },
    {
     "cell_type": "code",
     "collapsed": false,
     "input": [],
     "language": "python",
     "metadata": {},
     "outputs": []
    },
    {
     "cell_type": "code",
     "collapsed": false,
     "input": [],
     "language": "python",
     "metadata": {},
     "outputs": []
    },
    {
     "cell_type": "code",
     "collapsed": false,
     "input": [
      "trials = get_trials(fly,2,11,slice(1,5),'spike_pool')"
     ],
     "language": "python",
     "metadata": {},
     "outputs": [],
     "prompt_number": 62
    },
    {
     "cell_type": "code",
     "collapsed": false,
     "input": [
      "sp.annotations\n",
      "#[plot(wf.times,wf,color = 'k') for wf in trials[0].waveforms]"
     ],
     "language": "python",
     "metadata": {},
     "outputs": [
      {
       "output_type": "pyout",
       "prompt_number": 80,
       "text": [
        "{}"
       ]
      }
     ],
     "prompt_number": 80
    },
    {
     "cell_type": "code",
     "collapsed": false,
     "input": [
      "sp.waveforms[0]"
     ],
     "language": "python",
     "metadata": {},
     "outputs": [
      {
       "output_type": "pyout",
       "prompt_number": 53,
       "text": [
        "<AnalogSignal(array([ -8.34622227, -10.03319196, -10.90175598, -10.40149301,\n",
        "        -8.4320543 ,  -5.48664595,  -2.50591104,  -0.53983603,\n",
        "        -0.43810926,  -2.66990177,  -7.20422925, -13.43164869,\n",
        "       -20.26215679, -26.46946642, -31.09817837, -33.66112508,\n",
        "       -34.04277637, -32.24047537, -28.1436904 , -21.53471846,\n",
        "       -12.39838707,  -1.37480603,  10.05332037,  19.92924332,\n",
        "        26.57328593,  29.21966056,  28.18348938,  24.57072539,\n",
        "        19.76183364,  14.92389548,  10.7526374 ,   7.5092856 ,\n",
        "         5.21556179,   3.79396407,   3.08557665,   2.84359637,\n",
        "         2.78213971,   2.6507583 ,   2.29303322,   1.69294046,\n",
        "         0.98728078,   0.39259941,   0.07664097,   0.08737766,   0.37836966]) * mV, [0.0272 s, 0.02945 s], sampling rate: 20000.0 Hz)>"
       ]
      }
     ],
     "prompt_number": 53
    },
    {
     "cell_type": "code",
     "collapsed": false,
     "input": [],
     "language": "python",
     "metadata": {},
     "outputs": []
    }
   ],
   "metadata": {}
  }
 ]
}