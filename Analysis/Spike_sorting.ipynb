{
 "metadata": {
  "name": "Spike_sorting"
 },
 "nbformat": 3,
 "nbformat_minor": 0,
 "worksheets": [
  {
   "cells": [
    {
     "cell_type": "code",
     "collapsed": false,
     "input": [
      "from pylab import *\n",
      "from sklearn import decomposition\n",
      "from mpl_toolkits.mplot3d import Axes3D\n",
      "import numpy as np\n",
      "import flyphys as fph\n",
      "import defaults\n",
      "import random\n",
      "from sklearn.cluster import KMeans\n",
      "import sorters as srtr"
     ],
     "language": "python",
     "metadata": {},
     "outputs": [],
     "prompt_number": 1
    },
    {
     "cell_type": "code",
     "collapsed": false,
     "input": [
      "dataroot = '/Users/psilentp/Dropbox/Data/LeftRight/'"
     ],
     "language": "python",
     "metadata": {},
     "outputs": [],
     "prompt_number": 2
    },
    {
     "cell_type": "code",
     "collapsed": false,
     "input": [
      "fly = fph.get_fly_in_rootdir(dataroot,2,0)\n",
      "fly_cntrlr = fph.FlyController(fly)\n",
      "fly.pool_params = defaults.pool_params"
     ],
     "language": "python",
     "metadata": {},
     "outputs": [],
     "prompt_number": 3
    },
    {
     "cell_type": "code",
     "collapsed": false,
     "input": [
      "sp = fly.processed_signals['spike_pool']"
     ],
     "language": "python",
     "metadata": {},
     "outputs": [],
     "prompt_number": 4
    },
    {
     "cell_type": "code",
     "collapsed": false,
     "input": [
      "null_mask = ones_like(sp)"
     ],
     "language": "python",
     "metadata": {},
     "outputs": [],
     "prompt_number": 5
    },
    {
     "cell_type": "code",
     "collapsed": false,
     "input": [
      "pca_0 = srtr.PCATransform(sp,null_mask,defaults.pca_trans)\n",
      "pca_0.transform()\n",
      "km_0 = srtr.KMeansCluster(sp,null_mask,pca_0.trnsmtrx,defaults.km_cluster)\n",
      "km_0.select()"
     ],
     "language": "python",
     "metadata": {},
     "outputs": [],
     "prompt_number": 8
    },
    {
     "cell_type": "code",
     "collapsed": false,
     "input": [
      "def plot_clusters(selector):\n",
      "    mask = nonzero(selector.labels)\n",
      "    for wf,lb in zip(sp.wv_mtrx[:100000:10,:],selector.labels[:100000:10]):\n",
      "        try:\n",
      "            subplot(2,1,int(lb)+1)\n",
      "            color_lookup = {'':'b','0':'r','1':'g'}\n",
      "            color = color_lookup[lb]\n",
      "            plot(wf,color = color,alpha = 0.2)\n",
      "        except ValueError:\n",
      "            pass"
     ],
     "language": "python",
     "metadata": {},
     "outputs": [],
     "prompt_number": 76
    },
    {
     "cell_type": "code",
     "collapsed": false,
     "input": [
      "plot_clusters(km_0)"
     ],
     "language": "python",
     "metadata": {},
     "outputs": [],
     "prompt_number": 82
    },
    {
     "cell_type": "code",
     "collapsed": false,
     "input": [
      "mask_00 = km_0.mask_from_labels('0')\n",
      "pca_00 = srtr.PCATransform(sp,mask_00,defaults.pca_trans)\n",
      "pca_00.transform()\n",
      "km_00 = srtr.KMeansCluster(sp,mask_00,pca_00.trnsmtrx,defaults.km_cluster)\n",
      "km_00.select()"
     ],
     "language": "python",
     "metadata": {},
     "outputs": [],
     "prompt_number": 70
    },
    {
     "cell_type": "code",
     "collapsed": false,
     "input": [
      "plot_clusters(km_00)"
     ],
     "language": "python",
     "metadata": {},
     "outputs": [],
     "prompt_number": 81
    },
    {
     "cell_type": "code",
     "collapsed": false,
     "input": [
      "mask_001 = km_00.mask_from_labels('1')\n",
      "sp_001 = srtr.SpectralCluster(sp,mask_001,sp.wv_mtrx,defaults.km_cluster)\n",
      "sp_001.select()"
     ],
     "language": "python",
     "metadata": {},
     "outputs": [],
     "prompt_number": 74
    },
    {
     "cell_type": "code",
     "collapsed": false,
     "input": [
      "plot_clusters(sp_001)"
     ],
     "language": "python",
     "metadata": {},
     "outputs": [],
     "prompt_number": 80
    },
    {
     "cell_type": "code",
     "collapsed": false,
     "input": [
      "shape(nonzero(mask_0011))"
     ],
     "language": "python",
     "metadata": {},
     "outputs": [
      {
       "output_type": "pyout",
       "prompt_number": 79,
       "text": [
        "(1, 3261)"
       ]
      }
     ],
     "prompt_number": 79
    },
    {
     "cell_type": "code",
     "collapsed": false,
     "input": [
      "mask_01 = km_0.mask_from_labels('1')\n",
      "mask_0011 = sp_001.mask_from_labels('1')\n",
      "spk_mask = mask_01 | mask_0011"
     ],
     "language": "python",
     "metadata": {},
     "outputs": [],
     "prompt_number": 112
    },
    {
     "cell_type": "code",
     "collapsed": false,
     "input": [
      "spk_mtrx = squeeze(sp.wv_mtrx[argwhere(spk_mask),:])\n",
      "garbage_mtrx = squeeze(sp.wv_mtrx[argwhere(~spk_mask),:])"
     ],
     "language": "python",
     "metadata": {},
     "outputs": [],
     "prompt_number": 109
    },
    {
     "cell_type": "code",
     "collapsed": false,
     "input": [
      "lns = plot(garbage_mtrx[:10000:10,:].T,alpha = 0.1,color = 'k')"
     ],
     "language": "python",
     "metadata": {},
     "outputs": [],
     "prompt_number": 111
    },
    {
     "cell_type": "code",
     "collapsed": false,
     "input": [
      "pca_st0 =  srtr.PCATransform(sp,spk_mask,defaults.pca_trans)\n",
      "pca_st0.transform()\n",
      "km_st0 = srtr.KMeansCluster(sp,spk_mask,pca_st0.trnsmtrx,defaults.km_cluster)\n",
      "km_st0.select()"
     ],
     "language": "python",
     "metadata": {},
     "outputs": [],
     "prompt_number": 114
    },
    {
     "cell_type": "code",
     "collapsed": false,
     "input": [
      "fig = figure()\n",
      "colors = cm.jet(km_st0.labels[km_st0.collection_ind()].astype(float)/2.0+0.1)\n",
      "ax = fig.add_subplot(111, projection='3d')\n",
      "ax.scatter(pca_st0.collection_trnsmtrx()[:10000,0],pca_st0.collection_trnsmtrx()[:10000,1],pca_st0.collection_trnsmtrx()[:10000,2],c = colors[:10000])"
     ],
     "language": "python",
     "metadata": {},
     "outputs": [
      {
       "output_type": "pyout",
       "prompt_number": 143,
       "text": [
        "<mpl_toolkits.mplot3d.art3d.Patch3DCollection at 0x151558a50>"
       ]
      }
     ],
     "prompt_number": 143
    },
    {
     "cell_type": "code",
     "collapsed": false,
     "input": [
      "plot_clusters(km_st0)"
     ],
     "language": "python",
     "metadata": {},
     "outputs": [],
     "prompt_number": 132
    },
    {
     "cell_type": "code",
     "collapsed": false,
     "input": [
      "sp.annotations['spk_mask']  = spk_mask\n",
      "sp.annotations['sort_sequence'] = 'PCA->KM(2 clusters),garbage cluster -> PCA->KM(2 clusters),better cluster -> spectral clustering, good cluster combined with good cluster from first PCA'"
     ],
     "language": "python",
     "metadata": {},
     "outputs": [],
     "prompt_number": 119
    },
    {
     "cell_type": "code",
     "collapsed": false,
     "input": [
      "from signal_tools import ts\n",
      "spk1 = sp[0]\n",
      "spk1000 = sp[1000]\n",
      "signal = ts(fly.signals['AMsysCh1'],spk1,spk1000)"
     ],
     "language": "python",
     "metadata": {},
     "outputs": [],
     "prompt_number": 124
    },
    {
     "cell_type": "code",
     "collapsed": false,
     "input": [
      "plot(signal.times,signal)\n",
      "color_lookup = {0:'g',1:'b'}\n",
      "for wvfm,lb in zip(sp.waveforms[0:1000],sp.annotations['spk_mask']):\n",
      "    plot(wvfm.times,wvfm,color = color_lookup[lb],lw = 10,alpha = 0.5)"
     ],
     "language": "python",
     "metadata": {},
     "outputs": [],
     "prompt_number": 128
    },
    {
     "cell_type": "code",
     "collapsed": false,
     "input": [
      "shape(km_st0.collection_ind())"
     ],
     "language": "python",
     "metadata": {},
     "outputs": [
      {
       "output_type": "pyout",
       "prompt_number": 133,
       "text": [
        "(52403,)"
       ]
      }
     ],
     "prompt_number": 133
    },
    {
     "cell_type": "code",
     "collapsed": false,
     "input": [
      "shape(pca_st0.collection_trnsmtrx())"
     ],
     "language": "python",
     "metadata": {},
     "outputs": [
      {
       "output_type": "pyout",
       "prompt_number": 134,
       "text": [
        "(52403, 3)"
       ]
      }
     ],
     "prompt_number": 134
    },
    {
     "cell_type": "code",
     "collapsed": false,
     "input": [
      "hist(colors[1])"
     ],
     "language": "python",
     "metadata": {},
     "outputs": [
      {
       "output_type": "pyout",
       "prompt_number": 139,
       "text": [
        "(array([ 2.,  0.,  0.,  0.,  0.,  0.,  0.,  0.,  0.,  2.]),\n",
        " array([ 0. ,  0.1,  0.2,  0.3,  0.4,  0.5,  0.6,  0.7,  0.8,  0.9,  1. ]),\n",
        " <a list of 10 Patch objects>)"
       ]
      }
     ],
     "prompt_number": 139
    },
    {
     "cell_type": "code",
     "collapsed": false,
     "input": [
      "shape(colors)"
     ],
     "language": "python",
     "metadata": {},
     "outputs": [
      {
       "output_type": "pyout",
       "prompt_number": 140,
       "text": [
        "(52403, 4)"
       ]
      }
     ],
     "prompt_number": 140
    },
    {
     "cell_type": "code",
     "collapsed": false,
     "input": [],
     "language": "python",
     "metadata": {},
     "outputs": []
    }
   ],
   "metadata": {}
  }
 ]
}