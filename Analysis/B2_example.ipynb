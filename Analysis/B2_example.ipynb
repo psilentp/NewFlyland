{
 "metadata": {
  "name": "B2_example"
 },
 "nbformat": 3,
 "nbformat_minor": 0,
 "worksheets": [
  {
   "cells": [
    {
     "cell_type": "code",
     "collapsed": false,
     "input": [
      "from pylab import *\n",
      "from sklearn import decomposition\n",
      "from mpl_toolkits.mplot3d import Axes3D\n",
      "import numpy as np\n",
      "import random\n",
      "import sys\n",
      "from sklearn.cluster import KMeans\n",
      "\n",
      "analysis_lib = '/Users/psilentp/Documents/Projects/NewFlyland/Analysis/'\n",
      "sys.path.append(analysis_lib)\n",
      "\n",
      "import flyphys as fph\n",
      "import defaults\n",
      "import sorters as srtr\n",
      "import sorter_view as sview\n",
      "import signal_tools as stools\n",
      "dataroot = '/Users/psilentp/Dropbox/Data/LeftRight/'"
     ],
     "language": "python",
     "metadata": {},
     "outputs": [],
     "prompt_number": 1
    },
    {
     "cell_type": "code",
     "collapsed": false,
     "input": [
      "fly_B2 = fph.get_fly_in_rootdir(dataroot,38,0,rec_location = 'B2')\n",
      "fly_cntrlr_B2 = fph.FlyController(fly_B2)\n",
      "fly_B1 = fph.get_fly_in_rootdir(dataroot,38,0,rec_location = 'B1')\n",
      "fly_cntrlr_B1 = fph.FlyController(fly_B1)"
     ],
     "language": "python",
     "metadata": {},
     "outputs": [],
     "prompt_number": 2
    },
    {
     "cell_type": "code",
     "collapsed": false,
     "input": [
      "#######plot some example traces\n",
      "st = 375000\n",
      "rng = 60000\n",
      "ax1 = subplot(2,1,1)\n",
      "times = fly_B1.signals['AMsysCh1'][st:st+rng].times\n",
      "sweep = stools.get_low_filter(fly_B1.signals['AMsysCh1'][st:st+rng],5000)[::5]\n",
      "plot(times[::5],sweep,color = 'k',lw = 0.3)\n",
      "ax2 = subplot(2,1,2,sharex = ax1)\n",
      "sweep = stools.get_low_filter(fly_B2.signals['AMsysCh1'][st:st+rng],5000)[::5]\n",
      "plot(times[::5],sweep,color = 'k',lw = 0.3)"
     ],
     "language": "python",
     "metadata": {},
     "outputs": [
      {
       "output_type": "pyout",
       "prompt_number": 4,
       "text": [
        "[<matplotlib.lines.Line2D at 0x151ee1850>]"
       ]
      }
     ],
     "prompt_number": 4
    },
    {
     "cell_type": "code",
     "collapsed": false,
     "input": [
      "sig_slice = slice(0,10)\n",
      "B1_sig = stools.get_trials(fly_B1,2,ipsi_pole,sig_slice,'AMsysCh1')\n",
      "B2_sig = stools.get_trials(fly_B2,2,ipsi_pole,sig_slice,'AMsysCh1')\n",
      "B1_wb = stools.get_trials(fly_B1,2,ipsi_pole,sig_slice,'wb_phase')\n",
      "B2_wb = stools.get_trials(fly_B2,2,ipsi_pole,sig_slice,'wb_phase')"
     ],
     "language": "python",
     "metadata": {},
     "outputs": [
      {
       "ename": "NameError",
       "evalue": "name 'ipsi_pole' is not defined",
       "output_type": "pyerr",
       "traceback": [
        "\u001b[0;31m---------------------------------------------------------------------------\u001b[0m\n\u001b[0;31mNameError\u001b[0m                                 Traceback (most recent call last)",
        "\u001b[0;32m<ipython-input-42-b794dfb5173f>\u001b[0m in \u001b[0;36m<module>\u001b[0;34m()\u001b[0m\n\u001b[1;32m      1\u001b[0m \u001b[0msig_slice\u001b[0m \u001b[0;34m=\u001b[0m \u001b[0mslice\u001b[0m\u001b[0;34m(\u001b[0m\u001b[0;36m0\u001b[0m\u001b[0;34m,\u001b[0m\u001b[0;36m10\u001b[0m\u001b[0;34m)\u001b[0m\u001b[0;34m\u001b[0m\u001b[0m\n\u001b[0;32m----> 2\u001b[0;31m \u001b[0mB1_sig\u001b[0m \u001b[0;34m=\u001b[0m \u001b[0mstools\u001b[0m\u001b[0;34m.\u001b[0m\u001b[0mget_trials\u001b[0m\u001b[0;34m(\u001b[0m\u001b[0mfly_B1\u001b[0m\u001b[0;34m,\u001b[0m\u001b[0;36m2\u001b[0m\u001b[0;34m,\u001b[0m\u001b[0mipsi_pole\u001b[0m\u001b[0;34m,\u001b[0m\u001b[0msig_slice\u001b[0m\u001b[0;34m,\u001b[0m\u001b[0;34m'AMsysCh1'\u001b[0m\u001b[0;34m)\u001b[0m\u001b[0;34m\u001b[0m\u001b[0m\n\u001b[0m\u001b[1;32m      3\u001b[0m \u001b[0mB2_sig\u001b[0m \u001b[0;34m=\u001b[0m \u001b[0mstools\u001b[0m\u001b[0;34m.\u001b[0m\u001b[0mget_trials\u001b[0m\u001b[0;34m(\u001b[0m\u001b[0mfly_B2\u001b[0m\u001b[0;34m,\u001b[0m\u001b[0;36m2\u001b[0m\u001b[0;34m,\u001b[0m\u001b[0mipsi_pole\u001b[0m\u001b[0;34m,\u001b[0m\u001b[0msig_slice\u001b[0m\u001b[0;34m,\u001b[0m\u001b[0;34m'AMsysCh1'\u001b[0m\u001b[0;34m)\u001b[0m\u001b[0;34m\u001b[0m\u001b[0m\n\u001b[1;32m      4\u001b[0m \u001b[0mB1_wb\u001b[0m \u001b[0;34m=\u001b[0m \u001b[0mstools\u001b[0m\u001b[0;34m.\u001b[0m\u001b[0mget_trials\u001b[0m\u001b[0;34m(\u001b[0m\u001b[0mfly_B1\u001b[0m\u001b[0;34m,\u001b[0m\u001b[0;36m2\u001b[0m\u001b[0;34m,\u001b[0m\u001b[0mipsi_pole\u001b[0m\u001b[0;34m,\u001b[0m\u001b[0msig_slice\u001b[0m\u001b[0;34m,\u001b[0m\u001b[0;34m'wb_phase'\u001b[0m\u001b[0;34m)\u001b[0m\u001b[0;34m\u001b[0m\u001b[0m\n\u001b[1;32m      5\u001b[0m \u001b[0mB2_wb\u001b[0m \u001b[0;34m=\u001b[0m \u001b[0mstools\u001b[0m\u001b[0;34m.\u001b[0m\u001b[0mget_trials\u001b[0m\u001b[0;34m(\u001b[0m\u001b[0mfly_B2\u001b[0m\u001b[0;34m,\u001b[0m\u001b[0;36m2\u001b[0m\u001b[0;34m,\u001b[0m\u001b[0mipsi_pole\u001b[0m\u001b[0;34m,\u001b[0m\u001b[0msig_slice\u001b[0m\u001b[0;34m,\u001b[0m\u001b[0;34m'wb_phase'\u001b[0m\u001b[0;34m)\u001b[0m\u001b[0;34m\u001b[0m\u001b[0m\n",
        "\u001b[0;31mNameError\u001b[0m: name 'ipsi_pole' is not defined"
       ]
      }
     ],
     "prompt_number": 42
    },
    {
     "cell_type": "code",
     "collapsed": false,
     "input": [
      "st = 110000\n",
      "rng = 5000\n",
      "subslice_sig_B1 = B1_sig[0][st:st+rng]\n",
      "subslice_phase_B1 = B1_wb[0][st:st+rng]\n",
      "subslice_sig_B2 = B2_sig[0][st:st+rng]\n",
      "subslice_phase_B2 = B2_wb[0][st:st+rng]\n",
      "ax0 = subplot(2,1,1)\n",
      "colorline(arange(0,len(subslice_sig_B1)),subslice_sig_B1,subslice_phase_B1/(np.pi*2))\n",
      "ax1 = subplot(2,1,2,sharex = ax0)\n",
      "colorline(arange(0,len(subslice_sig_B2)),subslice_sig_B2,subslice_phase_B2/(np.pi*2))\n",
      "ax0.set_xbound(0,5000)\n",
      "ax0.set_ybound(-50,50)\n",
      "ax1.set_ybound(-50,50)\n",
      "draw()"
     ],
     "language": "python",
     "metadata": {},
     "outputs": [],
     "prompt_number": 147
    },
    {
     "cell_type": "code",
     "collapsed": false,
     "input": [],
     "language": "python",
     "metadata": {},
     "outputs": [],
     "prompt_number": 136
    },
    {
     "cell_type": "code",
     "collapsed": false,
     "input": [
      "ax0 = subplot(4,1,1)\n",
      "plot(B1_wb[0])\n",
      "\n",
      "ax1 = subplot(4,1,2,sharex = ax0)\n",
      "plot((B1_wb[0]-(np.pi))*10)\n",
      "plot(B1_sig[0])\n",
      "\n",
      "ax2 = subplot(4,1,3,sharex = ax0)\n",
      "plot(B2_wb[9])\n",
      "\n",
      "ax2 = subplot(4,1,4,sharex = ax0)\n",
      "plot(B2_sig[9])"
     ],
     "language": "python",
     "metadata": {},
     "outputs": [
      {
       "output_type": "pyout",
       "prompt_number": 107,
       "text": [
        "[<matplotlib.lines.Line2D at 0x18dfe99d0>]"
       ]
      }
     ],
     "prompt_number": 107
    },
    {
     "cell_type": "code",
     "collapsed": false,
     "input": [
      "fly_B1.processed_signals.keys()"
     ],
     "language": "python",
     "metadata": {},
     "outputs": [
      {
       "output_type": "pyout",
       "prompt_number": 101,
       "text": [
        "['LeftAmp',\n",
        " 'RightAmp',\n",
        " 'wb_flips',\n",
        " 'spike_pool',\n",
        " 'spike_mask',\n",
        " 'spk_wbs',\n",
        " 'wb_peaks',\n",
        " 'spk_phases',\n",
        " 'flight_mask',\n",
        " 'wb_phase']"
       ]
      }
     ],
     "prompt_number": 101
    },
    {
     "cell_type": "code",
     "collapsed": false,
     "input": [],
     "language": "python",
     "metadata": {},
     "outputs": []
    },
    {
     "cell_type": "code",
     "collapsed": false,
     "input": [
      "ex_map = {\n",
      "         27:{'ipsi_pole':5 ,\n",
      "             'contra_pole':11,\n",
      "             'ipsi_key':'LeftAmp',\n",
      "             'contra_key':'RightAmp'},\n",
      "         28:{'ipsi_pole':5 ,\n",
      "             'contra_pole':11,\n",
      "             'ipsi_key':'LeftAmp',\n",
      "             'contra_key':'RightAmp'},\n",
      "         29:{'ipsi_pole':5 ,\n",
      "             'contra_pole':11,\n",
      "             'ipsi_key':'LeftAmp',\n",
      "             'contra_key':'RightAmp'},\n",
      "         32:{'ipsi_pole':5 ,\n",
      "             'contra_pole':11,\n",
      "             'ipsi_key':'LeftAmp',\n",
      "             'contra_key':'RightAmp'},\n",
      "         33:{'ipsi_pole':5 ,\n",
      "             'contra_pole':11,\n",
      "             'ipsi_key':'LeftAmp',\n",
      "             'contra_key':'RightAmp'},\n",
      "         35:{'ipsi_pole':5 ,\n",
      "             'contra_pole':11,\n",
      "             'ipsi_key':'LeftAmp',\n",
      "             'contra_key':'RightAmp'},\n",
      "         36:{'ipsi_pole':5 ,\n",
      "             'contra_pole':11,\n",
      "             'ipsi_key':'LeftAmp',\n",
      "             'contra_key':'RightAmp'},\n",
      "         37:{'ipsi_pole':5 ,\n",
      "             'contra_pole':11,\n",
      "             'ipsi_key':'LeftAmp',\n",
      "             'contra_key':'RightAmp'},\n",
      "         38:{'ipsi_pole':5 ,\n",
      "             'contra_pole':11,\n",
      "             'ipsi_key':'LeftAmp',\n",
      "             'contra_key':'RightAmp'},\n",
      "         40:{'ipsi_pole':5 ,\n",
      "             'contra_pole':11,\n",
      "             'ipsi_key':'LeftAmp',\n",
      "             'contra_key':'RightAmp'},\n",
      "         41:{'ipsi_pole':5 ,\n",
      "             'contra_pole':11,\n",
      "             'ipsi_key':'LeftAmp',\n",
      "             'contra_key':'RightAmp'},\n",
      "         42:{'ipsi_pole':5 ,\n",
      "             'contra_pole':11,\n",
      "             'ipsi_key':'LeftAmp',\n",
      "             'contra_key':'RightAmp'},\n",
      "         43:{'ipsi_pole':5 ,\n",
      "             'contra_pole':11,\n",
      "             'ipsi_key':'LeftAmp',\n",
      "             'contra_key':'RightAmp'},\n",
      "         44:{'ipsi_pole':5 ,\n",
      "             'contra_pole':11,\n",
      "             'ipsi_key':'LeftAmp',\n",
      "             'contra_key':'RightAmp'},\n",
      "         45:{'ipsi_pole':5 ,\n",
      "             'contra_pole':11,\n",
      "             'ipsi_key':'LeftAmp',\n",
      "             'contra_key':'RightAmp'},\n",
      "         47:{'ipsi_pole':5 ,\n",
      "             'contra_pole':11,\n",
      "             'ipsi_key':'LeftAmp',\n",
      "             'contra_key':'RightAmp'},\n",
      "         49:{'ipsi_pole':11 ,\n",
      "             'contra_pole':5,\n",
      "             'ipsi_key':'RightAmp',\n",
      "             'contra_key':'LeftAmp'}\n",
      "        }"
     ],
     "language": "python",
     "metadata": {},
     "outputs": [],
     "prompt_number": 5
    },
    {
     "cell_type": "code",
     "collapsed": false,
     "input": [
      "flynum = 38\n",
      "ipsi_pole = ex_map[flynum]['ipsi_pole'] \n",
      "contra_pole = ex_map[flynum]['contra_pole'] \n",
      "ipsi_key = ex_map[flynum]['ipsi_key']\n",
      "contra_key = ex_map[flynum]['contra_key']"
     ],
     "language": "python",
     "metadata": {},
     "outputs": [],
     "prompt_number": 6
    },
    {
     "cell_type": "code",
     "collapsed": false,
     "input": [
      "print(\"loading phase rasters\")\n",
      "spk_rasters_i_B2 = extract_ol_spike_rasters(fly_B2,ipsi_pole,ipsi_key,contra_key)\n",
      "spk_rasters_c_B2 = extract_ol_spike_rasters(fly_B2,contra_pole,ipsi_key,contra_key)\n",
      "spk_rasters_i_B1 = extract_ol_spike_rasters(fly_B1,ipsi_pole,ipsi_key,contra_key)\n",
      "spk_rasters_c_B1 = extract_ol_spike_rasters(fly_B1,contra_pole,ipsi_key,contra_key)"
     ],
     "language": "python",
     "metadata": {},
     "outputs": [
      {
       "output_type": "stream",
       "stream": "stdout",
       "text": [
        "loading phase rasters\n",
        "[219]"
       ]
      },
      {
       "output_type": "stream",
       "stream": "stdout",
       "text": [
        " [619]\n",
        "[910]"
       ]
      },
      {
       "output_type": "stream",
       "stream": "stdout",
       "text": [
        " [1258]\n",
        "[1518]"
       ]
      },
      {
       "output_type": "stream",
       "stream": "stdout",
       "text": [
        " [1768]\n",
        "[1775]"
       ]
      },
      {
       "output_type": "stream",
       "stream": "stdout",
       "text": [
        " [1876]\n",
        "[2060]"
       ]
      },
      {
       "output_type": "stream",
       "stream": "stdout",
       "text": [
        " [2284]\n",
        "[2284]"
       ]
      },
      {
       "output_type": "stream",
       "stream": "stdout",
       "text": [
        " [2418]\n",
        "[2677]"
       ]
      },
      {
       "output_type": "stream",
       "stream": "stdout",
       "text": [
        " [2937]\n",
        "[2960]"
       ]
      },
      {
       "output_type": "stream",
       "stream": "stdout",
       "text": [
        " [3136]\n",
        "[3342]"
       ]
      },
      {
       "output_type": "stream",
       "stream": "stdout",
       "text": [
        " [3524]\n",
        "[3524]"
       ]
      },
      {
       "output_type": "stream",
       "stream": "stdout",
       "text": [
        " [3696]\n",
        "[4174]"
       ]
      },
      {
       "output_type": "stream",
       "stream": "stdout",
       "text": [
        " [4258]\n",
        "[4258]"
       ]
      },
      {
       "output_type": "stream",
       "stream": "stdout",
       "text": [
        " [4433]\n",
        "[4584]"
       ]
      },
      {
       "output_type": "stream",
       "stream": "stdout",
       "text": [
        " [4740]\n",
        "[4905]"
       ]
      },
      {
       "output_type": "stream",
       "stream": "stdout",
       "text": [
        " [5044]\n",
        "[5044]"
       ]
      },
      {
       "output_type": "stream",
       "stream": "stdout",
       "text": [
        " [5107]\n",
        "[5129]"
       ]
      },
      {
       "output_type": "stream",
       "stream": "stdout",
       "text": [
        " [5197]\n",
        "[5197]"
       ]
      },
      {
       "output_type": "stream",
       "stream": "stdout",
       "text": [
        " [5261]\n",
        "[5261]"
       ]
      },
      {
       "output_type": "stream",
       "stream": "stdout",
       "text": [
        " [5319]\n",
        "[5497]"
       ]
      },
      {
       "output_type": "stream",
       "stream": "stdout",
       "text": [
        " [5572]\n",
        "[5692]"
       ]
      },
      {
       "output_type": "stream",
       "stream": "stdout",
       "text": [
        " [5781]\n",
        "[0, 1, 2, 3, 4, 5, 6, 7, 8, 9, 10, 11, 12, 13, 14, 15, 16, 17, 18, 19]"
       ]
      },
      {
       "output_type": "stream",
       "stream": "stdout",
       "text": [
        "\n",
        "[119]"
       ]
      },
      {
       "output_type": "stream",
       "stream": "stdout",
       "text": [
        " [219]\n",
        "[620]"
       ]
      },
      {
       "output_type": "stream",
       "stream": "stdout",
       "text": [
        " [910]\n",
        "[1258]"
       ]
      },
      {
       "output_type": "stream",
       "stream": "stdout",
       "text": [
        " [1518]\n",
        "[1768]"
       ]
      },
      {
       "output_type": "stream",
       "stream": "stdout",
       "text": [
        " [1775]\n",
        "[1876]"
       ]
      },
      {
       "output_type": "stream",
       "stream": "stdout",
       "text": [
        " [2060]\n",
        "[2418]"
       ]
      },
      {
       "output_type": "stream",
       "stream": "stdout",
       "text": [
        " [2677]\n",
        "[2937]"
       ]
      },
      {
       "output_type": "stream",
       "stream": "stdout",
       "text": [
        " [2960]\n",
        "[3136]"
       ]
      },
      {
       "output_type": "stream",
       "stream": "stdout",
       "text": [
        " [3342]\n",
        "[3697]"
       ]
      },
      {
       "output_type": "stream",
       "stream": "stdout",
       "text": [
        " [3743]\n",
        "[3743]"
       ]
      },
      {
       "output_type": "stream",
       "stream": "stdout",
       "text": [
        " [3944]\n",
        "[3944]"
       ]
      },
      {
       "output_type": "stream",
       "stream": "stdout",
       "text": [
        " [4174]\n",
        "[4434]"
       ]
      },
      {
       "output_type": "stream",
       "stream": "stdout",
       "text": [
        " [4546]\n",
        "[4546]"
       ]
      },
      {
       "output_type": "stream",
       "stream": "stdout",
       "text": [
        " [4584]\n",
        "[4740]"
       ]
      },
      {
       "output_type": "stream",
       "stream": "stdout",
       "text": [
        " [4904]\n",
        "[5107]"
       ]
      },
      {
       "output_type": "stream",
       "stream": "stdout",
       "text": [
        " [5129]\n",
        "[5319]"
       ]
      },
      {
       "output_type": "stream",
       "stream": "stdout",
       "text": [
        " [5403]\n",
        "[5403]"
       ]
      },
      {
       "output_type": "stream",
       "stream": "stdout",
       "text": [
        " [5497]\n",
        "[5572]"
       ]
      },
      {
       "output_type": "stream",
       "stream": "stdout",
       "text": [
        " [5634]\n",
        "[5634]"
       ]
      },
      {
       "output_type": "stream",
       "stream": "stdout",
       "text": [
        " [5691]\n",
        "[5781]"
       ]
      },
      {
       "output_type": "stream",
       "stream": "stdout",
       "text": [
        " [5871]\n",
        "[0, 1, 2, 3, 4, 5, 6, 7, 8, 9, 10, 11, 12, 13, 14, 15, 16, 17, 18, 19]"
       ]
      },
      {
       "output_type": "stream",
       "stream": "stdout",
       "text": [
        "\n",
        "[670]"
       ]
      },
      {
       "output_type": "stream",
       "stream": "stdout",
       "text": [
        " [2435]\n",
        "[4302]"
       ]
      },
      {
       "output_type": "stream",
       "stream": "stdout",
       "text": [
        " [6091]\n",
        "[7875]"
       ]
      },
      {
       "output_type": "stream",
       "stream": "stdout",
       "text": [
        " [9723]\n",
        "[9722]"
       ]
      },
      {
       "output_type": "stream",
       "stream": "stdout",
       "text": [
        " [11465]\n",
        "[11464]"
       ]
      },
      {
       "output_type": "stream",
       "stream": "stdout",
       "text": [
        " [13336]\n",
        "[18668]"
       ]
      },
      {
       "output_type": "stream",
       "stream": "stdout",
       "text": [
        " [20416]\n",
        "[25654]"
       ]
      },
      {
       "output_type": "stream",
       "stream": "stdout",
       "text": [
        " [27473]\n",
        "[27476]"
       ]
      },
      {
       "output_type": "stream",
       "stream": "stdout",
       "text": [
        " [29208]\n",
        "[29211]"
       ]
      },
      {
       "output_type": "stream",
       "stream": "stdout",
       "text": [
        " [30954]\n",
        "[30957]"
       ]
      },
      {
       "output_type": "stream",
       "stream": "stdout",
       "text": [
        " [32675]\n",
        "[37977]"
       ]
      },
      {
       "output_type": "stream",
       "stream": "stdout",
       "text": [
        " [39723]\n",
        "[43209]"
       ]
      },
      {
       "output_type": "stream",
       "stream": "stdout",
       "text": [
        " [44987]\n",
        "[46733]"
       ]
      },
      {
       "output_type": "stream",
       "stream": "stdout",
       "text": [
        " [48505]\n",
        "[48510]"
       ]
      },
      {
       "output_type": "stream",
       "stream": "stdout",
       "text": [
        " [50176]\n",
        "[50180]"
       ]
      },
      {
       "output_type": "stream",
       "stream": "stdout",
       "text": [
        " [51911]\n",
        "[53659]"
       ]
      },
      {
       "output_type": "stream",
       "stream": "stdout",
       "text": [
        " [55446]\n",
        "[57204]"
       ]
      },
      {
       "output_type": "stream",
       "stream": "stdout",
       "text": [
        " [58936]\n",
        "[60679]"
       ]
      },
      {
       "output_type": "stream",
       "stream": "stdout",
       "text": [
        " [62429]\n",
        "[62433]"
       ]
      },
      {
       "output_type": "stream",
       "stream": "stdout",
       "text": [
        " [64076]\n",
        "[69353]"
       ]
      },
      {
       "output_type": "stream",
       "stream": "stdout",
       "text": [
        " [71082]\n",
        "[0, 1, 2, 3, 4, 5, 6, 7, 8, 9, 10, 11, 12, 13, 14, 15, 16, 17, 18, 19]"
       ]
      },
      {
       "output_type": "stream",
       "stream": "stdout",
       "text": [
        "\n",
        "[2440]"
       ]
      },
      {
       "output_type": "stream",
       "stream": "stdout",
       "text": [
        " [4299]\n",
        "[6098]"
       ]
      },
      {
       "output_type": "stream",
       "stream": "stdout",
       "text": [
        " [7876]\n",
        "[13340]"
       ]
      },
      {
       "output_type": "stream",
       "stream": "stdout",
       "text": [
        " [15148]\n",
        "[15153]"
       ]
      },
      {
       "output_type": "stream",
       "stream": "stdout",
       "text": [
        " [16878]\n",
        "[16878]"
       ]
      },
      {
       "output_type": "stream",
       "stream": "stdout",
       "text": [
        " [18662]\n",
        "[20416]"
       ]
      },
      {
       "output_type": "stream",
       "stream": "stdout",
       "text": [
        " [22197]\n",
        "[22197]"
       ]
      },
      {
       "output_type": "stream",
       "stream": "stdout",
       "text": [
        " [23833]\n",
        "[23840]"
       ]
      },
      {
       "output_type": "stream",
       "stream": "stdout",
       "text": [
        " [25643]\n",
        "[32678]"
       ]
      },
      {
       "output_type": "stream",
       "stream": "stdout",
       "text": [
        " [34446]\n",
        "[34448]"
       ]
      },
      {
       "output_type": "stream",
       "stream": "stdout",
       "text": [
        " [36207]\n",
        "[36212]"
       ]
      },
      {
       "output_type": "stream",
       "stream": "stdout",
       "text": [
        " [37974]\n",
        "[39728]"
       ]
      },
      {
       "output_type": "stream",
       "stream": "stdout",
       "text": [
        " [41472]\n",
        "[41472]"
       ]
      },
      {
       "output_type": "stream",
       "stream": "stdout",
       "text": [
        " [43210]\n",
        "[44986]"
       ]
      },
      {
       "output_type": "stream",
       "stream": "stdout",
       "text": [
        " [46734]\n",
        "[51911]"
       ]
      },
      {
       "output_type": "stream",
       "stream": "stdout",
       "text": [
        " [53651]\n",
        "[55455]"
       ]
      },
      {
       "output_type": "stream",
       "stream": "stdout",
       "text": [
        " [57204]\n",
        "[58941]"
       ]
      },
      {
       "output_type": "stream",
       "stream": "stdout",
       "text": [
        " [60680]\n",
        "[64079]"
       ]
      },
      {
       "output_type": "stream",
       "stream": "stdout",
       "text": [
        " [65863]\n",
        "[65866]"
       ]
      },
      {
       "output_type": "stream",
       "stream": "stdout",
       "text": [
        " [67555]\n",
        "[67558]"
       ]
      },
      {
       "output_type": "stream",
       "stream": "stdout",
       "text": [
        " [69343]\n",
        "[0, 1, 2, 3, 4, 5, 6, 7, 8, 9, 10, 11, 12, 13, 14, 15, 16, 17, 18, 19]"
       ]
      },
      {
       "output_type": "stream",
       "stream": "stdout",
       "text": [
        "\n"
       ]
      }
     ],
     "prompt_number": 12
    },
    {
     "cell_type": "code",
     "collapsed": false,
     "input": [
      "###################\n",
      "#plot summary fig\n",
      "###################\n",
      "print(\"plotting summary fig\")\n",
      "\n",
      "sum_fig = figure(figsize = (8,3))\n",
      "\n",
      "dtimes = spk_rasters_i_B1[0]['down_times']\n",
      "ax_ipsi_stim = subplot(3,2,1)\n",
      "plot(dtimes,mean(vstack([array(rstr['down_x_pos']) for rstr in spk_rasters_i_B1]),axis = 0),color = 'k')\n",
      "ax_contra_stim = subplot(3,2,2,sharex = ax_ipsi_stim)\n",
      "plot(dtimes,mean(vstack([array(rstr['down_x_pos']) for rstr in spk_rasters_i_B1]),axis = 0),color = 'k')\n",
      "\n",
      "\n",
      "ax_B1_ipsi = subplot(3,2,3,sharex = ax_ipsi_stim)\n",
      "for rstr in spk_rasters_i_B1:\n",
      "    plot(rstr['f_spk_times'],rstr['f_spk_phases'],'o',alpha = 0.2,color = 'k')\n",
      "bins,med_phase,top_phase,bot_phase = time_bin_phases(spk_rasters_i_B1)\n",
      "plot(bins,med_phase,'o-',color ='r')\n",
      "ax_B1_ipsi_tw = ax_B1_ipsi.twinx()\n",
      "bins,freq = time_bin_freq(spk_rasters_i_B1)\n",
      "plot(bins,freq,'o-',color ='b')\n",
      "ax_B1_ipsi_tw.set_ybound(0,220)\n",
      "\n",
      "ax_B1_contra = subplot(3,2,4,sharex = ax_ipsi_stim)\n",
      "for rstr in spk_rasters_c_B1:\n",
      "    plot(rstr['f_spk_times'],rstr['f_spk_phases'],'o',alpha = 0.2,color = 'k')\n",
      "bins,med_phase,top_phase,bot_phase = time_bin_phases(spk_rasters_c_B1)\n",
      "plot(bins,med_phase,'o-',color ='r')\n",
      "ax_B1_ipsi.set_ybound(0,2*pi)\n",
      "ax_B1_contra.set_ybound(0,2*pi)\n",
      "ax_B1_ipsi.set_xbound(-0.8,0.1)\n",
      "ax_B1_contra.set_xbound(-0.8,0.1)\n",
      "\n",
      "\n",
      "ax_B2_ipsi = subplot(3,2,5,sharex = ax_ipsi_stim)\n",
      "for rstr in spk_rasters_i_B2:\n",
      "    plot(rstr['f_spk_times'],rstr['f_spk_phases'],'o',alpha = 0.2,color = 'k')\n",
      "bins,freq = time_bin_freq(spk_rasters_i_B2)\n",
      "ax_B2_ipsi_tw = ax_B2_ipsi.twinx()\n",
      "plot(bins,freq,'o-',color ='r')\n",
      "ax_B2_contra = subplot(3,2,6,sharex = ax_ipsi_stim)\n",
      "for rstr in spk_rasters_c_B2:\n",
      "    plot(rstr['f_spk_times'],rstr['f_spk_phases'],'o',alpha = 0.2,color = 'k')\n",
      "bins,freq = time_bin_freq(spk_rasters_c_B2)\n",
      "ax_B2_contra_tw = ax_B2_contra.twinx()\n",
      "plot(bins,freq,'o-',color ='r')\n",
      "\n",
      "ax_B2_ipsi.set_ybound(0,2*pi)\n",
      "ax_B2_contra.set_ybound(0,2*pi)\n",
      "\n",
      "ax_ipsi_stim.set_xbound(-0.8,0.1)\n",
      "ax_contra_stim.set_xbound(-0.8,0.1)\n",
      "ax_B2_ipsi.set_xbound(-0.8,0.1)\n",
      "ax_B2_contra.set_xbound(-0.8,0.1)\n",
      "\n",
      "\n",
      "\n",
      "\n",
      "#dtimes = spk_rasters_i[0]['down_times']\n",
      "#ax00 = subplot(4,2,1)\n",
      "#plot(dtimes,mean(vstack([array(rstr['down_x_pos']) for rstr in spk_rasters_i]),axis = 0))\n",
      "#ax01 = subplot(4,2,3,sharex = ax00)\n",
      "#plot(dtimes,mean(vstack([array(rstr['down_contra_amp']) for rstr in spk_rasters_i]),axis = 0))\n",
      "#plot(dtimes,mean(vstack([array(rstr['down_ipsi_amp']) for rstr in spk_rasters_i]),axis = 0))\n",
      "#ax02 = subplot(4,2,5,sharex = ax00)\n",
      "#phase_raster([r['f_spk_times'] for r in spk_rasters_i],[r['f_spk_phases'] for r in spk_rasters_i])\n",
      "\n",
      "#plot(bins,med_phase,'o-',color ='r')\n",
      "#plot(bins,top_phase,color ='r')\n",
      "#plot(bins,bot_phase,color ='r')\n",
      "\n",
      "\n",
      "\n",
      "#ax10 = subplot(4,2,2)\n",
      "#plot(dtimes,mean(vstack([array(rstr['down_x_pos']) for rstr in spk_rasters_c]),axis = 0))\n",
      "#ax11 = subplot(4,2,4,sharex = ax10)\n",
      "#plot(dtimes,mean(vstack([array(rstr['down_contra_amp']) for rstr in spk_rasters_c]),axis = 0))\n",
      "#plot(dtimes,mean(vstack([array(rstr['down_ipsi_amp']) for rstr in spk_rasters_c]),axis = 0))\n",
      "#ax12 = subplot(4,2,6,sharex = ax10)\n",
      "#phase_raster([r['f_spk_times'] for r in spk_rasters_c],[r['f_spk_phases'] for r in spk_rasters_c])\n",
      "\n",
      "#plot(bins,med_phase,'o-',color = 'r')\n",
      "#plot(bins,top_phase,color ='r')\n",
      "#plot(bins,bot_phase,color ='r')\n",
      "\n",
      "#ax00.set_xbound(-0.3,0.1)\n",
      "#ax10.set_xbound(-0.3,0.1)\n",
      "#ax00.set_ybound(0,3)\n",
      "#ax10.set_ybound(0,3)\n",
      "#ax01.set_ybound(0,10)\n",
      "#ax11.set_ybound(0,10)\n",
      "\n"
     ],
     "language": "python",
     "metadata": {},
     "outputs": [
      {
       "output_type": "stream",
       "stream": "stdout",
       "text": [
        "plotting summary fig\n"
       ]
      }
     ],
     "prompt_number": 167
    },
    {
     "cell_type": "code",
     "collapsed": false,
     "input": [
      "###################\n",
      "#fix the wb data\n",
      "###################\n",
      "\n",
      "print(\"correcting for short wingbeats\")\n",
      "\n",
      "\n",
      "wb_flips = fly_B1.processed_signals['wb_flips']\n",
      "fix_mask = hstack((diff(wb_flips)<60,array(True)))\n",
      "fixed_wb_flips = delete(wb_flips,argwhere(fix_mask))\n",
      "\n",
      "wb_peaks = fly_B1.processed_signals['wb_peaks']\n",
      "fix_mask = hstack((diff(wb_peaks)<60,array(True)))\n",
      "fixed_wb_peaks = delete(wb_peaks,argwhere(fix_mask))\n",
      "\n",
      "times = fly_B1.signals['LeftWing'].times\n",
      "sp = fly_B1.processed_signals['spike_pool']\n",
      "fly_B1.processed_signals['spk_wbs'] = stools.calc_spike_wbs(sp,fixed_wb_flips,times)\n",
      "\n",
      "L_h = fly_B1.signals['LeftWing']\n",
      "R_h = fly_B1.signals['RightWing']\n",
      "\n",
      "L_a = np.zeros_like(L_h)\n",
      "R_a = np.zeros_like(R_h)\n",
      "p0 = fixed_wb_peaks[0]\n",
      "for pk in fixed_wb_peaks[1:]:\n",
      "    L_a[p0:pk] = L_h[p0]\n",
      "    R_a[p0:pk] = R_h[p0]\n",
      "    p0 = pk\n",
      "L_a[0:fixed_wb_peaks[0]] = L_h[0]\n",
      "R_a[0:fixed_wb_peaks[0]] = R_h[0]\n",
      "L_a[fixed_wb_peaks[-1]:] = L_h[fixed_wb_peaks[-1]]\n",
      "R_a[fixed_wb_peaks[-1]:] = R_h[fixed_wb_peaks[-1]]\n",
      "\n",
      "fly_B1.processed_signals['wb_flips'] = fixed_wb_flips\n",
      "fly_B1.processed_signals['wb_peaks'] = fixed_wb_peaks\n",
      "fly_B1.processed_signals['LeftAmp'] = L_a\n",
      "fly_B1.processed_signals['RightAmp'] = R_a\n"
     ],
     "language": "python",
     "metadata": {},
     "outputs": [
      {
       "output_type": "stream",
       "stream": "stdout",
       "text": [
        "correcting for short wingbeats\n"
       ]
      }
     ],
     "prompt_number": 86
    },
    {
     "cell_type": "code",
     "collapsed": false,
     "input": [
      "def extract_ol_spike_rasters(fly,\n",
      "                             ypos,\n",
      "                             ipsi_key = 'LeftAmp',\n",
      "                             contra_key = 'RightAmp'):\n",
      "    trials = list()\n",
      "    #*********\n",
      "    sig_slice = slice(0,20)\n",
      "    \n",
      "    x_pos = stools.get_trials(fly,2,ypos,sig_slice,'Xpos')\n",
      "    e_sweeps = stools.get_trials(fly,2,ypos,sig_slice,'AMsysCh1')\n",
      "    spks = stools.get_trials(fly,2,ypos,sig_slice,'spike_pool')\n",
      "    spk_phases = [x.annotations['spk_phases'] for x in spks]\n",
      "    spk_masks = [x.annotations['spike_mask'] for x in spks]\n",
      "    spk_wb_idxs = [x.annotations['spk_wbs'] for x in spks]\n",
      "    flight_masks = stools.get_trials(fly,2,ypos,sig_slice,'flight_mask')\n",
      "    \n",
      "    full_flights = [x for x in range(len(flight_masks)) if not(np.mean(flight_masks[x]))]\n",
      "    \n",
      "    contra_amp = stools.get_trials(fly,2,ypos,sig_slice,ipsi_key)\n",
      "    ipsi_amp = stools.get_trials(fly,2,ypos,sig_slice,contra_key)\n",
      "    print full_flights\n",
      "    ##filter out the non flights\n",
      "    for trl_idx in full_flights:\n",
      "        swp_start = e_sweeps[trl_idx].times[0]\n",
      "        pre_col_epoch = -1*(int(fly.clepoch/fly.dt)+int(fly.olepoch/fly.dt)+1)*fly.dt\n",
      "        swp_times = e_sweeps[trl_idx].times - swp_start + pre_col_epoch\n",
      "        f_spk_times = list()\n",
      "        f_spk_phases = list()\n",
      "        f_spk_wbs = list()\n",
      "        ###filter out the masked spikes\n",
      "        for spt,phs,msk,wbs in zip(spks[trl_idx],spk_phases[trl_idx],spk_masks[trl_idx],spk_wb_idxs[trl_idx]):\n",
      "            if msk:\n",
      "                f_spk_times.append(spt-swp_start+pre_col_epoch)\n",
      "                f_spk_phases.append(phs)\n",
      "                f_spk_wbs.append(wbs)\n",
      "        #get the wingbeat amp data for each spike\n",
      "        f_spk_flips = fly.processed_signals['wb_flips'][np.array(f_spk_wbs,dtype=int)+1]\n",
      "        f_spk_ipsi_amp = fly.processed_signals[ipsi_key][f_spk_flips]\n",
      "        f_spk_contra_amp = fly.processed_signals[contra_key][f_spk_flips]\n",
      "        ###add a down-sampled time-array for each trial left/right wba and x-pos.\n",
      "        down_x_pos = x_pos[trl_idx][::10]\n",
      "        down_ipsi_amp = ipsi_amp[trl_idx][::10]\n",
      "        down_contra_amp = contra_amp[trl_idx][::10]\n",
      "        down_times = swp_times[::10]\n",
      "        trials.append({'f_spk_times':np.array(f_spk_times),\n",
      "                       'f_spk_phases':np.array(f_spk_phases),\n",
      "                       'f_spk_wbs':np.array(f_spk_wbs),\n",
      "                       'f_spk_flips':f_spk_flips,\n",
      "                       'f_spk_ipsi_amp':f_spk_ipsi_amp,\n",
      "                       'f_spk_contra_amp':f_spk_contra_amp,\n",
      "                       'down_x_pos':down_x_pos,\n",
      "                       'down_ipsi_amp':down_ipsi_amp,\n",
      "                       'down_contra_amp':down_contra_amp,\n",
      "                       'down_times':down_times})\n",
      "    return trials\n",
      "    \n",
      "def phase_raster(event_times_list,phase_list):\n",
      "    ax = gca()\n",
      "    for ith,trial in enumerate(zip(event_times_list,phase_list)):\n",
      "        colors = cm.jet(trial[1]/(2*np.pi))\n",
      "        vlines(trial[0],ith + 0.5, ith+ 1.5,color = colors)\n",
      "    return ax\n",
      "    \n",
      "def time_bin_phases(spk_rasters,\n",
      "                      start = -0.3,\n",
      "                      stop = 0.1,\n",
      "                      interval = 0.01):\n",
      "    cat_times = concatenate([r['f_spk_times'] for r in spk_rasters])\n",
      "    cat_phases = concatenate([r['f_spk_phases'] for r in spk_rasters])\n",
      "    cat_ipsi_amp = concatenate([r['f_spk_ipsi_amp'] for r in spk_rasters])\n",
      "    cat_contra_amp = concatenate([r['f_spk_contra_amp'] for r in spk_rasters])\n",
      "\n",
      "    bins = arange(start,stop,interval)\n",
      "    med_phase = list()\n",
      "    top_phase = list()\n",
      "    bot_phase = list()\n",
      "\n",
      "    for b in bins:\n",
      "        subsample = argwhere((cat_times>b) & (cat_times < b+interval))\n",
      "        med_phase.append(median(cat_phases[subsample]))\n",
      "        top_phase.append(percentile(cat_phases[subsample],90))\n",
      "        bot_phase.append(percentile(cat_phases[subsample],10))\n",
      "    \n",
      "    return bins+(interval/2.0),med_phase,top_phase,bot_phase\n",
      "\n",
      "def time_bin_freq(spk_rasters,\n",
      "                      start = -0.3,\n",
      "                      stop = 0.1,\n",
      "                      interval = 0.01):\n",
      "    cat_times = concatenate([r['f_spk_times'] for r in spk_rasters])\n",
      "    cat_phases = concatenate([r['f_spk_phases'] for r in spk_rasters])\n",
      "    cat_ipsi_amp = concatenate([r['f_spk_ipsi_amp'] for r in spk_rasters])\n",
      "    cat_contra_amp = concatenate([r['f_spk_contra_amp'] for r in spk_rasters])\n",
      "\n",
      "    bins = arange(start,stop,interval)\n",
      "    freq = list()\n",
      "\n",
      "    for b in bins:\n",
      "        subsample = argwhere((cat_times>b) & (cat_times < b+interval))\n",
      "        try:\n",
      "            freq.append(len(squeeze(subsample)))\n",
      "        except TypeError:\n",
      "            freq.append(0.0)\n",
      "    \n",
      "    return bins+(interval/2.0),array(freq)/(interval*len(spk_rasters))"
     ],
     "language": "python",
     "metadata": {},
     "outputs": [],
     "prompt_number": 85
    },
    {
     "cell_type": "code",
     "collapsed": false,
     "input": [
      "cat_phases_B1 = concatenate([r['f_spk_phases'][-200:-100]+0.6 for r in spk_rasters_i_B1])\n",
      "cat_phases_B2 = concatenate([r['f_spk_phases'][-200:-100] for r in spk_rasters_i_B2])"
     ],
     "language": "python",
     "metadata": {},
     "outputs": [],
     "prompt_number": 164
    },
    {
     "cell_type": "code",
     "collapsed": false,
     "input": [
      "[plot(r['f_spk_phases'][-200:-50]) for r in spk_rasters_i_B1]"
     ],
     "language": "python",
     "metadata": {},
     "outputs": [
      {
       "output_type": "pyout",
       "prompt_number": 155,
       "text": [
        "[[<matplotlib.lines.Line2D at 0x1612dd290>],\n",
        " [<matplotlib.lines.Line2D at 0x1612dd550>],\n",
        " [<matplotlib.lines.Line2D at 0x1612ddc10>],\n",
        " [<matplotlib.lines.Line2D at 0x1612e1290>],\n",
        " [<matplotlib.lines.Line2D at 0x1612e18d0>],\n",
        " [<matplotlib.lines.Line2D at 0x1612e1f10>],\n",
        " [<matplotlib.lines.Line2D at 0x1612ba590>],\n",
        " [<matplotlib.lines.Line2D at 0x1612babd0>],\n",
        " [<matplotlib.lines.Line2D at 0x1612e5250>],\n",
        " [<matplotlib.lines.Line2D at 0x1612e5890>],\n",
        " [<matplotlib.lines.Line2D at 0x1612e5ed0>],\n",
        " [<matplotlib.lines.Line2D at 0x1612b6550>],\n",
        " [<matplotlib.lines.Line2D at 0x1612b6b90>],\n",
        " [<matplotlib.lines.Line2D at 0x17f769210>],\n",
        " [<matplotlib.lines.Line2D at 0x1612baf90>],\n",
        " [<matplotlib.lines.Line2D at 0x17f769e90>],\n",
        " [<matplotlib.lines.Line2D at 0x17f77c510>],\n",
        " [<matplotlib.lines.Line2D at 0x17f77cb50>],\n",
        " [<matplotlib.lines.Line2D at 0x17f7671d0>],\n",
        " [<matplotlib.lines.Line2D at 0x17f767810>]]"
       ]
      }
     ],
     "prompt_number": 155
    },
    {
     "cell_type": "code",
     "collapsed": false,
     "input": [
      "ax1 = subplot(1,2,1,polar = True)\n",
      "o = histogram(cat_phases_B1,bins = 48,normed = True)\n",
      "y = hstack((o[0],o[0][0]))\n",
      "plot(o[1],y)\n",
      "ys = ax1.get_yaxis()\n",
      "ys.set_visible(False)\n",
      "ax2 = subplot(1,2,2,polar = True)\n",
      "o = histogram(cat_phases_B2,bins = 48,normed = True)\n",
      "y = hstack((o[0],o[0][0]))\n",
      "plot(o[1],y)\n",
      "ys = ax2.get_yaxis()\n",
      "ys.set_visible(False)"
     ],
     "language": "python",
     "metadata": {},
     "outputs": [],
     "prompt_number": 166
    },
    {
     "cell_type": "code",
     "collapsed": false,
     "input": [
      "subplot(1,1,1,polar = True)\n",
      "hist(cat_phases_B1,bins = 100)"
     ],
     "language": "python",
     "metadata": {},
     "outputs": [
      {
       "output_type": "pyout",
       "prompt_number": 148,
       "text": [
        "(array([   1.,    0.,    0.,    0.,    1.,    0.,    0.,    0.,    0.,\n",
        "          0.,    0.,    0.,    1.,    0.,    1.,    0.,    0.,    3.,\n",
        "          0.,    2.,    0.,    1.,    1.,    5.,    1.,    2.,    6.,\n",
        "          5.,    9.,   18.,   25.,   29.,   53.,   68.,  102.,  116.,\n",
        "        149.,  151.,  166.,  169.,  163.,  155.,  142.,  132.,   83.,\n",
        "         64.,   62.,   40.,   23.,   24.,    4.,    4.,    5.,    0.,\n",
        "          3.,    0.,    0.,    1.,    0.,    0.,    0.,    0.,    0.,\n",
        "          0.,    0.,    0.,    0.,    0.,    0.,    0.,    0.,    0.,\n",
        "          0.,    0.,    0.,    0.,    0.,    0.,    0.,    0.,    0.,\n",
        "          0.,    0.,    1.,    0.,    1.,    0.,    0.,    1.,    1.,\n",
        "          0.,    2.,    2.,    0.,    1.,    0.,    0.,    0.,    0.,    1.]),\n",
        " array([ 0.0159612 ,  0.07852988,  0.14109856,  0.20366724,  0.26623591,\n",
        "        0.32880459,  0.39137327,  0.45394195,  0.51651062,  0.5790793 ,\n",
        "        0.64164798,  0.70421666,  0.76678534,  0.82935401,  0.89192269,\n",
        "        0.95449137,  1.01706005,  1.07962872,  1.1421974 ,  1.20476608,\n",
        "        1.26733476,  1.32990344,  1.39247211,  1.45504079,  1.51760947,\n",
        "        1.58017815,  1.64274682,  1.7053155 ,  1.76788418,  1.83045286,\n",
        "        1.89302154,  1.95559021,  2.01815889,  2.08072757,  2.14329625,\n",
        "        2.20586492,  2.2684336 ,  2.33100228,  2.39357096,  2.45613964,\n",
        "        2.51870831,  2.58127699,  2.64384567,  2.70641435,  2.76898302,\n",
        "        2.8315517 ,  2.89412038,  2.95668906,  3.01925774,  3.08182641,\n",
        "        3.14439509,  3.20696377,  3.26953245,  3.33210112,  3.3946698 ,\n",
        "        3.45723848,  3.51980716,  3.58237584,  3.64494451,  3.70751319,\n",
        "        3.77008187,  3.83265055,  3.89521922,  3.9577879 ,  4.02035658,\n",
        "        4.08292526,  4.14549394,  4.20806261,  4.27063129,  4.33319997,\n",
        "        4.39576865,  4.45833732,  4.520906  ,  4.58347468,  4.64604336,\n",
        "        4.70861204,  4.77118071,  4.83374939,  4.89631807,  4.95888675,\n",
        "        5.02145543,  5.0840241 ,  5.14659278,  5.20916146,  5.27173014,\n",
        "        5.33429881,  5.39686749,  5.45943617,  5.52200485,  5.58457353,\n",
        "        5.6471422 ,  5.70971088,  5.77227956,  5.83484824,  5.89741691,\n",
        "        5.95998559,  6.02255427,  6.08512295,  6.14769163,  6.2102603 ,\n",
        "        6.27282898]),\n",
        " <a list of 100 Patch objects>)"
       ]
      }
     ],
     "prompt_number": 148
    },
    {
     "cell_type": "code",
     "collapsed": false,
     "input": [
      "plot(resp)"
     ],
     "language": "python",
     "metadata": {},
     "outputs": [
      {
       "output_type": "pyout",
       "prompt_number": 129,
       "text": [
        "[<matplotlib.lines.Line2D at 0x147bdec50>]"
       ]
      }
     ],
     "prompt_number": 129
    },
    {
     "cell_type": "code",
     "collapsed": false,
     "input": [],
     "language": "python",
     "metadata": {},
     "outputs": [
      {
       "output_type": "pyout",
       "prompt_number": 145,
       "text": [
        "[<matplotlib.lines.Line2D at 0x17a38aa90>]"
       ]
      }
     ],
     "prompt_number": 145
    },
    {
     "cell_type": "code",
     "collapsed": false,
     "input": [
      "o = hist(cat_phases)"
     ],
     "language": "python",
     "metadata": {},
     "outputs": [],
     "prompt_number": 97
    },
    {
     "cell_type": "code",
     "collapsed": false,
     "input": [
      "ifreq = [diff(x['f_spk_times']) for x in sr]"
     ],
     "language": "python",
     "metadata": {},
     "outputs": [],
     "prompt_number": 78
    },
    {
     "cell_type": "code",
     "collapsed": false,
     "input": [
      "plot(ifreq[0])"
     ],
     "language": "python",
     "metadata": {},
     "outputs": [
      {
       "output_type": "pyout",
       "prompt_number": 80,
       "text": [
        "[<matplotlib.lines.Line2D at 0x16dc48890>]"
       ]
      }
     ],
     "prompt_number": 80
    },
    {
     "cell_type": "code",
     "collapsed": false,
     "input": [
      "[plot(y['f_spk_times'][:-1],x) for x,y in zip(ifreq,sr)]"
     ],
     "language": "python",
     "metadata": {},
     "outputs": [
      {
       "output_type": "pyout",
       "prompt_number": 77,
       "text": [
        "[[<matplotlib.lines.Line2D at 0x132c8be50>],\n",
        " [<matplotlib.lines.Line2D at 0x132ca6110>],\n",
        " [<matplotlib.lines.Line2D at 0x132ca67d0>],\n",
        " [<matplotlib.lines.Line2D at 0x132ca6e10>],\n",
        " [<matplotlib.lines.Line2D at 0x132cac490>],\n",
        " [<matplotlib.lines.Line2D at 0x132cacad0>],\n",
        " [<matplotlib.lines.Line2D at 0x17c76f150>],\n",
        " [<matplotlib.lines.Line2D at 0x132cbded0>],\n",
        " [<matplotlib.lines.Line2D at 0x17c76fdd0>],\n",
        " [<matplotlib.lines.Line2D at 0x17c762450>],\n",
        " [<matplotlib.lines.Line2D at 0x17c762a90>],\n",
        " [<matplotlib.lines.Line2D at 0x17c753110>],\n",
        " [<matplotlib.lines.Line2D at 0x17c753750>],\n",
        " [<matplotlib.lines.Line2D at 0x17c753d90>],\n",
        " [<matplotlib.lines.Line2D at 0x17c76fc10>],\n",
        " [<matplotlib.lines.Line2D at 0x17c747a50>],\n",
        " [<matplotlib.lines.Line2D at 0x17c75e0d0>],\n",
        " [<matplotlib.lines.Line2D at 0x17c75e710>],\n",
        " [<matplotlib.lines.Line2D at 0x17c75ed50>],\n",
        " [<matplotlib.lines.Line2D at 0x17c7663d0>]]"
       ]
      }
     ],
     "prompt_number": 77
    },
    {
     "cell_type": "code",
     "collapsed": false,
     "input": [
      "import numpy as np\n",
      "import matplotlib.pyplot as plt\n",
      "from matplotlib.collections import LineCollection\n",
      "from matplotlib.colors import ListedColormap, BoundaryNorm\n",
      "# Data manipulation:\n",
      "\n",
      "def make_segments(x, y):\n",
      "    '''\n",
      "    Create list of line segments from x and y coordinates, in the correct format for LineCollection:\n",
      "    an array of the form   numlines x (points per line) x 2 (x and y) array\n",
      "    '''\n",
      "\n",
      "    points = np.array([x, y]).T.reshape(-1, 1, 2)\n",
      "    segments = np.concatenate([points[:-1], points[1:]], axis=1)\n",
      "    \n",
      "    return segments\n",
      "\n",
      "\n",
      "# Interface to LineCollection:\n",
      "\n",
      "def colorline(x, y, z=None, cmap=plt.get_cmap('copper'), norm=plt.Normalize(0.0, 1.0), linewidth=3, alpha=1.0):\n",
      "    '''\n",
      "    Plot a colored line with coordinates x and y\n",
      "    Optionally specify colors in the array z\n",
      "    Optionally specify a colormap, a norm function and a line width\n",
      "    '''\n",
      "    \n",
      "    # Default colors equally spaced on [0,1]:\n",
      "    if z is None:\n",
      "        z = np.linspace(0.0, 1.0, len(x))\n",
      "           \n",
      "    # Special case if a single number:\n",
      "    if not hasattr(z, \"__iter__\"):  # to check for numerical input -- this is a hack\n",
      "        z = np.array([z])\n",
      "        \n",
      "    z = np.asarray(z)\n",
      "    \n",
      "    segments = make_segments(x, y)\n",
      "    lc = LineCollection(segments, array=z, cmap=cmap, norm=norm, linewidth=linewidth, alpha=alpha)\n",
      "    \n",
      "    ax = plt.gca()\n",
      "    ax.add_collection(lc)\n",
      "    \n",
      "    return lc\n",
      "        \n",
      "    \n",
      "def clear_frame(ax=None): \n",
      "    # Taken from a post by Tony S Yu\n",
      "    if ax is None: \n",
      "        ax = plt.gca() \n",
      "    ax.xaxis.set_visible(False) \n",
      "    ax.yaxis.set_visible(False) \n",
      "    for spine in ax.spines.itervalues(): \n",
      "        spine.set_visible(False) "
     ],
     "language": "python",
     "metadata": {},
     "outputs": [],
     "prompt_number": 115
    },
    {
     "cell_type": "code",
     "collapsed": false,
     "input": [
      "spk_rasters_i_B2[0].keys()"
     ],
     "language": "python",
     "metadata": {},
     "outputs": [
      {
       "output_type": "pyout",
       "prompt_number": 17,
       "text": [
        "['down_x_pos',\n",
        " 'down_times',\n",
        " 'f_spk_phases',\n",
        " 'f_spk_ipsi_amp',\n",
        " 'down_ipsi_amp',\n",
        " 'f_spk_times',\n",
        " 'f_spk_wbs',\n",
        " 'down_contra_amp',\n",
        " 'f_spk_flips',\n",
        " 'f_spk_contra_amp']"
       ]
      }
     ],
     "prompt_number": 17
    },
    {
     "cell_type": "code",
     "collapsed": false,
     "input": [
      "spk_rasters_i_B2[0]['f_spk_phases']"
     ],
     "language": "python",
     "metadata": {},
     "outputs": [
      {
       "output_type": "pyout",
       "prompt_number": 18,
       "text": [
        "array([ 1.08724659,  0.24970388,  3.11597146,  0.09055213,  1.00966177,\n",
        "        0.37326149,  0.140801  ,  4.3973959 ,  5.42343944,  5.57791311,\n",
        "        2.99876369,  0.6542615 ,  0.89386365,  4.06934089,  5.47196001,\n",
        "        1.34788132,  3.53175599,  2.62147572,  1.12074387,  2.62543838,\n",
        "        0.88472845,  5.89437324,  3.31895598,  3.15131025,  0.71333784,\n",
        "        1.64796523,  0.08125348,  1.14767684,  3.76569924,  5.41760803,\n",
        "        2.50082756,  3.21337085,  2.46087227,  0.25763171,  5.34042787,\n",
        "        1.50637763,  1.27034359,  2.82270391,  0.3736628 ,  1.415009  ,\n",
        "        3.05935818,  0.41259699,  4.95575965,  6.14714591,  0.26943926,\n",
        "        1.08704019,  4.56500351,  5.80530802,  2.74022752,  4.18520838,\n",
        "        1.04154724,  0.68864943,  3.9942269 ,  4.38420022,  5.74824019,\n",
        "        2.99928996,  4.72392411,  3.35391661,  1.15689984,  1.10034602,\n",
        "        5.62523747,  4.72704947,  5.51131374,  4.77492738,  5.76780499,\n",
        "        1.95953004,  4.15418056,  2.80956019,  2.26973644,  4.50957845,\n",
        "        5.96738665,  0.75866936,  4.66287325,  4.6731975 ,  3.43936889,\n",
        "        1.28624559,  0.97382516,  5.33031809,  1.29170632,  3.35172967,\n",
        "        4.18579951,  6.15453712,  3.58655177,  3.46168609,  6.19390844,\n",
        "        1.2784248 ,  3.09425934,  1.8382877 ,  4.88059258,  6.13684189,\n",
        "        5.50420686,  5.67046832,  5.31151819,  2.82006645,  1.80024409,\n",
        "        1.15384378,  0.12857523,  4.10714599,  1.44048887,  5.9407682 ,\n",
        "        5.7794273 ,  1.19118886,  5.7523351 ,  2.55493349,  0.29985529,\n",
        "        3.80830186,  4.14855007,  0.656832  ,  5.71448168,  5.95959473,\n",
        "        5.19613454,  0.16829766,  0.36061672,  3.57371442,  0.83624599,\n",
        "        0.78992307,  0.51386132,  5.95590044,  4.44181837,  4.09599327,\n",
        "        6.10376085,  4.59009925,  0.54370322,  0.62244425,  5.23194388,\n",
        "        2.19625245,  4.30885837,  3.6295026 ,  1.04372326,  3.33805572,\n",
        "        3.93836001,  5.08666822,  1.7893673 ,  5.28495979,  5.0965381 ,\n",
        "        2.23447407,  1.01117147,  5.2714475 ,  0.57496403,  1.8496842 ,\n",
        "        5.7509222 ,  3.36108759,  2.38040574,  5.59036581,  1.41443437,\n",
        "        4.09486061,  5.95866352,  1.55302523,  4.57724693,  2.67570574,\n",
        "        4.92333124,  3.07479577,  6.26416162,  0.20219612,  3.41293664,\n",
        "        3.09271925,  0.60378854,  6.16985077,  4.79582207,  2.89573926,\n",
        "        3.07301007,  3.12722838,  0.05148332,  2.03449909,  4.04342293,\n",
        "        1.12018364,  5.76458811,  2.62121137,  4.57789896,  1.9159395 ,\n",
        "        5.2763066 ,  2.97198293,  5.90410412,  4.98056589,  5.80151816,\n",
        "        3.89320661,  1.09572962,  1.8079725 ,  4.28166971,  6.15815452,\n",
        "        2.09578178,  1.49989282,  4.91167294,  6.11043945,  4.58629632,\n",
        "        1.58392218,  3.86614665,  2.80388119,  3.70122565,  2.39413814,\n",
        "        5.99748739,  4.35772682,  4.19979183,  5.54129561,  5.60161392,\n",
        "        1.73484176,  0.99982345,  0.23099946,  5.45019677,  4.7746492 ,\n",
        "        5.22830668,  1.90412699,  0.92637429,  5.09300943,  5.00445379,\n",
        "        1.41694894,  5.50865746,  5.75633279,  4.09068571,  2.0006379 ,\n",
        "        5.35329755,  1.64786138,  0.62180717,  2.64671514,  4.82009574,\n",
        "        4.69254631,  0.55720341,  0.10018592,  4.51924183,  2.44053843,\n",
        "        2.93064963,  2.94301209,  2.14575539,  2.42218323,  3.07405242,\n",
        "        3.93245627,  1.36969907,  2.62144403,  5.40729006,  0.52789867,\n",
        "        4.63140437,  2.44269759,  4.75001072,  5.09291524,  1.55526228,\n",
        "        4.58419523,  2.65110668,  2.85958697,  0.85277377,  6.01640716,\n",
        "        0.23589644,  0.91057447,  5.1783357 ,  2.20244431,  4.36403065,\n",
        "        1.01787355,  4.29706166,  0.68221803,  2.17596703,  1.97516896,\n",
        "        3.55376338,  0.47592315,  0.32181611,  0.36554191,  3.52090204,\n",
        "        0.19512992,  6.09982894,  5.46220415,  3.72645805,  4.72484891,\n",
        "        6.14490297,  3.6634736 ,  0.70897113,  5.11087217,  6.0645231 ,\n",
        "        5.94969462,  3.84318995,  1.96410877,  5.74964474,  5.50434174,\n",
        "        2.9542389 ,  4.26516812,  0.91933853,  2.14991376,  1.44438716,\n",
        "        0.78968263,  5.08688177,  5.76375412,  0.6543912 ,  6.10059853,\n",
        "        4.04014307,  2.70491374,  4.85410227,  2.79729769,  2.23591144,\n",
        "        6.16471742,  0.7702992 ,  0.40109124,  2.20597733,  3.25445656,\n",
        "        2.04653589,  0.55851309,  6.12467146,  0.49739907,  5.86806201,\n",
        "        4.73178522,  6.16024015,  4.06867262,  3.60818592,  1.75477482,\n",
        "        5.87851604,  5.90952625,  5.53546234,  4.00146944,  2.39505674,\n",
        "        5.30579476,  3.86985526,  3.92815205,  4.1805088 ,  3.19025911,\n",
        "        5.02163196,  4.04043238,  3.09303331,  5.53748697,  2.48969674,\n",
        "        3.95833832,  6.12652377,  1.91401649,  4.31158424,  2.4445181 ,\n",
        "        5.88907533,  1.65862643,  5.94399234,  4.07804709,  4.44491063,\n",
        "        4.36406171,  2.84127299,  4.21657165,  4.69020064,  3.53918035,\n",
        "        3.00128095,  0.40062963,  1.58164812,  0.03058933,  2.13809274,\n",
        "        5.4593712 ,  0.88568305,  4.28289925,  5.67004107,  0.06618292,\n",
        "        4.71797153,  2.39908116,  1.11752238,  4.50908269,  4.34231674,\n",
        "        3.6924807 ,  0.54992607,  4.03456656,  3.13614402,  1.19380261,\n",
        "        5.18242122,  1.98370815,  3.71374242,  0.24225329,  6.19872709,\n",
        "        2.16025195,  5.9049682 ,  4.15592534,  1.11347204,  5.75054734,\n",
        "        0.40757872,  4.69171626,  4.36620698,  2.53924368,  0.82363692,\n",
        "        3.84165645,  5.55785067,  5.19673519,  0.91711321,  3.64390659,\n",
        "        1.06537364,  4.9974758 ,  6.03650574,  2.47286718,  5.81915788,\n",
        "        2.65699816,  5.58657028,  4.7845563 ,  0.36300853,  4.10434589,\n",
        "        4.63319804,  3.63926263,  6.16079295,  0.42431678,  4.30467732,\n",
        "        2.2757355 ,  4.47528217,  2.55599372,  6.06234845,  1.65889154,\n",
        "        4.9276302 ,  4.73662681,  5.81332595,  6.12333542,  0.92809572,\n",
        "        5.58031939,  4.96996035,  0.63776213,  1.23721325,  0.41074237])"
       ]
      }
     ],
     "prompt_number": 18
    },
    {
     "cell_type": "code",
     "collapsed": false,
     "input": [],
     "language": "python",
     "metadata": {},
     "outputs": []
    }
   ],
   "metadata": {}
  }
 ]
}