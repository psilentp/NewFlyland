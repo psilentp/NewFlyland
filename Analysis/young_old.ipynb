{
 "metadata": {
  "name": "young_old"
 },
 "nbformat": 3,
 "nbformat_minor": 0,
 "worksheets": [
  {
   "cells": [
    {
     "cell_type": "code",
     "collapsed": false,
     "input": [
      "import neo\n",
      "axon_file_path = '/Users/psilentp/Dropbox/Data/YoungOld/B/%s'%('13d03022.abf')\n",
      "importer = neo.io.AxonIO(filename = axon_file_path)\n",
      "block = importer.read_block()\n",
      "hdr = importer.read_header()\n",
      "seg = block.segments[0]\n",
      "signals = dict()\n",
      "for index,sig_name in enumerate(h['ADCChNames'] for h in hdr['listADCInfo']):\n",
      "    signals[sig_name] = seg.analogsignals[index]\n",
      "sweep = signals['AMsysCh1']"
     ],
     "language": "python",
     "metadata": {},
     "outputs": [],
     "prompt_number": 70
    },
    {
     "cell_type": "code",
     "collapsed": false,
     "input": [
      "sta = 9.2\n",
      "selection = argwhere((sweep.times>sta) & (sweep.times<(sta+0.1)))\n",
      "plot(sweep.times[selection],sweep[selection])"
     ],
     "language": "python",
     "metadata": {},
     "outputs": [
      {
       "output_type": "pyout",
       "prompt_number": 71,
       "text": [
        "[<matplotlib.lines.Line2D at 0x11d688110>]"
       ]
      }
     ],
     "prompt_number": 71
    },
    {
     "cell_type": "code",
     "collapsed": false,
     "input": [
      "plot(sweep.times,sweep)"
     ],
     "language": "python",
     "metadata": {},
     "outputs": [
      {
       "output_type": "pyout",
       "prompt_number": 67,
       "text": [
        "[<matplotlib.lines.Line2D at 0x1192ff890>]"
       ]
      }
     ],
     "prompt_number": 67
    },
    {
     "cell_type": "code",
     "collapsed": false,
     "input": [
      "sta_list_y = [12,4.3,4.3,2.7,3.8,2.7,7.3,2.7]"
     ],
     "language": "python",
     "metadata": {},
     "outputs": [],
     "prompt_number": 81
    },
    {
     "cell_type": "code",
     "collapsed": false,
     "input": [
      "sta_list_o = [9.2,9.2,9.2,9.2,5.7,2.7,9.2,9.2]"
     ],
     "language": "python",
     "metadata": {},
     "outputs": [],
     "prompt_number": 73
    },
    {
     "cell_type": "code",
     "collapsed": false,
     "input": [
      "import os\n"
     ],
     "language": "python",
     "metadata": {},
     "outputs": [],
     "prompt_number": 75
    },
    {
     "cell_type": "code",
     "collapsed": false,
     "input": [
      "y_files = [f for f in os.listdir('/Users/psilentp/Dropbox/Data/YoungOld/A') if '.abf' in f]\n",
      "o_files = [f for f in os.listdir('/Users/psilentp/Dropbox/Data/YoungOld/B') if '.abf' in f]"
     ],
     "language": "python",
     "metadata": {},
     "outputs": [],
     "prompt_number": 79
    },
    {
     "cell_type": "code",
     "collapsed": false,
     "input": [
      "ax = subplot(8,2,0)\n",
      "for i,d in enumerate(zip(y_files,sta_list_y)):\n",
      "    ax = subplot(8,2,(i*2)+2,sharey = ax)\n",
      "    axon_file_path = '/Users/psilentp/Dropbox/Data/YoungOld/A/%s'%(d[0])\n",
      "    importer = neo.io.AxonIO(filename = axon_file_path)\n",
      "    block = importer.read_block()\n",
      "    hdr = importer.read_header()\n",
      "    seg = block.segments[0]\n",
      "    signals = dict()\n",
      "    for index,sig_name in enumerate(h['ADCChNames'] for h in hdr['listADCInfo']):\n",
      "        signals[sig_name] = seg.analogsignals[index]\n",
      "    sweep = signals['AMsysCh1']\n",
      "    sta = d[1]\n",
      "    selection = argwhere((sweep.times>sta) & (sweep.times<(sta+0.1)))\n",
      "    plot(sweep.times[selection],sweep[selection])\n",
      "for i,d in enumerate(zip(o_files,sta_list_o)):\n",
      "    subplot(8,2,(i*2)+1,sharey = ax)\n",
      "    axon_file_path = '/Users/psilentp/Dropbox/Data/YoungOld/B/%s'%(d[0])\n",
      "    importer = neo.io.AxonIO(filename = axon_file_path)\n",
      "    block = importer.read_block()\n",
      "    hdr = importer.read_header()\n",
      "    seg = block.segments[0]\n",
      "    signals = dict()\n",
      "    for index,sig_name in enumerate(h['ADCChNames'] for h in hdr['listADCInfo']):\n",
      "        signals[sig_name] = seg.analogsignals[index]\n",
      "    sweep = signals['AMsysCh1']\n",
      "    sta = d[1]\n",
      "    selection = argwhere((sweep.times>sta) & (sweep.times<(sta+0.1)))\n",
      "    plot(sweep.times[selection],sweep[selection])\n",
      "ax.set_ybound(100,-100)"
     ],
     "language": "python",
     "metadata": {},
     "outputs": [],
     "prompt_number": 88
    },
    {
     "cell_type": "code",
     "collapsed": false,
     "input": [],
     "language": "python",
     "metadata": {},
     "outputs": []
    }
   ],
   "metadata": {}
  }
 ]
}