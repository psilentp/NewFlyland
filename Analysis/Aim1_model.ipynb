{
 "metadata": {
  "name": "Aim1_model"
 },
 "nbformat": 3,
 "nbformat_minor": 0,
 "worksheets": [
  {
   "cells": [
    {
     "cell_type": "code",
     "collapsed": false,
     "input": [
      "gama = [0,     30,   60,  -90,  120,  140,  160,  180]\n",
      "ipha = [0.25,  0.0, -0.5, -1.0, -1.0, -1.0, -1.0, -1.0]\n",
      "cpha = [0.25, 0.25, 0.25, 0.25,  0.0, -0.5, -1.0, -1.0]"
     ],
     "language": "python",
     "metadata": {},
     "outputs": [],
     "prompt_number": 1
    },
    {
     "cell_type": "code",
     "collapsed": false,
     "input": [
      "plot(ipha,cpha,'o')"
     ],
     "language": "python",
     "metadata": {},
     "outputs": [
      {
       "output_type": "pyout",
       "prompt_number": 2,
       "text": [
        "[<matplotlib.lines.Line2D at 0x10d96c610>]"
       ]
      }
     ],
     "prompt_number": 2
    },
    {
     "cell_type": "code",
     "collapsed": false,
     "input": [
      "b = 10\n",
      "c = 2.5\n",
      "d = 1\n",
      "rng = arange(-20,20,0.1)\n",
      "tuning = lambda x: exp( -1*((x-b)**2)/(2*c**2) + d)\n",
      "ipsi = tuning(rng)\n",
      "b = 0\n",
      "c = 2.5\n",
      "d = 1\n",
      "rng = arange(-20,20,0.1)\n",
      "tuning = lambda x: exp( -1*((x-b)**2)/(2*c**2) + d)\n",
      "contra = tuning(rng)"
     ],
     "language": "python",
     "metadata": {},
     "outputs": [],
     "prompt_number": 3
    },
    {
     "cell_type": "code",
     "collapsed": false,
     "input": [
      "plot(ipsi,contra)"
     ],
     "language": "python",
     "metadata": {},
     "outputs": [
      {
       "output_type": "pyout",
       "prompt_number": 4,
       "text": [
        "[<matplotlib.lines.Line2D at 0x110800290>]"
       ]
      }
     ],
     "prompt_number": 4
    },
    {
     "cell_type": "code",
     "collapsed": false,
     "input": [
      "plot(rng,ipsi)\n",
      "plot(rng,contra)"
     ],
     "language": "python",
     "metadata": {},
     "outputs": [
      {
       "output_type": "pyout",
       "prompt_number": 5,
       "text": [
        "[<matplotlib.lines.Line2D at 0x11080e710>]"
       ]
      }
     ],
     "prompt_number": 5
    },
    {
     "cell_type": "code",
     "collapsed": false,
     "input": [
      "gs = GridSpec(2, 3, wspace=0.2, hspace=0.2)\n",
      "fig = figure(figsize=(6, 6))\n",
      "from scipy.stats import vonmises\n",
      "numargs = vonmises.numargs\n",
      "kappa  = 2.0\n",
      "ipsi = vonmises(kappa,loc =  -3*pi/4)\n",
      "cont = vonmises(kappa,loc =  +3*pi/4)\n",
      "#ipsi = vonmises(kappa,loc =  -2*pi/4)\n",
      "#cont = vonmises(kappa,loc =  +2*pi/4)\n",
      "x = np.linspace(-pi, pi,50)\n",
      "i = (ipsi.pdf(x)-0.1)*-4\n",
      "c = (cont.pdf(x)-0.1)*-4\n",
      "tune1_ax = fig.add_subplot(gs[0,:2])\n",
      "h = plt.plot(rad2deg(x), i,color = [0,0,0,1],lw = 2)\n",
      "h = plt.plot(rad2deg(x), c,color = [0.6,0.6,0.6,1],lw = 2)\n",
      "\n",
      "x = np.linspace(-pi, -0,12)\n",
      "i = (ipsi.pdf(x)-0.1)*-4\n",
      "c = (cont.pdf(x)-0.1)*-4\n",
      "scatter(rad2deg(x), i,c = x/-pi,s = 100)\n",
      "scatter(rad2deg(x), c,c = x/-pi,s = 100)\n",
      "mod1_ax = fig.add_subplot(gs[0,2])\n",
      "for i0,c0,x0 in zip(i,c,x):\n",
      "    #print(x0)\n",
      "    mod1_ax.arrow(0,0,i0,c0,color = cm.jet(x0/(-pi)),head_width=0.1)#,head_width=0.05, head_length=0.1, fc='k', ec='k')\n",
      "mod1_ax.set_aspect('equal')\n",
      "\n",
      "mod1_ax.spines['left'].set_position('zero')\n",
      "mod1_ax.spines['bottom'].set_position('zero')\n",
      "mod1_ax.spines['right'].set_visible(False)\n",
      "mod1_ax.spines['top'].set_visible(False)\n",
      "mod1_ax.set_xbound(-1.1,0.5)\n",
      "mod1_ax.set_ybound(-1.1,0.5)\n",
      "draw()\n",
      "###############\n",
      "###############\n",
      "ipsi = vonmises(kappa,loc =  -2.1*pi/4)\n",
      "cont = vonmises(kappa,loc =  +2.1*pi/4)\n",
      "x = np.linspace(-pi, pi,50)\n",
      "i = (ipsi.pdf(x)-0.1)*-4\n",
      "c = (cont.pdf(x)-0.1)*-4\n",
      "tune2_ax = fig.add_subplot(gs[1,:2],sharex = tune1_ax,sharey = tune1_ax)\n",
      "h = plt.plot(rad2deg(x), i,color = [0,0,0,1],lw = 2)\n",
      "h = plt.plot(rad2deg(x), c,color = [0.6,0.6,0.6,1],lw = 2)\n",
      "tune2_ax.set_xticks(rad2deg(np.linspace(-pi, pi,13)))\n",
      "\n",
      "x = np.linspace(-pi, -0,12)\n",
      "i = (ipsi.pdf(x)-0.1)*-4\n",
      "c = (cont.pdf(x)-0.1)*-4\n",
      "scatter(rad2deg(x), i,c = x/-pi,s = 100)\n",
      "scatter(rad2deg(x), c,c = x/-pi,s = 100)\n",
      "mod2_ax = fig.add_subplot(gs[1,2],sharex = mod1_ax,sharey = mod1_ax)\n",
      "for i0,c0,x0 in zip(i,c,x):\n",
      "    #print(x0)\n",
      "    mod2_ax.arrow(0,0,i0,c0,color = cm.jet(x0/(-pi)),head_width=0.1)#,head_width=0.05, head_length=0.1, fc='k', ec='k')\n",
      "mod2_ax.set_aspect('equal')\n",
      "\n",
      "mod2_ax.spines['left'].set_position('zero')\n",
      "mod2_ax.spines['bottom'].set_position('zero')\n",
      "mod2_ax.spines['right'].set_visible(False)\n",
      "mod2_ax.spines['top'].set_visible(False)\n",
      "mod2_ax.set_xbound(-1.1,0.5)\n",
      "mod2_ax.set_ybound(-1.1,0.5)\n",
      "draw()\n",
      "\n",
      "\n"
     ],
     "language": "python",
     "metadata": {},
     "outputs": [],
     "prompt_number": 14
    },
    {
     "cell_type": "code",
     "collapsed": false,
     "input": [
      "rad2deg(np.linspace(-pi, pi,13))"
     ],
     "language": "python",
     "metadata": {},
     "outputs": [
      {
       "output_type": "pyout",
       "prompt_number": 425,
       "text": [
        "array([-180., -150., -120.,  -90.,  -60.,  -30.,    0.,   30.,   60.,\n",
        "         90.,  120.,  150.,  180.])"
       ]
      }
     ],
     "prompt_number": 425
    },
    {
     "cell_type": "code",
     "collapsed": false,
     "input": [
      "key = zeros((10,50))"
     ],
     "language": "python",
     "metadata": {},
     "outputs": [],
     "prompt_number": 70
    },
    {
     "cell_type": "code",
     "collapsed": false,
     "input": [
      "key[:,:] = array([linspace(0,1,50)])"
     ],
     "language": "python",
     "metadata": {},
     "outputs": [],
     "prompt_number": 71
    },
    {
     "cell_type": "code",
     "collapsed": false,
     "input": [
      "ax = subplot(1,1,1,polar = True)\n",
      "plot(x, ipsi.pdf(x))"
     ],
     "language": "python",
     "metadata": {},
     "outputs": [
      {
       "output_type": "pyout",
       "prompt_number": 257,
       "text": [
        "[<matplotlib.lines.Line2D at 0x11afb9a50>]"
       ]
      }
     ],
     "prompt_number": 257
    },
    {
     "cell_type": "code",
     "collapsed": false,
     "input": [
      "shape(key)"
     ],
     "language": "python",
     "metadata": {},
     "outputs": [
      {
       "output_type": "pyout",
       "prompt_number": 55,
       "text": [
        "(25, 100)"
       ]
      }
     ],
     "prompt_number": 55
    },
    {
     "cell_type": "code",
     "collapsed": false,
     "input": [
      "theta,rad = np.meshgrid(linspace(0,pi,50),linspace(50,75,10)) #rectangular plot of polar data\n",
      "X = theta\n",
      "Y = rad\n",
      "\n",
      "fig = plt.figure()\n",
      "ax = fig.add_subplot(111,polar = True)\n",
      "ax.pcolormesh(X, Y, key) #X,Y & data2D must all be same dimensions\n",
      "plt.show()"
     ],
     "language": "python",
     "metadata": {},
     "outputs": [],
     "prompt_number": 72
    },
    {
     "cell_type": "code",
     "collapsed": false,
     "input": [
      "ax = gca()"
     ],
     "language": "python",
     "metadata": {},
     "outputs": [],
     "prompt_number": 73
    },
    {
     "cell_type": "code",
     "collapsed": false,
     "input": [
      "yax = ax.get_yaxis()"
     ],
     "language": "python",
     "metadata": {},
     "outputs": [],
     "prompt_number": 74
    },
    {
     "cell_type": "code",
     "collapsed": false,
     "input": [
      "yax.set_visible(False)"
     ],
     "language": "python",
     "metadata": {},
     "outputs": [],
     "prompt_number": 75
    },
    {
     "cell_type": "code",
     "collapsed": false,
     "input": [],
     "language": "python",
     "metadata": {},
     "outputs": [],
     "prompt_number": 46
    },
    {
     "cell_type": "code",
     "collapsed": false,
     "input": [],
     "language": "python",
     "metadata": {},
     "outputs": []
    }
   ],
   "metadata": {}
  }
 ]
}