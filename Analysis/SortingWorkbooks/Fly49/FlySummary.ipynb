{
 "metadata": {
  "name": "FlySummary"
 },
 "nbformat": 3,
 "nbformat_minor": 0,
 "worksheets": [
  {
   "cells": [
    {
     "cell_type": "code",
     "collapsed": false,
     "input": [
      "import sys\n",
      "sys.path.append('/Users/psilentp/Documents/Projects/NewFlyland/Analysis/')\n",
      "import flyphys as fph\n",
      "import numpy as np\n",
      "dataroot = '/Users/psilentp/Dropbox/Data/LeftRight/'\n",
      "fly = fph.get_fly_in_rootdir(dataroot,49,0)"
     ],
     "language": "python",
     "metadata": {},
     "outputs": [],
     "prompt_number": 31
    },
    {
     "cell_type": "code",
     "collapsed": false,
     "input": [],
     "language": "python",
     "metadata": {},
     "outputs": [],
     "prompt_number": 17
    },
    {
     "cell_type": "code",
     "collapsed": false,
     "input": [
      "import signal_tools as stools"
     ],
     "language": "python",
     "metadata": {},
     "outputs": [],
     "prompt_number": 29
    },
    {
     "cell_type": "code",
     "collapsed": false,
     "input": [
      "fly.processed_signals.keys()"
     ],
     "language": "python",
     "metadata": {},
     "outputs": [
      {
       "output_type": "pyout",
       "prompt_number": 30,
       "text": [
        "[]"
       ]
      }
     ],
     "prompt_number": 30
    },
    {
     "cell_type": "code",
     "collapsed": false,
     "input": [
      "sp = fly.processed_signals['spike_pool']\n",
      "phases = fly.processed_signals['wb_phase']\n",
      "times = fly.signals['LeftWing'].times\n",
      "fly.processed_signals['spk_phases'] = stools.calc_spike_phases(sp,phases,times)\n",
      "fly.processed_signals['spk_wbs'] = stools.calc_spike_wbs(sp,fly.processed_signals['wb_flips'],times)"
     ],
     "language": "python",
     "metadata": {},
     "outputs": [],
     "prompt_number": 4
    },
    {
     "cell_type": "code",
     "collapsed": false,
     "input": [
      "####### extract lists of signals for processing... correct for wba problems ##########\n",
      "sig_slice = slice(0,10)\n",
      "e_sweeps = stools.get_trials(fly,2,11,sig_slice,'AMsysCh1')\n",
      "spks = stools.get_trials(fly,2,11,sig_slice,'spike_pool')\n",
      "spk_phases = [x.annotations['spk_phases'] for x in spks]\n",
      "spk_masks = [x.annotations['spike_mask'] for x in spks]\n",
      "spk_wb_idxs = [x.annotations['spk_wbs'] for x in spks]\n",
      "###\n",
      "contra_amp = stools.get_trials(fly,2,11,sig_slice,'LeftAmp')\n",
      "contra_wing = stools.get_trials(fly,2,11,sig_slice,'LeftWing')\n",
      "\n",
      "ipsi_amp = stools.get_trials(fly,2,11,sig_slice,'RightAmp')\n",
      "ipsi_wing = stools.get_trials(fly,2,11,sig_slice,'RightWing')\n",
      "#####\n",
      "\n",
      "l_m_r = stools.get_trials(fly,2,11,sig_slice,'L_m_R')\n",
      "l_m_r = [x*-1 for x in l_m_r]\n",
      "\n",
      "x_pos = stools.get_trials(fly,2,11,sig_slice,'Xpos')\n",
      "wb_phases = stools.get_trials(fly,2,11,sig_slice,'wb_phase')\n",
      "\n",
      "flight_masks = stools.get_trials(fly,2,11,sig_slice,'flight_mask')\n",
      "\n",
      "full_flights = [x for x in range(len(flight_masks)) if not(np.mean(flight_masks[x]))]"
     ],
     "language": "python",
     "metadata": {},
     "outputs": [],
     "prompt_number": 5
    },
    {
     "cell_type": "code",
     "collapsed": false,
     "input": [
      "spks[3].annotations['spk_wbs']"
     ],
     "language": "python",
     "metadata": {},
     "outputs": [
      {
       "output_type": "pyout",
       "prompt_number": 60,
       "text": [
        "array([10653, 10654, 10656, ..., 12075, 12075, 12076])"
       ]
      }
     ],
     "prompt_number": 60
    },
    {
     "cell_type": "code",
     "collapsed": false,
     "input": [
      "full_flights"
     ],
     "language": "python",
     "metadata": {},
     "outputs": [
      {
       "output_type": "pyout",
       "prompt_number": 55,
       "text": [
        "[0, 1, 2, 3, 4, 5, 6, 7, 8, 9]"
       ]
      }
     ],
     "prompt_number": 55
    },
    {
     "cell_type": "code",
     "collapsed": false,
     "input": [
      "def plot_sweeps(fly,\n",
      "                electrode,\n",
      "                spks,\n",
      "                spk_mask,\n",
      "                spk_phases,\n",
      "                ipsi_wing,\n",
      "                ipsi_amp,\n",
      "                contra_wing,\n",
      "                contra_amp,\n",
      "                wb_phases,\n",
      "                x_pos,\n",
      "                trl_idx = 0):\n",
      "    swp_start = ipsi_amp[trl_idx].times[0]\n",
      "    t_start = -1*(int(fly.clepoch/fly.dt)+int(fly.olepoch/fly.dt)+1)*fly.dt#-2*(self.epoch)\n",
      "    swp_times = ipsi_amp[trl_idx].times - swp_start + t_start\n",
      "\n",
      "    ax = subplot(4,1,1)\n",
      "    plot(swp_times,x_pos[trl_idx],color = 'k')\n",
      "    \n",
      "    \n",
      "    subplot(4,1,2,sharex = ax)\n",
      "    plot(swp_times,ipsi_wing[trl_idx],color = 'b',alpha = 0.5)\n",
      "    subplot(4,1,2,sharex = ax)\n",
      "    plot(swp_times,contra_wing[trl_idx],color = 'g',alpha = 0.5)\n",
      "    subplot(4,1,2,sharex = ax)\n",
      "    plot(swp_times,ipsi_amp[trl_idx],color = 'b')\n",
      "    subplot(4,1,2,sharex = ax)\n",
      "    plot(swp_times,contra_amp[trl_idx],color = 'g')\n",
      "    \n",
      "    #spk_lins = [plot(wf.times-swp_start+t_start,wf,color = cm.jet(float(phs/(2*pi)))) for wf,phs in zip(spks[trl_idx].waveforms,spks[trl_idx].annotations['spk_phases'])]\n",
      "\n",
      "    \n",
      "    subplot(4,1,4,sharex = ax)\n",
      "    plot(swp_times,electrode[trl_idx],color = 'k')\n",
      "    f_stimes = list()\n",
      "    f_sphase = list()\n",
      "    f_colors = list()\n",
      "    for spt,wf,phs,msk in zip(spks[trl_idx],spks[trl_idx].waveforms,spk_phases[trl_idx],spk_mask[trl_idx]):\n",
      "        if msk:\n",
      "            color = cm.jet(float(phs/(2*pi)))\n",
      "            plot(wf.times-swp_start+t_start, wf, color = color,lw = 5,alpha = 0.5,)\n",
      "            #print shape(spt)\n",
      "            f_stimes.append(spt-swp_start+t_start)\n",
      "            f_sphase.append(phs)\n",
      "            f_colors.append(color)\n",
      "    \n",
      "    subplot(4,1,3,sharex = ax)\n",
      "    plot(swp_times,wb_phases[trl_idx],color = 'k')\n",
      "    scatter(array(f_stimes),array(f_sphase),c = f_colors,s = 40)\n",
      "    ax.set_xbound(-0.08,0.02)\n",
      "    ax.set_ybound(0,3)"
     ],
     "language": "python",
     "metadata": {},
     "outputs": [],
     "prompt_number": 8
    },
    {
     "cell_type": "code",
     "collapsed": false,
     "input": [
      "plot_sweeps(fly,\n",
      "                e_sweeps,\n",
      "                spks,\n",
      "                spk_masks,\n",
      "                spk_phases,\n",
      "                ipsi_wing,\n",
      "                ipsi_amp,\n",
      "                contra_wing,\n",
      "                contra_amp,\n",
      "                wb_phases,\n",
      "                x_pos,\n",
      "                trl_idx = 7)"
     ],
     "language": "python",
     "metadata": {},
     "outputs": [],
     "prompt_number": 9
    },
    {
     "cell_type": "code",
     "collapsed": false,
     "input": [
      "def extract_cl_spike_rasters(fly,\n",
      "                             start_time,\n",
      "                             end_time,\n",
      "                             e_sweeps,\n",
      "                             spks,\n",
      "                             spk_phases,\n",
      "                             spk_masks,\n",
      "                             full_flights):\n",
      "    trials = list()\n",
      "    for trl_idx in full_flights:\n",
      "        swp_start = e_sweeps[trl_idx].times[0]\n",
      "        t_start = -1*(int(fly.clepoch/fly.dt)+int(fly.olepoch/fly.dt)+1)*fly.dt#-2*(self.epoch)\n",
      "        swp_times = e_sweeps[trl_idx].times - swp_start + t_start\n",
      "        f_spk_times = list()\n",
      "        f_spk_phases = list()\n",
      "        f_spk_wbs = list()\n",
      "        for spt,phs,msk,wbs in zip(spks[trl_idx],spk_phases[trl_idx],spk_masks[trl_idx],spk_wb_idxs[trl_idx]):\n",
      "            if msk:\n",
      "                f_spk_times.append(spt-swp_start+t_start)\n",
      "                f_spk_phases.append(phs)\n",
      "                f_spk_wbs.append(wbs)\n",
      "        trials.append({'f_spk_times':array(f_spk_times),\n",
      "                       'f_spk_phases':array(f_spk_phases),\n",
      "                       'f_spk_wbs':array(f_spk_wbs)})\n",
      "    return trials"
     ],
     "language": "python",
     "metadata": {},
     "outputs": [],
     "prompt_number": 66
    },
    {
     "cell_type": "code",
     "collapsed": false,
     "input": [
      "reload(stools)\n",
      "spk_rasters = stools.extract_cl_spike_rasters(fly,\n",
      "                                     -0.08,\n",
      "                                     0.02,\n",
      "                                     e_sweeps,\n",
      "                                     spks,\n",
      "                                     spk_phases,\n",
      "                                     spk_masks,\n",
      "                                     spk_wb_idxs,\n",
      "                                     full_flights)"
     ],
     "language": "python",
     "metadata": {},
     "outputs": [],
     "prompt_number": 7
    },
    {
     "cell_type": "code",
     "collapsed": false,
     "input": [],
     "language": "python",
     "metadata": {},
     "outputs": []
    },
    {
     "cell_type": "code",
     "collapsed": false,
     "input": [
      "for rstr in spk_rasters:\n",
      "    plot(rstr['f_spk_times'],rstr['f_spk_phases'],'o',color = 'k',alpha = 0.2)"
     ],
     "language": "python",
     "metadata": {},
     "outputs": [],
     "prompt_number": 8
    },
    {
     "cell_type": "code",
     "collapsed": false,
     "input": [
      "sp = fly.processed_signals['spike_pool']\n",
      "flips = times[fly.processed_signals['wb_flips']]\n",
      "spike_wbs = list()\n",
      "for spike in sp:\n",
      "    spike_wbs.append(argwhere(spike<flips)[0])"
     ],
     "language": "python",
     "metadata": {},
     "outputs": [
      {
       "ename": "TypeError",
       "evalue": "append() takes no keyword arguments",
       "output_type": "pyerr",
       "traceback": [
        "\u001b[0;31m---------------------------------------------------------------------------\u001b[0m\n\u001b[0;31mTypeError\u001b[0m                                 Traceback (most recent call last)",
        "\u001b[0;32m<ipython-input-73-c92322de50b7>\u001b[0m in \u001b[0;36m<module>\u001b[0;34m()\u001b[0m\n\u001b[1;32m      3\u001b[0m \u001b[0mspike_wbs\u001b[0m \u001b[0;34m=\u001b[0m \u001b[0mlist\u001b[0m\u001b[0;34m(\u001b[0m\u001b[0;34m)\u001b[0m\u001b[0;34m\u001b[0m\u001b[0m\n\u001b[1;32m      4\u001b[0m \u001b[0;32mfor\u001b[0m \u001b[0mspike\u001b[0m \u001b[0;32min\u001b[0m \u001b[0msp\u001b[0m\u001b[0;34m:\u001b[0m\u001b[0;34m\u001b[0m\u001b[0m\n\u001b[0;32m----> 5\u001b[0;31m     \u001b[0mspike_wbs\u001b[0m\u001b[0;34m.\u001b[0m\u001b[0mappend\u001b[0m\u001b[0;34m(\u001b[0m\u001b[0margwhere\u001b[0m\u001b[0;34m(\u001b[0m\u001b[0mspike\u001b[0m\u001b[0;34m<\u001b[0m\u001b[0mflips\u001b[0m\u001b[0;34m)\u001b[0m\u001b[0;34m[\u001b[0m\u001b[0;36m0\u001b[0m\u001b[0;34m]\u001b[0m\u001b[0;34m,\u001b[0m\u001b[0mcolor\u001b[0m \u001b[0;34m=\u001b[0m \u001b[0;34m'k'\u001b[0m\u001b[0;34m)\u001b[0m\u001b[0;34m\u001b[0m\u001b[0m\n\u001b[0m",
        "\u001b[0;31mTypeError\u001b[0m: append() takes no keyword arguments"
       ]
      }
     ],
     "prompt_number": 73
    },
    {
     "cell_type": "code",
     "collapsed": false,
     "input": [
      "spike_wbs_save = spike_wbs"
     ],
     "language": "python",
     "metadata": {},
     "outputs": [],
     "prompt_number": 31
    },
    {
     "cell_type": "code",
     "collapsed": false,
     "input": [
      "sp = fly.processed_signals['spike_pool']\n",
      "flips = times[fly.processed_signals['wb_flips']]\n",
      "spike_wbs = zeros_like(array(sp),dtype = int)\n",
      "start_search = 0\n",
      "end_search = 1000\n",
      "search_len = len(sp)\n",
      "for i,spike in enumerate(sp):\n",
      "    try:\n",
      "        spike_wbs[i] = argwhere(spike<flips[start_search:end_search])[0]+start_search\n",
      "    except IndexError:\n",
      "        end_search = search_len\n",
      "        spike_wbs[i] = argwhere(spike<flips[start_search:end_search])[0]+start_search\n",
      "    start_search = spike_wbs[i]\n",
      "    end_search = start_search + 1000\n",
      "    if end_search > search_len:\n",
      "        end_search = search_len\n"
     ],
     "language": "python",
     "metadata": {},
     "outputs": [],
     "prompt_number": 45
    },
    {
     "cell_type": "code",
     "collapsed": false,
     "input": [
      "spike_flips = flips[spike_wbs]"
     ],
     "language": "python",
     "metadata": {},
     "outputs": [],
     "prompt_number": 46
    },
    {
     "cell_type": "code",
     "collapsed": false,
     "input": [
      "reload(stools)"
     ],
     "language": "python",
     "metadata": {},
     "outputs": [
      {
       "output_type": "pyout",
       "prompt_number": 51,
       "text": [
        "<module 'signal_tools' from '/Users/psilentp/Documents/Projects/NewFlyland/Analysis/signal_tools.py'>"
       ]
      }
     ],
     "prompt_number": 51
    },
    {
     "cell_type": "code",
     "collapsed": false,
     "input": [],
     "language": "python",
     "metadata": {},
     "outputs": [],
     "prompt_number": 35
    },
    {
     "cell_type": "code",
     "collapsed": false,
     "input": [],
     "language": "python",
     "metadata": {},
     "outputs": []
    }
   ],
   "metadata": {}
  }
 ]
}