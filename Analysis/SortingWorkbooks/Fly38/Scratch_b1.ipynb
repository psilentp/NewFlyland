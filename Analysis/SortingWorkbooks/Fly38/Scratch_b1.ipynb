{
 "metadata": {
  "name": "Scratch_b1"
 },
 "nbformat": 3,
 "nbformat_minor": 0,
 "worksheets": [
  {
   "cells": [
    {
     "cell_type": "code",
     "collapsed": false,
     "input": [
      "from pylab import *\n",
      "from sklearn import decomposition\n",
      "from mpl_toolkits.mplot3d import Axes3D\n",
      "import numpy as np\n",
      "import random\n",
      "import sys\n",
      "from sklearn.cluster import KMeans\n",
      "\n",
      "analysis_lib = '/Users/psilentp/Documents/Projects/NewFlyland/Analysis/'\n",
      "sys.path.append(analysis_lib)\n",
      "\n",
      "import flyphys as fph\n",
      "import defaults\n",
      "import sorters as srtr\n",
      "import sorter_view as sview\n",
      "\n",
      "dataroot = '/Users/psilentp/Dropbox/Data/LeftRight/'"
     ],
     "language": "python",
     "metadata": {},
     "outputs": []
    }
   ],
   "metadata": {}
  }
 ]
}