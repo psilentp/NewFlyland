{
 "metadata": {
  "name": "B2_analysis"
 },
 "nbformat": 3,
 "nbformat_minor": 0,
 "worksheets": [
  {
   "cells": [
    {
     "cell_type": "code",
     "collapsed": false,
     "input": [
      "from pylab import *\n",
      "from sklearn import decomposition\n",
      "from mpl_toolkits.mplot3d import Axes3D\n",
      "import numpy as np\n",
      "import random\n",
      "import sys\n",
      "from sklearn.cluster import KMeans\n",
      "\n",
      "analysis_lib = '/Users/psilentp/Documents/Projects/NewFlyland/Analysis/'\n",
      "sys.path.append(analysis_lib)\n",
      "\n",
      "import flyphys as fph\n",
      "import defaults\n",
      "import sorters as srtr\n",
      "import sorter_view as sview\n",
      "\n",
      "dataroot = '/Users/psilentp/Dropbox/Data/LeftRight/'"
     ],
     "language": "python",
     "metadata": {},
     "outputs": [],
     "prompt_number": 1
    },
    {
     "cell_type": "code",
     "collapsed": false,
     "input": [
      "reload(fph)\n",
      "fly = fph.get_fly_in_rootdir(dataroot,38,0,rec_location = 'B2')\n",
      "fly_cntrlr = fph.FlyController(fly)"
     ],
     "language": "python",
     "metadata": {},
     "outputs": [],
     "prompt_number": 2
    },
    {
     "cell_type": "code",
     "collapsed": false,
     "input": [
      "sweep = fly.signals['AMsysCh1']\n",
      "import signal_tools as stools\n",
      "test_sweep = stools.ts(sweep,50,60.0)"
     ],
     "language": "python",
     "metadata": {},
     "outputs": [],
     "prompt_number": 3
    },
    {
     "cell_type": "code",
     "collapsed": false,
     "input": [
      "pp = {'spk_pool_thresh':50.0,\n",
      "               'spk_window_left' : 10,\n",
      "               'spk_window_right' : 35,\n",
      "               'spk_pool_filter_window' : 35}\n",
      "tp = stools.get_spike_pool(test_sweep,\n",
      "                      thresh = pp['spk_pool_thresh'],\n",
      "                      wl = pp['spk_window_left'],\n",
      "                      wr = pp['spk_window_right'],\n",
      "                      filter_window = pp['spk_pool_filter_window'])"
     ],
     "language": "python",
     "metadata": {},
     "outputs": [],
     "prompt_number": 4
    },
    {
     "cell_type": "code",
     "collapsed": false,
     "input": [
      "plot(test_sweep.times,test_sweep,color = 'k')\n",
      "from scipy.signal import medfilt\n",
      "detrend = np.array(test_sweep)-medfilt(test_sweep,pp['spk_pool_filter_window'])\n",
      "plot(test_sweep.times,detrend,color = 'r')\n",
      "o = [plot(wf.times,wf,color = 'b',alpha = 0.5,lw = 10) for wf in tp.waveforms]"
     ],
     "language": "python",
     "metadata": {},
     "outputs": [],
     "prompt_number": 5
    },
    {
     "cell_type": "code",
     "collapsed": false,
     "input": [
      "fly.pool_params = pp"
     ],
     "language": "python",
     "metadata": {},
     "outputs": [],
     "prompt_number": 6
    },
    {
     "cell_type": "code",
     "collapsed": false,
     "input": [
      "fly.extract_spike_pool()\n",
      "fly.process_wb_signals()"
     ],
     "language": "python",
     "metadata": {},
     "outputs": [
      {
       "output_type": "stream",
       "stream": "stdout",
       "text": [
        "calculating flight mask\n",
        "calculating stroke phase"
       ]
      },
      {
       "output_type": "stream",
       "stream": "stdout",
       "text": [
        "\n",
        "calculating wb reference features"
       ]
      },
      {
       "output_type": "stream",
       "stream": "stdout",
       "text": [
        "\n",
        "re-wraping phase"
       ]
      },
      {
       "output_type": "stream",
       "stream": "stdout",
       "text": [
        "\n",
        "calculating stroke amplitudes"
       ]
      },
      {
       "output_type": "stream",
       "stream": "stdout",
       "text": [
        "\n",
        "updating processed_signals dict"
       ]
      },
      {
       "output_type": "stream",
       "stream": "stdout",
       "text": [
        "\n"
       ]
      }
     ],
     "prompt_number": 7
    },
    {
     "cell_type": "code",
     "collapsed": false,
     "input": [
      "sp = fly.processed_signals['spike_pool']\n",
      "phases = fly.processed_signals['wb_phase']\n",
      "times = fly.signals['LeftWing'].times\n",
      "fly.processed_signals['spk_phases'] = stools.calc_spike_phases(sp,phases,times)\n",
      "fly.processed_signals['spk_wbs'] = stools.calc_spike_wbs(sp,fly.processed_signals['wb_flips'],times)"
     ],
     "language": "python",
     "metadata": {},
     "outputs": [],
     "prompt_number": 14
    },
    {
     "cell_type": "code",
     "collapsed": false,
     "input": [],
     "language": "python",
     "metadata": {},
     "outputs": [],
     "prompt_number": 8
    },
    {
     "cell_type": "code",
     "collapsed": false,
     "input": [
      "null_mask = ones_like(sp)\n",
      "reload(sview)"
     ],
     "language": "python",
     "metadata": {},
     "outputs": [
      {
       "output_type": "pyout",
       "prompt_number": 9,
       "text": [
        "<module 'sorter_view' from '/Users/psilentp/Documents/Projects/NewFlyland/Analysis/sorter_view.pyc'>"
       ]
      }
     ],
     "prompt_number": 9
    },
    {
     "cell_type": "code",
     "collapsed": false,
     "input": [
      "md_params = {'trans_dims':1}\n",
      "mdt_00 = srtr.MedTrans(sp,null_mask,md_params)\n",
      "mdt_00.transform()\n",
      "th_00 = srtr.ThreshSelector(sp,null_mask,mdt_00.trnsmtrx,{})\n",
      "thresh = percentile(mdt_00.trnsmtrx,99.9)\n",
      "th_00.select(thresh)\n",
      "sview.plot_clusters(sp,th_00)\n",
      "display(gcf())"
     ],
     "language": "python",
     "metadata": {},
     "outputs": [
      {
       "output_type": "display_data",
       "png": "[encoded data removed]",
       "text": [
        "<matplotlib.figure.Figure at 0x112ce5a90>"
       ]
      }
     ],
     "prompt_number": 10
    },
    {
     "cell_type": "code",
     "collapsed": false,
     "input": [
      "final_mask = th_00.mask_from_labels('0')\n",
      "sview.plot_select_trains(sp,[null_mask,final_mask])"
     ],
     "language": "python",
     "metadata": {},
     "outputs": [],
     "prompt_number": 11
    },
    {
     "cell_type": "code",
     "collapsed": false,
     "input": [
      "fly.processed_signals['spike_mask'] = final_mask"
     ],
     "language": "python",
     "metadata": {},
     "outputs": [],
     "prompt_number": 12
    },
    {
     "cell_type": "code",
     "collapsed": false,
     "input": [
      "fly.save_data('flydata_B2.cpkl')"
     ],
     "language": "python",
     "metadata": {},
     "outputs": [],
     "prompt_number": 16
    },
    {
     "cell_type": "code",
     "collapsed": false,
     "input": [],
     "language": "python",
     "metadata": {},
     "outputs": [],
     "prompt_number": 12
    },
    {
     "cell_type": "code",
     "collapsed": false,
     "input": [],
     "language": "python",
     "metadata": {},
     "outputs": []
    },
    {
     "cell_type": "code",
     "collapsed": false,
     "input": [
      "fly.processed_signals.keys()"
     ],
     "language": "python",
     "metadata": {},
     "outputs": [
      {
       "output_type": "pyout",
       "prompt_number": 15,
       "text": [
        "['LeftAmp',\n",
        " 'RightAmp',\n",
        " 'wb_flips',\n",
        " 'spike_pool',\n",
        " 'spike_mask',\n",
        " 'spk_wbs',\n",
        " 'wb_peaks',\n",
        " 'spk_phases',\n",
        " 'flight_mask',\n",
        " 'wb_phase']"
       ]
      }
     ],
     "prompt_number": 15
    },
    {
     "cell_type": "code",
     "collapsed": false,
     "input": [],
     "language": "python",
     "metadata": {},
     "outputs": []
    }
   ],
   "metadata": {}
  }
 ]
}