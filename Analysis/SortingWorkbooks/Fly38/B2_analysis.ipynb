{
 "metadata": {
  "name": "B2_analysis"
 },
 "nbformat": 3,
 "nbformat_minor": 0,
 "worksheets": [
  {
   "cells": [
    {
     "cell_type": "code",
     "collapsed": false,
     "input": [
      "from pylab import *\n",
      "from sklearn import decomposition\n",
      "from mpl_toolkits.mplot3d import Axes3D\n",
      "import numpy as np\n",
      "import random\n",
      "import sys\n",
      "from sklearn.cluster import KMeans\n",
      "\n",
      "analysis_lib = '/Users/psilentp/Documents/Projects/NewFlyland/Analysis/'\n",
      "sys.path.append(analysis_lib)\n",
      "\n",
      "import flyphys as fph\n",
      "import defaults\n",
      "import sorters as srtr\n",
      "import sorter_view as sview\n",
      "\n",
      "dataroot = '/Users/psilentp/Dropbox/Data/LeftRight/'"
     ],
     "language": "python",
     "metadata": {},
     "outputs": [],
     "prompt_number": 23
    },
    {
     "cell_type": "code",
     "collapsed": false,
     "input": [
      "reload(fph)\n",
      "fly = fph.get_fly_in_rootdir(dataroot,38,0,rec_location = 'B2')\n",
      "fly_cntrlr = fph.FlyController(fly)"
     ],
     "language": "python",
     "metadata": {},
     "outputs": [],
     "prompt_number": 24
    },
    {
     "cell_type": "code",
     "collapsed": false,
     "input": [
      "sweep = fly.signals['AMsysCh1']\n",
      "import signal_tools as stools\n",
      "test_sweep = stools.ts(sweep,50,60.0)"
     ],
     "language": "python",
     "metadata": {},
     "outputs": [],
     "prompt_number": 29
    },
    {
     "cell_type": "code",
     "collapsed": false,
     "input": [
      "pp = {'spk_pool_thresh':50.0,\n",
      "               'spk_window_left' : 10,\n",
      "               'spk_window_right' : 35,\n",
      "               'spk_pool_filter_window' : 35}\n",
      "tp = stools.get_spike_pool(test_sweep,\n",
      "                      thresh = pp['spk_pool_thresh'],\n",
      "                      wl = pp['spk_window_left'],\n",
      "                      wr = pp['spk_window_right'],\n",
      "                      filter_window = pp['spk_pool_filter_window'])"
     ],
     "language": "python",
     "metadata": {},
     "outputs": [],
     "prompt_number": 64
    },
    {
     "cell_type": "code",
     "collapsed": false,
     "input": [
      "plot(test_sweep.times,test_sweep,color = 'k')\n",
      "from scipy.signal import medfilt\n",
      "detrend = np.array(test_sweep)-medfilt(test_sweep,pp['spk_pool_filter_window'])\n",
      "plot(test_sweep.times,detrend,color = 'r')\n",
      "o = [plot(wf.times,wf,color = 'b',alpha = 0.5,lw = 10) for wf in tp.waveforms]"
     ],
     "language": "python",
     "metadata": {},
     "outputs": [],
     "prompt_number": 67
    },
    {
     "cell_type": "code",
     "collapsed": false,
     "input": [
      "fly.pool_params = pp"
     ],
     "language": "python",
     "metadata": {},
     "outputs": [],
     "prompt_number": 68
    },
    {
     "cell_type": "code",
     "collapsed": false,
     "input": [
      "fly.extract_spike_pool()\n",
      "fly.process_wb_signals()"
     ],
     "language": "python",
     "metadata": {},
     "outputs": [
      {
       "output_type": "stream",
       "stream": "stdout",
       "text": [
        "calculating flight mask\n",
        "calculating stroke phase"
       ]
      },
      {
       "output_type": "stream",
       "stream": "stdout",
       "text": [
        "\n",
        "calculating wb reference features"
       ]
      },
      {
       "output_type": "stream",
       "stream": "stdout",
       "text": [
        "\n",
        "re-wraping phase"
       ]
      },
      {
       "output_type": "stream",
       "stream": "stdout",
       "text": [
        "\n",
        "calculating stroke amplitudes"
       ]
      },
      {
       "output_type": "stream",
       "stream": "stdout",
       "text": [
        "\n",
        "updating processed_signals dict"
       ]
      },
      {
       "output_type": "stream",
       "stream": "stdout",
       "text": [
        "\n"
       ]
      }
     ],
     "prompt_number": 69
    },
    {
     "cell_type": "code",
     "collapsed": false,
     "input": [
      "sp = fly.processed_signals['spike_pool']"
     ],
     "language": "python",
     "metadata": {},
     "outputs": [],
     "prompt_number": 70
    },
    {
     "cell_type": "code",
     "collapsed": false,
     "input": [
      "null_mask = ones_like(sp)\n",
      "reload(sview)"
     ],
     "language": "python",
     "metadata": {},
     "outputs": [
      {
       "output_type": "pyout",
       "prompt_number": 71,
       "text": [
        "<module 'sorter_view' from '/Users/psilentp/Documents/Projects/NewFlyland/Analysis/sorter_view.pyc'>"
       ]
      }
     ],
     "prompt_number": 71
    },
    {
     "cell_type": "code",
     "collapsed": false,
     "input": [
      "md_params = {'trans_dims':1}\n",
      "mdt_00 = srtr.MedTrans(sp,null_mask,md_params)\n",
      "mdt_00.transform()\n",
      "th_00 = srtr.ThreshSelector(sp,null_mask,mdt_00.trnsmtrx,{})\n",
      "thresh = percentile(mdt_00.trnsmtrx,95)\n",
      "th_00.select(thresh)\n",
      "sview.plot_clusters(sp,th_00)\n",
      "display(gcf())"
     ],
     "language": "python",
     "metadata": {},
     "outputs": [
      {
       "output_type": "display_data",
       "png": "[encoded data removed]",
       "text": [
        "<matplotlib.figure.Figure at 0x13440dc50>"
       ]
      }
     ],
     "prompt_number": 72
    },
    {
     "cell_type": "code",
     "collapsed": false,
     "input": [
      "final_mask = th_00.mask_from_labels('0')\n",
      "sview.plot_select_trains(sp,[null_mask,final_mask])"
     ],
     "language": "python",
     "metadata": {},
     "outputs": [],
     "prompt_number": 74
    },
    {
     "cell_type": "code",
     "collapsed": false,
     "input": [
      "sp.annotations['spk_mask']  = null_mask"
     ],
     "language": "python",
     "metadata": {},
     "outputs": [],
     "prompt_number": 75
    },
    {
     "cell_type": "code",
     "collapsed": false,
     "input": [
      "fly.processed_signals['spike_pool'].annotations"
     ],
     "language": "python",
     "metadata": {},
     "outputs": [
      {
       "output_type": "pyout",
       "prompt_number": 76,
       "text": [
        "{'spk_mask': <SpikeTrain(array([ 1.,  1.,  1., ...,  1.,  1.,  1.]) * s, [0.0 s, 349.2832 s])>}"
       ]
      }
     ],
     "prompt_number": 76
    },
    {
     "cell_type": "code",
     "collapsed": false,
     "input": [
      "fly.save_data('flydata_B2.cpkl')"
     ],
     "language": "python",
     "metadata": {},
     "outputs": [],
     "prompt_number": 77
    },
    {
     "cell_type": "code",
     "collapsed": false,
     "input": [],
     "language": "python",
     "metadata": {},
     "outputs": []
    }
   ],
   "metadata": {}
  }
 ]
}