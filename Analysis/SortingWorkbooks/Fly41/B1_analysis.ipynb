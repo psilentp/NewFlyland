{
 "metadata": {
  "name": "B1_analysis"
 },
 "nbformat": 3,
 "nbformat_minor": 0,
 "worksheets": [
  {
   "cells": [
    {
     "cell_type": "code",
     "collapsed": false,
     "input": [
      "from pylab import *\n",
      "from sklearn import decomposition\n",
      "from mpl_toolkits.mplot3d import Axes3D\n",
      "import numpy as np\n",
      "import random\n",
      "import sys\n",
      "from sklearn.cluster import KMeans\n",
      "\n",
      "analysis_lib = '/Users/psilentp/Documents/Projects/NewFlyland/Analysis/'\n",
      "sys.path.append(analysis_lib)\n",
      "\n",
      "import flyphys as fph\n",
      "import defaults\n",
      "import sorters as srtr\n",
      "import sorter_view as sview\n",
      "\n",
      "dataroot = '/Users/psilentp/Dropbox/Data/LeftRight/'"
     ],
     "language": "python",
     "metadata": {},
     "outputs": [],
     "prompt_number": 1
    },
    {
     "cell_type": "code",
     "collapsed": false,
     "input": [
      "fly = fph.get_fly_in_rootdir(dataroot,41,0,rec_location = 'B1')\n",
      "fly_cntrlr = fph.FlyController(fly)"
     ],
     "language": "python",
     "metadata": {},
     "outputs": [],
     "prompt_number": 3
    },
    {
     "cell_type": "code",
     "collapsed": false,
     "input": [
      "#tmp_signal = fly.signals['AMsysCh1']\n",
      "tmp_signal = stools.get_low_filter(fly.signals['AMsysCh1'],5000)"
     ],
     "language": "python",
     "metadata": {},
     "outputs": [],
     "prompt_number": 4
    },
    {
     "cell_type": "code",
     "collapsed": false,
     "input": [
      "sweep = tmp_signal\n",
      "sweep *= -1\n",
      "import signal_tools as stools\n",
      "test_sweep = stools.ts(sweep,56,58.0)"
     ],
     "language": "python",
     "metadata": {},
     "outputs": [],
     "prompt_number": 10
    },
    {
     "cell_type": "code",
     "collapsed": false,
     "input": [
      "pp = {'spk_pool_thresh':10.0,\n",
      "               'spk_window_left' : 25,\n",
      "               'spk_window_right' : 20,\n",
      "               'spk_pool_filter_window' : 55}\n",
      "\n",
      "tp = stools.get_spike_pool(test_sweep,\n",
      "                      thresh = pp['spk_pool_thresh'],\n",
      "                      wl = pp['spk_window_left'],\n",
      "                      wr = pp['spk_window_right'],\n",
      "                      filter_window = pp['spk_pool_filter_window'])"
     ],
     "language": "python",
     "metadata": {},
     "outputs": [],
     "prompt_number": 11
    },
    {
     "cell_type": "code",
     "collapsed": false,
     "input": [
      "plot(test_sweep.times,test_sweep,color = 'k')\n",
      "from scipy.signal import medfilt\n",
      "detrend = np.array(test_sweep)-medfilt(test_sweep,pp['spk_pool_filter_window'])\n",
      "plot(test_sweep.times,detrend,color = 'r')\n",
      "o = [plot(wf.times,wf,color = 'b',alpha = 0.5,lw = 10) for wf in tp.waveforms]"
     ],
     "language": "python",
     "metadata": {},
     "outputs": [],
     "prompt_number": 12
    },
    {
     "cell_type": "code",
     "collapsed": false,
     "input": [
      "fly.signals['AMsysCh1'] = tmp_signal\n",
      "fly.pool_params = pp"
     ],
     "language": "python",
     "metadata": {},
     "outputs": [],
     "prompt_number": 13
    },
    {
     "cell_type": "code",
     "collapsed": false,
     "input": [
      "fly.extract_spike_pool()\n",
      "fly.process_wb_signals()"
     ],
     "language": "python",
     "metadata": {},
     "outputs": [
      {
       "output_type": "stream",
       "stream": "stdout",
       "text": [
        "calculating flight mask\n",
        "calculating stroke phase"
       ]
      },
      {
       "output_type": "stream",
       "stream": "stdout",
       "text": [
        "\n",
        "calculating wb reference features"
       ]
      },
      {
       "output_type": "stream",
       "stream": "stdout",
       "text": [
        "\n",
        "re-wraping phase"
       ]
      },
      {
       "output_type": "stream",
       "stream": "stdout",
       "text": [
        "\n",
        "calculating stroke amplitudes"
       ]
      },
      {
       "output_type": "stream",
       "stream": "stdout",
       "text": [
        "\n",
        "updating processed_signals dict"
       ]
      },
      {
       "output_type": "stream",
       "stream": "stdout",
       "text": [
        "\n"
       ]
      }
     ],
     "prompt_number": 14
    },
    {
     "cell_type": "code",
     "collapsed": false,
     "input": [
      "sp = fly.processed_signals['spike_pool']\n",
      "null_mask = ones_like(sp)"
     ],
     "language": "python",
     "metadata": {},
     "outputs": [],
     "prompt_number": 17
    },
    {
     "cell_type": "code",
     "collapsed": false,
     "input": [
      "md_params = {'trans_dims':1}\n",
      "mdt_0 = srtr.MedTrans(sp,null_mask,md_params)\n",
      "mdt_0.transform()\n",
      "th_0 = srtr.ThreshSelector(sp,null_mask,mdt_0.trnsmtrx,{})\n",
      "thresh = percentile(mdt_0.trnsmtrx,55)\n",
      "th_0.select(thresh)\n",
      "sview.plot_clusters(sp,th_0)\n",
      "display(gcf())"
     ],
     "language": "python",
     "metadata": {},
     "outputs": [
      {
       "output_type": "display_data",
       "png": "[encoded data removed]",
       "text": [
        "<matplotlib.figure.Figure at 0x11365c5d0>"
       ]
      }
     ],
     "prompt_number": 28
    },
    {
     "cell_type": "code",
     "collapsed": false,
     "input": [
      "mask_00 = th_0.mask_from_labels('0')\n",
      "mask_01 = th_0.mask_from_labels('1')\n",
      "sview.plot_select_trains(sp,[mask_00,mask_01])"
     ],
     "language": "python",
     "metadata": {},
     "outputs": [],
     "prompt_number": 29
    },
    {
     "cell_type": "code",
     "collapsed": false,
     "input": [],
     "language": "python",
     "metadata": {},
     "outputs": []
    }
   ],
   "metadata": {}
  }
 ]
}