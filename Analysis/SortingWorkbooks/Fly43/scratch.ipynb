{
 "metadata": {
  "name": "scratch"
 },
 "nbformat": 3,
 "nbformat_minor": 0,
 "worksheets": [
  {
   "cells": [
    {
     "cell_type": "code",
     "collapsed": false,
     "input": [
      "from pylab import *\n",
      "from sklearn import decomposition\n",
      "from mpl_toolkits.mplot3d import Axes3D\n",
      "import numpy as np\n",
      "import random\n",
      "import sys\n",
      "from sklearn.cluster import KMeans\n",
      "\n",
      "analysis_lib = '/Users/psilentp/Documents/Projects/NewFlyland/Analysis/'\n",
      "sys.path.append(analysis_lib)\n",
      "\n",
      "import flyphys as fph\n",
      "import defaults\n",
      "import sorters as srtr\n",
      "import sorter_view as sview\n",
      "import signal_tools as stools\n",
      "dataroot = '/Users/psilentp/Dropbox/Data/LeftRight/'"
     ],
     "language": "python",
     "metadata": {},
     "outputs": [],
     "prompt_number": 4
    },
    {
     "cell_type": "code",
     "collapsed": false,
     "input": [
      "fly = fph.get_fly_in_rootdir(dataroot,43,0,rec_location = 'B1')\n",
      "fly_cntrlr = fph.FlyController(fly)"
     ],
     "language": "python",
     "metadata": {},
     "outputs": [],
     "prompt_number": 5
    },
    {
     "cell_type": "code",
     "collapsed": false,
     "input": [
      "wb_flips = fly.processed_signals['wb_flips']\n",
      "fix_mask = hstack((diff(wb_flips)<60,array(True)))\n",
      "fixed_wb_flips = delete(wb_flips,argwhere(fix_mask))\n",
      "\n",
      "wb_peaks = fly.processed_signals['wb_peaks']\n",
      "fix_mask = hstack((diff(wb_peaks)<60,array(True)))\n",
      "fixed_wb_peaks = delete(wb_peaks,argwhere(fix_mask))\n",
      "\n",
      "times = fly.signals['LeftWing'].times\n",
      "sp = fly.processed_signals['spike_pool']\n",
      "fly.processed_signals['spk_wbs'] = stools.calc_spike_wbs(sp,fixed_wb_flips,times)\n",
      "\n",
      "L_h = fly.signals['LeftWing']\n",
      "R_h = fly.signals['RightWing']\n",
      "\n",
      "L_a = np.zeros_like(L_h)\n",
      "R_a = np.zeros_like(R_h)\n",
      "p0 = fixed_wb_peaks[0]\n",
      "for pk in fixed_wb_peaks[1:]:\n",
      "    L_a[p0:pk] = L_h[p0]\n",
      "    R_a[p0:pk] = R_h[p0]\n",
      "    p0 = pk\n",
      "L_a[0:fixed_wb_peaks[0]] = L_h[0]\n",
      "R_a[0:fixed_wb_peaks[0]] = R_h[0]\n",
      "L_a[fixed_wb_peaks[-1]:] = L_h[fixed_wb_peaks[-1]]\n",
      "R_a[fixed_wb_peaks[-1]:] = R_h[fixed_wb_peaks[-1]]"
     ],
     "language": "python",
     "metadata": {},
     "outputs": [],
     "prompt_number": 6
    },
    {
     "cell_type": "code",
     "collapsed": false,
     "input": [
      "plot(fly.signals['LeftWing'][:10000])\n",
      "plot(fly.processed_signals['LeftAmp'][:10000])\n",
      "plot(L_a[:10000])"
     ],
     "language": "python",
     "metadata": {},
     "outputs": [
      {
       "output_type": "pyout",
       "prompt_number": 4,
       "text": [
        "[<matplotlib.lines.Line2D at 0x15383ac10>]"
       ]
      }
     ],
     "prompt_number": 4
    },
    {
     "cell_type": "code",
     "collapsed": false,
     "input": [
      "import signal_tools as stools\n",
      "sig_slice = slice(0,15)\n",
      "e_sweeps = stools.get_trials(fly,2,5,sig_slice,'AMsysCh1')\n",
      "spks = stools.get_trials(fly,2,5,sig_slice,'spike_pool')\n",
      "spk_phases = [x.annotations['spk_phases'] for x in spks]\n",
      "spk_masks = [x.annotations['spike_mask'] for x in spks]\n",
      "spk_wb_idxs = [x.annotations['spk_wbs'] for x in spks]\n",
      "###\n",
      "ipsi_amp = stools.get_trials(fly,2,5,sig_slice,'RightAmp')\n",
      "ipsi_wing = stools.get_trials(fly,2,5,sig_slice,'RightWing')\n",
      "\n",
      "contra_amp = stools.get_trials(fly,2,5,sig_slice,'LeftAmp')\n",
      "contra_wing = stools.get_trials(fly,2,5,sig_slice,'LeftWing')\n",
      "#####\n",
      "\n",
      "stim_pos = stools.get_trials(fly,2,5,sig_slice,'Xpos')\n",
      "\n",
      "l_m_r = stools.get_trials(fly,2,5,sig_slice,'L_m_R')\n",
      "l_m_r = [x*-1 for x in l_m_r]\n",
      "\n",
      "x_pos = stools.get_trials(fly,2,5,sig_slice,'Xpos')\n",
      "wb_phases = stools.get_trials(fly,2,5,sig_slice,'wb_phase')\n",
      "\n",
      "flight_masks = stools.get_trials(fly,2,5,sig_slice,'flight_mask')\n",
      "\n",
      "full_flights = [x for x in range(len(flight_masks)) if not(np.mean(flight_masks[x]))]\n",
      "\n",
      "spk_rasters = stools.extract_cl_spike_rasters(fly,\n",
      "                                     -0.08,\n",
      "                                     0.02,\n",
      "                                     e_sweeps,\n",
      "                                     spks,\n",
      "                                     spk_phases,\n",
      "                                     spk_masks,\n",
      "                                     spk_wb_idxs,\n",
      "                                     full_flights)"
     ],
     "language": "python",
     "metadata": {},
     "outputs": [],
     "prompt_number": 10
    },
    {
     "cell_type": "code",
     "collapsed": false,
     "input": [
      "[plot(a) for a in contra_amp]"
     ],
     "language": "python",
     "metadata": {},
     "outputs": [
      {
       "output_type": "pyout",
       "prompt_number": 13,
       "text": [
        "[[<matplotlib.lines.Line2D at 0x15b8b2550>],\n",
        " [<matplotlib.lines.Line2D at 0x15b8b28d0>],\n",
        " [<matplotlib.lines.Line2D at 0x15b8b2f90>],\n",
        " [<matplotlib.lines.Line2D at 0x15b882610>],\n",
        " [<matplotlib.lines.Line2D at 0x15b882c50>],\n",
        " [<matplotlib.lines.Line2D at 0x15b8932d0>],\n",
        " [<matplotlib.lines.Line2D at 0x15b893910>],\n",
        " [<matplotlib.lines.Line2D at 0x15b893f50>],\n",
        " [<matplotlib.lines.Line2D at 0x161f195d0>],\n",
        " [<matplotlib.lines.Line2D at 0x161f19c10>],\n",
        " [<matplotlib.lines.Line2D at 0x161f23290>],\n",
        " [<matplotlib.lines.Line2D at 0x161f238d0>],\n",
        " [<matplotlib.lines.Line2D at 0x161f23f10>],\n",
        " [<matplotlib.lines.Line2D at 0x161f25590>],\n",
        " [<matplotlib.lines.Line2D at 0x161f25bd0>]]"
       ]
      }
     ],
     "prompt_number": 13
    },
    {
     "cell_type": "code",
     "collapsed": false,
     "input": [],
     "language": "python",
     "metadata": {},
     "outputs": [],
     "prompt_number": 11
    },
    {
     "cell_type": "code",
     "collapsed": false,
     "input": [],
     "language": "python",
     "metadata": {},
     "outputs": []
    },
    {
     "cell_type": "code",
     "collapsed": false,
     "input": [
      "for rstr in spk_rasters[3:4]:\n",
      "    spike_flip_idxs = array(fixed_wb_flips)[array(rstr['f_spk_wbs'],dtype=int)+1]\n",
      "    subplot(3,1,1)\n",
      "    plot(L_a.times[spike_flip_idxs],rstr['f_spk_phases'],'o',alpha = 0.1,color = 'b') \n",
      "    subplot(3,1,2)\n",
      "    plot(L_a.times[spike_flip_idxs],L_a[spike_flip_idxs],'o',alpha = 0.1,color = 'b')\n",
      "    subplot(3,1,3)\n",
      "    plot(L_a[spike_flip_idxs],rstr['f_spk_phases'],'o',alpha = 0.1,color = 'b')\n",
      "#spike_flip_idxs = array(rstr['f_spk_wbs'],dtype=int)"
     ],
     "language": "python",
     "metadata": {},
     "outputs": [],
     "prompt_number": 16
    },
    {
     "cell_type": "code",
     "collapsed": false,
     "input": [
      "rstr = spk_rasters[3]\n",
      "spike_flip_idxs = array(fixed_wb_flips)[array(rstr['f_spk_wbs'],dtype=int)+1]\n",
      "plot(L_a[spike_flip_idxs],rstr['f_spk_phases'],'o',alpha = 0.1,color = 'b')"
     ],
     "language": "python",
     "metadata": {},
     "outputs": [
      {
       "output_type": "pyout",
       "prompt_number": 12,
       "text": [
        "[<matplotlib.lines.Line2D at 0x16c2ab550>]"
       ]
      }
     ],
     "prompt_number": 12
    },
    {
     "cell_type": "code",
     "collapsed": false,
     "input": [
      "for rstr in spk_rasters[:10]:\n",
      "    plot(rstr['f_spk_times'],rstr['f_spk_phases'],'o',color = 'k',alpha = 0.2)"
     ],
     "language": "python",
     "metadata": {},
     "outputs": [],
     "prompt_number": 14
    },
    {
     "cell_type": "code",
     "collapsed": false,
     "input": [
      "plot(e_sweeps[0])"
     ],
     "language": "python",
     "metadata": {},
     "outputs": [
      {
       "output_type": "pyout",
       "prompt_number": 15,
       "text": [
        "[<matplotlib.lines.Line2D at 0x11a8c3c10>]"
       ]
      }
     ],
     "prompt_number": 15
    },
    {
     "cell_type": "code",
     "collapsed": false,
     "input": [],
     "language": "python",
     "metadata": {},
     "outputs": [],
     "prompt_number": 411
    },
    {
     "cell_type": "code",
     "collapsed": false,
     "input": [],
     "language": "python",
     "metadata": {},
     "outputs": [],
     "prompt_number": 411
    },
    {
     "cell_type": "code",
     "collapsed": false,
     "input": [],
     "language": "python",
     "metadata": {},
     "outputs": []
    },
    {
     "cell_type": "code",
     "collapsed": false,
     "input": [],
     "language": "python",
     "metadata": {},
     "outputs": []
    },
    {
     "cell_type": "code",
     "collapsed": false,
     "input": [
      "def get_phases_wb_domain(t_num):\n",
      "    wbs = fly.processed_signals['wb_flips']\n",
      "    fix_mask = hstack((diff(wbs)<40,array(True)))\n",
      "    fixed_wbs = delete(wbs,argwhere(fix_mask))\n",
      "\n",
      "    swp_start = stim_pos[t_num].times[0]\n",
      "    pre_col_epoch = -1*(int(fly.clepoch/fly.dt)+int(fly.olepoch/fly.dt)+1)*fly.dt\n",
      "    swp_times = stim_pos[t_num].times - swp_start + t_start\n",
      "    t_col = swp_start-pre_col_epoch\n",
      "    times = fly.signals['AMsysCh1'].times\n",
      "    flips = fixed_wbs#fly.processed_signals['wb_peaks']\n",
      "    flip_times = times[flips]\n",
      "    wb_0 = argwhere(flip_times<t_col)[-1]\n",
      "    centered_wbs = empty(40,dtype = int)\n",
      "    centered_wbs[:30] = range(wb_0-30,wb_0)\n",
      "    centered_wbs[30:] = range(wb_0,wb_0+10)\n",
      "    #test_times = times[flips[centered_wbs[0]]:flips[centered_wbs[-1]]]\n",
      "    centered_wbt = flip_times[centered_wbs]\n",
      "    centered_wbi = flips[centered_wbs]\n",
      "    stimes = fly.processed_signals['spike_pool']\n",
      "    sphases = fly.processed_signals['spk_phases']\n",
      "    stim_val = fly.signals['Xpos']\n",
      "    centered_phases = list()\n",
      "    centered_stims = list()\n",
      "    for flip_time,flip_idx in zip(centered_wbt,centered_wbi):\n",
      "        s_idx = argwhere(flip_time>stimes)[-1]\n",
      "        centered_phases.append(sphases[s_idx])\n",
      "        centered_stims.append(stim_val[flip_idx])\n",
      "    return centered_phases,centered_stims\n",
      "\n",
      "for i in range(15):\n",
      "    plot(get_phases_wb_domain(i)[1],'o',color = 'k')"
     ],
     "language": "python",
     "metadata": {},
     "outputs": [],
     "prompt_number": 210
    },
    {
     "cell_type": "code",
     "collapsed": false,
     "input": [
      "fly.signals.keys()"
     ],
     "language": "python",
     "metadata": {},
     "outputs": [
      {
       "output_type": "pyout",
       "prompt_number": 207,
       "text": [
        "['Xpos', 'Sync', 'Ypos', 'IN 11', 'LeftWing', 'L_m_R', 'RightWing', 'AMsysCh1']"
       ]
      }
     ],
     "prompt_number": 207
    },
    {
     "cell_type": "code",
     "collapsed": false,
     "input": [
      "print t_col\n",
      "print flip_times[wb_0]\n",
      "print wb_0\n",
      "print centered_wbs\n",
      "plot(flip_times[centered_wbs],ones_like(flip_times[centered_wbs]),'o')\n",
      "plot(test_times,test_sig)"
     ],
     "language": "python",
     "metadata": {},
     "outputs": [
      {
       "output_type": "stream",
       "stream": "stdout",
       "text": [
        "26.62715 s\n",
        "[ 26.6313] s\n",
        "[5596]\n",
        "[5586 5587 5588 5589 5590 5591 5592 5593 5594 5595 5596 5597 5598 5599 5600\n",
        " 5601 5602 5603 5604 5605]\n"
       ]
      },
      {
       "output_type": "pyout",
       "prompt_number": 173,
       "text": [
        "[<matplotlib.lines.Line2D at 0x14e132ed0>]"
       ]
      }
     ],
     "prompt_number": 173
    },
    {
     "cell_type": "code",
     "collapsed": false,
     "input": [
      "plot(stim_pos[0].times,stim_pos[0])"
     ],
     "language": "python",
     "metadata": {},
     "outputs": [
      {
       "output_type": "pyout",
       "prompt_number": 60,
       "text": [
        "[<matplotlib.lines.Line2D at 0x1566edf10>]"
       ]
      }
     ],
     "prompt_number": 60
    },
    {
     "cell_type": "code",
     "collapsed": false,
     "input": [
      "h = hist(diff(peaks),bins = 200)"
     ],
     "language": "python",
     "metadata": {},
     "outputs": [],
     "prompt_number": 153
    },
    {
     "cell_type": "code",
     "collapsed": false,
     "input": [],
     "language": "python",
     "metadata": {},
     "outputs": [],
     "prompt_number": 411
    },
    {
     "cell_type": "code",
     "collapsed": false,
     "input": [],
     "language": "python",
     "metadata": {},
     "outputs": [],
     "prompt_number": 411
    },
    {
     "cell_type": "code",
     "collapsed": false,
     "input": [],
     "language": "python",
     "metadata": {},
     "outputs": [],
     "prompt_number": 411
    },
    {
     "cell_type": "code",
     "collapsed": false,
     "input": [],
     "language": "python",
     "metadata": {},
     "outputs": []
    }
   ],
   "metadata": {}
  }
 ]
}