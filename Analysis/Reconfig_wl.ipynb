{
 "metadata": {
  "name": "Reconfig_wl"
 },
 "nbformat": 3,
 "nbformat_minor": 0,
 "worksheets": [
  {
   "cells": [
    {
     "cell_type": "code",
     "collapsed": false,
     "input": [
      "x_rest = 2\n",
      "def get_force(dt,t,phase,strain,spike_phase = pi-3.1):\n",
      "    ###the spike train and activation function\n",
      "    a_tau = 0.005\n",
      "    a_impulse = lambda t: exp(-t/a_tau)\n",
      "    sp_train = (diff((phase<spike_phase).astype(float))<0)\n",
      "    A = np.convolve(sp_train,a_impulse(t))*5000\n",
      "\n",
      "    def fA(t0):\n",
      "        #print A[squeeze(argwhere(t0<t))[0]]\n",
      "        return A[squeeze(argwhere(t0<t))[0]]\n",
      "    def fx(t0):\n",
      "        #print x[squeeze(argwhere(t0<t))[0]]\n",
      "        return x[squeeze(argwhere(t0<t))[0]]\n",
      "    def fx_dot(t0):\n",
      "        #print x_dot[argwhere(t0<t)]\n",
      "        return x_dot[squeeze(argwhere(t0<t))[0]]\n",
      "\n",
      "    ######hill model\n",
      "    K_se = 150.0\n",
      "    K_pe = 0.05\n",
      "    b = 1.75\n",
      "    x_rest = 2\n",
      "    T_dot = lambda T,t0: (K_se/b) * ( K_pe * (fx(t0)- x_rest) + b*fx_dot(t0) - (1+ K_pe/K_se) * T + fA(t0))\n",
      "    T0 = 0\n",
      "    x = strain\n",
      "    x_dot = gradient(x,dt)\n",
      "    force = euint(T_dot,T0,t[:-1])\n",
      "    return force"
     ],
     "language": "python",
     "metadata": {},
     "outputs": [],
     "prompt_number": 1
    },
    {
     "cell_type": "code",
     "collapsed": false,
     "input": [
      "freq = 1/200.0\n",
      "rad_sec = (2*pi)/freq\n",
      "dt = 0.0001\n",
      "t = arange(0,0.2,dt)#linspace(0,1,10000)\n",
      "phase = mod(t*rad_sec,2*pi)"
     ],
     "language": "python",
     "metadata": {},
     "outputs": [],
     "prompt_number": 2
    },
    {
     "cell_type": "code",
     "collapsed": false,
     "input": [
      "C = array([cos(phase),sin(phase),ones_like(phase)])"
     ],
     "language": "python",
     "metadata": {},
     "outputs": [],
     "prompt_number": 3
    },
    {
     "cell_type": "code",
     "collapsed": false,
     "input": [
      "plot(C[0],C[1])"
     ],
     "language": "python",
     "metadata": {},
     "outputs": [
      {
       "output_type": "pyout",
       "prompt_number": 4,
       "text": [
        "[<matplotlib.lines.Line2D at 0x10ff8f1d0>]"
       ]
      }
     ],
     "prompt_number": 4
    },
    {
     "cell_type": "code",
     "collapsed": false,
     "input": [
      "#### Mode 1\n",
      "Sx = 2\n",
      "Sy = 12\n",
      "m1_skew_mat = array([[Sx,0,0],[0,Sy,0],[0,0,1]])\n",
      "Tx = 18\n",
      "Ty = -15\n",
      "m1_trans_mat = array([[1,0,Tx],[0,1,Ty],[0,0,1]])\n",
      "\n",
      "##### Mode 2\n",
      "Sx = 12\n",
      "Sy = 2\n",
      "m2_skew_mat = array([[Sx,0,0],[0,Sy,0],[0,0,1]])\n",
      "Tx = 18\n",
      "Ty = -15\n",
      "m2_trans_mat = array([[1,0,Tx],[0,1,Ty],[0,0,1]])"
     ],
     "language": "python",
     "metadata": {},
     "outputs": [],
     "prompt_number": 5
    },
    {
     "cell_type": "code",
     "collapsed": false,
     "input": [
      "m1_transform = dot(m1_trans_mat,m1_skew_mat)\n",
      "m2_transform = dot(m2_trans_mat,m2_skew_mat)\n",
      "m1_B1_pos = dot(m1_transform,C)\n",
      "m2_B1_pos = dot(m2_transform,C)\n",
      "m1_strain = vector_norm(array([m1_B1_pos[0],m1_B1_pos[1]]),0)\n",
      "m2_strain = vector_norm(array([m2_B1_pos[0],m2_B1_pos[1]]),0)"
     ],
     "language": "python",
     "metadata": {},
     "outputs": [
      {
       "ename": "NameError",
       "evalue": "name 'vector_norm' is not defined",
       "output_type": "pyerr",
       "traceback": [
        "\u001b[0;31m---------------------------------------------------------------------------\u001b[0m\n\u001b[0;31mNameError\u001b[0m                                 Traceback (most recent call last)",
        "\u001b[0;32m<ipython-input-6-6b5b6637a69c>\u001b[0m in \u001b[0;36m<module>\u001b[0;34m()\u001b[0m\n\u001b[1;32m      3\u001b[0m \u001b[0mm1_B1_pos\u001b[0m \u001b[0;34m=\u001b[0m \u001b[0mdot\u001b[0m\u001b[0;34m(\u001b[0m\u001b[0mm1_transform\u001b[0m\u001b[0;34m,\u001b[0m\u001b[0mC\u001b[0m\u001b[0;34m)\u001b[0m\u001b[0;34m\u001b[0m\u001b[0m\n\u001b[1;32m      4\u001b[0m \u001b[0mm2_B1_pos\u001b[0m \u001b[0;34m=\u001b[0m \u001b[0mdot\u001b[0m\u001b[0;34m(\u001b[0m\u001b[0mm2_transform\u001b[0m\u001b[0;34m,\u001b[0m\u001b[0mC\u001b[0m\u001b[0;34m)\u001b[0m\u001b[0;34m\u001b[0m\u001b[0m\n\u001b[0;32m----> 5\u001b[0;31m \u001b[0mm1_strain\u001b[0m \u001b[0;34m=\u001b[0m \u001b[0mvector_norm\u001b[0m\u001b[0;34m(\u001b[0m\u001b[0marray\u001b[0m\u001b[0;34m(\u001b[0m\u001b[0;34m[\u001b[0m\u001b[0mm1_B1_pos\u001b[0m\u001b[0;34m[\u001b[0m\u001b[0;36m0\u001b[0m\u001b[0;34m]\u001b[0m\u001b[0;34m,\u001b[0m\u001b[0mm1_B1_pos\u001b[0m\u001b[0;34m[\u001b[0m\u001b[0;36m1\u001b[0m\u001b[0;34m]\u001b[0m\u001b[0;34m]\u001b[0m\u001b[0;34m)\u001b[0m\u001b[0;34m,\u001b[0m\u001b[0;36m0\u001b[0m\u001b[0;34m)\u001b[0m\u001b[0;34m\u001b[0m\u001b[0m\n\u001b[0m\u001b[1;32m      6\u001b[0m \u001b[0mm2_strain\u001b[0m \u001b[0;34m=\u001b[0m \u001b[0mvector_norm\u001b[0m\u001b[0;34m(\u001b[0m\u001b[0marray\u001b[0m\u001b[0;34m(\u001b[0m\u001b[0;34m[\u001b[0m\u001b[0mm2_B1_pos\u001b[0m\u001b[0;34m[\u001b[0m\u001b[0;36m0\u001b[0m\u001b[0;34m]\u001b[0m\u001b[0;34m,\u001b[0m\u001b[0mm2_B1_pos\u001b[0m\u001b[0;34m[\u001b[0m\u001b[0;36m1\u001b[0m\u001b[0;34m]\u001b[0m\u001b[0;34m]\u001b[0m\u001b[0;34m)\u001b[0m\u001b[0;34m,\u001b[0m\u001b[0;36m0\u001b[0m\u001b[0;34m)\u001b[0m\u001b[0;34m\u001b[0m\u001b[0m\n",
        "\u001b[0;31mNameError\u001b[0m: name 'vector_norm' is not defined"
       ]
      }
     ],
     "prompt_number": 6
    },
    {
     "cell_type": "code",
     "collapsed": false,
     "input": [
      "plot(m1_strain)\n",
      "plot(m2_strain)"
     ],
     "language": "python",
     "metadata": {},
     "outputs": [
      {
       "output_type": "pyout",
       "prompt_number": 1128,
       "text": [
        "[<matplotlib.lines.Line2D at 0x14397df90>]"
       ]
      }
     ],
     "prompt_number": 1128
    },
    {
     "cell_type": "code",
     "collapsed": false,
     "input": [
      "figure()\n",
      "ax = subplot(2,3,1)\n",
      "colorline(m1_B1_pos[0][-101:-1],m1_B1_pos[1][-101:-1],z = phase/(2*pi))\n",
      "ax.set_xbound(0,40)\n",
      "ax.set_ybound(0,-40)\n",
      "ax = subplot(2,3,4)\n",
      "colorline(m2_B1_pos[0][-101:-1],m2_B1_pos[1][-101:-1],z = phase/(2*pi))\n",
      "ax.set_xbound(0,40)\n",
      "ax.set_ybound(0,-40)\n",
      "\n",
      "m1_force_early = get_force(dt,t,phase,m1_strain,spike_phase = pi-3.1)\n",
      "m1_force_late = get_force(dt,t,phase,m1_strain,spike_phase = pi)\n",
      "ax = subplot(2,3,2)\n",
      "colorline(m1_strain[-101:-1]/x_rest,m1_force_late[-100:],z = phase[-101:-1]/(2*pi))\n",
      "ax.set_xbound(0,10)\n",
      "ax.set_ybound(3500,7000)\n",
      "ax = subplot(2,3,3)\n",
      "colorline(m1_strain[-101:-1]/x_rest,m1_force_early[-100:],z = phase[-101:-1]/(2*pi))\n",
      "ax.set_xbound(0,10)\n",
      "ax.set_ybound(3500,7000)\n",
      "\n",
      "ax = subplot(2,3,5)\n",
      "m2_force_early = get_force(dt,t,phase,m2_strain,spike_phase = pi-3.1)\n",
      "m2_force_late = get_force(dt,t,phase,m2_strain,spike_phase = pi)\n",
      "colorline(m2_strain[-101:-1]/x_rest,m2_force_late[-100:],z = phase[-101:-1]/(2*pi))\n",
      "ax.set_xbound(0,10)\n",
      "ax.set_ybound(3500,7000)\n",
      "ax = subplot(2,3,6)\n",
      "colorline(m2_strain[-101:-1]/x_rest,m2_force_early[-100:],z = phase[-101:-1]/(2*pi))\n",
      "ax.set_xbound(0,10)\n",
      "ax.set_ybound(3500,7000)\n",
      "#ax.set_aspect('equal')"
     ],
     "language": "python",
     "metadata": {},
     "outputs": [
      {
       "output_type": "stream",
       "stream": "stdout",
       "text": [
        "[ 0.      0.0001  0.0002  0.0003  0.0004]\n",
        "[ 0.      0.0001  0.0002  0.0003  0.0004]"
       ]
      },
      {
       "output_type": "stream",
       "stream": "stdout",
       "text": [
        "\n",
        "[ 0.      0.0001  0.0002  0.0003  0.0004]"
       ]
      },
      {
       "output_type": "stream",
       "stream": "stdout",
       "text": [
        "\n",
        "[ 0.      0.0001  0.0002  0.0003  0.0004]"
       ]
      },
      {
       "output_type": "stream",
       "stream": "stdout",
       "text": [
        "\n"
       ]
      }
     ],
     "prompt_number": 1141
    },
    {
     "cell_type": "code",
     "collapsed": false,
     "input": [
      ") #phase/(2*pi))\n",
      "colorline(m2_B1_pos[0],m2_B1_pos[1],z = squeeze(m2_diff-min(m2_diff))/(max(m2_diff)))\n",
      "ax.set_xbound(min(m1_B1_pos.ravel()),max(m1_B1_pos.ravel()))\n",
      "ax.set_ybound(min(m1_B1_pos.ravel()),max(m1_B1_pos.ravel()))\n",
      "ax.set_aspect('equal')"
     ],
     "language": "python",
     "metadata": {},
     "outputs": [
      {
       "ename": "SyntaxError",
       "evalue": "invalid syntax (<ipython-input-1129-0d03f6e81229>, line 1)",
       "output_type": "pyerr",
       "traceback": [
        "\u001b[0;36m  File \u001b[0;32m\"<ipython-input-1129-0d03f6e81229>\"\u001b[0;36m, line \u001b[0;32m1\u001b[0m\n\u001b[0;31m    ) #phase/(2*pi))\u001b[0m\n\u001b[0m    ^\u001b[0m\n\u001b[0;31mSyntaxError\u001b[0m\u001b[0;31m:\u001b[0m invalid syntax\n"
       ]
      }
     ],
     "prompt_number": 1129
    },
    {
     "cell_type": "code",
     "collapsed": false,
     "input": [
      "plot(m2_diff,phase[:-1])\n",
      "plot(m1_diff,phase[:-1])"
     ],
     "language": "python",
     "metadata": {},
     "outputs": [
      {
       "output_type": "pyout",
       "prompt_number": 1029,
       "text": [
        "[<matplotlib.lines.Line2D at 0x145f71190>]"
       ]
      }
     ],
     "prompt_number": 1029
    },
    {
     "cell_type": "code",
     "collapsed": false,
     "input": [
      "m1_force_early = get_force(dt,t,phase,m1_strain,spike_phase = pi-3.1)\n",
      "m1_force_late = get_force(dt,t,phase,m1_strain,spike_phase = pi)\n",
      "m1_diff = m1_force_early-m1_force_late\n",
      "\n",
      "m2_force_early = get_force(dt,t,phase,m2_strain,spike_phase = pi-3.1)\n",
      "m2_force_late = get_force(dt,t,phase,m2_strain,spike_phase = pi)\n",
      "m2_diff = m2_force_early - m2_force_late"
     ],
     "language": "python",
     "metadata": {},
     "outputs": [
      {
       "output_type": "stream",
       "stream": "stdout",
       "text": [
        "[ 0.      0.0001  0.0002  0.0003  0.0004]\n",
        "[ 0.      0.0001  0.0002  0.0003  0.0004]"
       ]
      },
      {
       "output_type": "stream",
       "stream": "stdout",
       "text": [
        "\n",
        "[ 0.      0.0001  0.0002  0.0003  0.0004]"
       ]
      },
      {
       "output_type": "stream",
       "stream": "stdout",
       "text": [
        "\n",
        "[ 0.      0.0001  0.0002  0.0003  0.0004]"
       ]
      },
      {
       "output_type": "stream",
       "stream": "stdout",
       "text": [
        "\n"
       ]
      }
     ],
     "prompt_number": 999
    },
    {
     "cell_type": "code",
     "collapsed": false,
     "input": [],
     "language": "python",
     "metadata": {},
     "outputs": [
      {
       "output_type": "pyout",
       "prompt_number": 1035,
       "text": [
        "[<matplotlib.lines.Line2D at 0x145fefd50>]"
       ]
      }
     ],
     "prompt_number": 1035
    },
    {
     "cell_type": "code",
     "collapsed": false,
     "input": [
      "plot(m2_force_early)"
     ],
     "language": "python",
     "metadata": {},
     "outputs": [
      {
       "output_type": "pyout",
       "prompt_number": 1034,
       "text": [
        "[<matplotlib.lines.Line2D at 0x145feb350>]"
       ]
      }
     ],
     "prompt_number": 1034
    },
    {
     "cell_type": "code",
     "collapsed": false,
     "input": [
      "subplot(2,1,1)\n",
      "x = m1_strain#cos(phase)*-10\n",
      "x_dot = gradient(x,dt)\n",
      "o = euint(T_dot,T0,t[:-1])\n",
      "activation = A[:len(phase)][-100:-1]\n",
      "colorline(x[-101:-1],o[-100:],z= activation/max(activation))\n",
      "colorline(x[-101:-1],o[-100:],z= phase[-101:-1]/(2*pi))\n",
      "#plot(x[-101:-1],o[-100:])\n",
      "ax = gca()\n",
      "ax.set_xbound(min(x.ravel()),max(x.ravel()))\n",
      "ax.set_ybound(min(o.ravel()),max(o.ravel()))\n",
      "\n",
      "subplot(2,1,2)\n",
      "x = m2_strain#cos(phase)*-10\n",
      "x_dot = gradient(x,dt)\n",
      "o = euint(T_dot,T0,t[:-1])\n",
      "activation = A[:len(phase)][-100:-1]\n",
      "colorline(x[-101:-1],o[-100:],z= activation/max(activation))\n",
      "colorline(x[-101:-1],o[-100:],z= phase[-101:-1]/(2*pi))\n",
      "#plot(x[-101:-1],o[-100:])\n",
      "ax = gca()\n",
      "ax.set_xbound(min(x.ravel()),max(x.ravel()))\n",
      "ax.set_ybound(min(o.ravel()),max(o.ravel()))"
     ],
     "language": "python",
     "metadata": {},
     "outputs": [
      {
       "output_type": "stream",
       "stream": "stdout",
       "text": [
        "[ 0.      0.0001  0.0002  0.0003  0.0004]\n",
        "[ 0.      0.0001  0.0002  0.0003  0.0004]"
       ]
      },
      {
       "output_type": "stream",
       "stream": "stdout",
       "text": [
        "\n"
       ]
      }
     ],
     "prompt_number": 943
    },
    {
     "cell_type": "code",
     "collapsed": false,
     "input": [],
     "language": "python",
     "metadata": {},
     "outputs": []
    },
    {
     "cell_type": "code",
     "collapsed": false,
     "input": [],
     "language": "python",
     "metadata": {},
     "outputs": []
    },
    {
     "cell_type": "code",
     "collapsed": false,
     "input": [],
     "language": "python",
     "metadata": {},
     "outputs": []
    },
    {
     "cell_type": "code",
     "collapsed": false,
     "input": [
      "plot(m1_strain)\n",
      "plot(m2_strain)\n",
      "plot(m1_stress)\n",
      "plot(m2_stress)\n",
      "plot(twitch)"
     ],
     "language": "python",
     "metadata": {},
     "outputs": [
      {
       "output_type": "pyout",
       "prompt_number": 212,
       "text": [
        "[<matplotlib.lines.Line2D at 0x1154b6e50>]"
       ]
      }
     ],
     "prompt_number": 212
    },
    {
     "cell_type": "code",
     "collapsed": false,
     "input": [
      "plot(m1_B1_pos[0],m1_B1_pos[])"
     ],
     "language": "python",
     "metadata": {},
     "outputs": [
      {
       "output_type": "pyout",
       "prompt_number": 219,
       "text": [
        "[<matplotlib.lines.Line2D at 0x1167cae90>]"
       ]
      }
     ],
     "prompt_number": 219
    },
    {
     "cell_type": "code",
     "collapsed": false,
     "input": [
      "plot(vector_norm(x,0))"
     ],
     "language": "python",
     "metadata": {},
     "outputs": [
      {
       "output_type": "pyout",
       "prompt_number": 144,
       "text": [
        "[<matplotlib.lines.Line2D at 0x114f26950>]"
       ]
      }
     ],
     "prompt_number": 144
    },
    {
     "cell_type": "code",
     "collapsed": false,
     "input": [],
     "language": "python",
     "metadata": {},
     "outputs": [],
     "prompt_number": 200
    },
    {
     "cell_type": "code",
     "collapsed": false,
     "input": [
      "# Topics: line, color, LineCollection, cmap, colorline, codex\n",
      "'''\n",
      "Defines a function colorline that draws a (multi-)colored 2D line with coordinates x and y.\n",
      "The color is taken from optional data in z, and creates a LineCollection.\n",
      "\n",
      "z can be:\n",
      "- empty, in which case a default coloring will be used based on the position along the input arrays\n",
      "- a single number, for a uniform color [this can also be accomplished with the usual plt.plot]\n",
      "- an array of the length of at least the same length as x, to color according to this data\n",
      "- an array of a smaller length, in which case the colors are repeated along the curve\n",
      "\n",
      "The function colorline returns the LineCollection created, which can be modified afterwards.\n",
      "\n",
      "See also: plt.streamplot\n",
      "'''\n",
      "\n",
      "import numpy as np\n",
      "import matplotlib.pyplot as plt\n",
      "from matplotlib.collections import LineCollection\n",
      "from matplotlib.colors import ListedColormap, BoundaryNorm\n",
      "\n",
      "\n",
      "# Data manipulation:\n",
      "\n",
      "def make_segments(x, y):\n",
      "    '''\n",
      "    Create list of line segments from x and y coordinates, in the correct format for LineCollection:\n",
      "    an array of the form   numlines x (points per line) x 2 (x and y) array\n",
      "    '''\n",
      "\n",
      "    points = np.array([x, y]).T.reshape(-1, 1, 2)\n",
      "    segments = np.concatenate([points[:-1], points[1:]], axis=1)\n",
      "    \n",
      "    return segments\n",
      "\n",
      "\n",
      "# Interface to LineCollection:\n",
      "\n",
      "def colorline(x, y, z=None, cmap=plt.get_cmap('copper'), norm=plt.Normalize(0.0, 1.0), linewidth=3, alpha=1.0):\n",
      "    '''\n",
      "    Plot a colored line with coordinates x and y\n",
      "    Optionally specify colors in the array z\n",
      "    Optionally specify a colormap, a norm function and a line width\n",
      "    '''\n",
      "    \n",
      "    # Default colors equally spaced on [0,1]:\n",
      "    if z is None:\n",
      "        z = np.linspace(0.0, 1.0, len(x))\n",
      "           \n",
      "    # Special case if a single number:\n",
      "    if not hasattr(z, \"__iter__\"):  # to check for numerical input -- this is a hack\n",
      "        z = np.array([z])\n",
      "        \n",
      "    z = np.asarray(z)\n",
      "    \n",
      "    segments = make_segments(x, y)\n",
      "    lc = LineCollection(segments, array=z, cmap=cmap, norm=norm, linewidth=linewidth, alpha=alpha)\n",
      "    \n",
      "    ax = plt.gca()\n",
      "    ax.add_collection(lc)\n",
      "    \n",
      "    return lc\n",
      "        \n",
      "    \n",
      "def clear_frame(ax=None): \n",
      "    # Taken from a post by Tony S Yu\n",
      "    if ax is None: \n",
      "        ax = plt.gca() \n",
      "    ax.xaxis.set_visible(False) \n",
      "    ax.yaxis.set_visible(False) \n",
      "    for spine in ax.spines.itervalues(): \n",
      "        spine.set_visible(False) "
     ],
     "language": "python",
     "metadata": {},
     "outputs": [],
     "prompt_number": 25
    },
    {
     "cell_type": "code",
     "collapsed": false,
     "input": [
      "def vector_norm(data, axis=None, out=None):\n",
      "    \"\"\"Return length, i.e. Euclidean norm, of ndarray along axis.\n",
      "\n",
      "    >>> v = numpy.random.random(3)\n",
      "    >>> n = vector_norm(v)\n",
      "    >>> numpy.allclose(n, numpy.linalg.norm(v))\n",
      "    True\n",
      "    >>> v = numpy.random.rand(6, 5, 3)\n",
      "    >>> n = vector_norm(v, axis=-1)\n",
      "    >>> numpy.allclose(n, numpy.sqrt(numpy.sum(v*v, axis=2)))\n",
      "    True\n",
      "    >>> n = vector_norm(v, axis=1)\n",
      "    >>> numpy.allclose(n, numpy.sqrt(numpy.sum(v*v, axis=1)))\n",
      "    True\n",
      "    >>> v = numpy.random.rand(5, 4, 3)\n",
      "    >>> n = numpy.empty((5, 3))\n",
      "    >>> vector_norm(v, axis=1, out=n)\n",
      "    >>> numpy.allclose(n, numpy.sqrt(numpy.sum(v*v, axis=1)))\n",
      "    True\n",
      "    >>> vector_norm([])\n",
      "    0.0\n",
      "    >>> vector_norm([1])\n",
      "    1.0\n",
      "\n",
      "    \"\"\"\n",
      "    data = numpy.array(data, dtype=numpy.float64, copy=True)\n",
      "    if out is None:\n",
      "        if data.ndim == 1:\n",
      "            return math.sqrt(numpy.dot(data, data))\n",
      "        data *= data\n",
      "        out = numpy.atleast_1d(numpy.sum(data, axis=axis))\n",
      "        numpy.sqrt(out, out)\n",
      "        return out\n",
      "    else:\n",
      "        data *= data\n",
      "        numpy.sum(data, axis=axis, out=out)\n",
      "        numpy.sqrt(out, out)\n"
     ],
     "language": "python",
     "metadata": {},
     "outputs": [],
     "prompt_number": 140
    },
    {
     "cell_type": "code",
     "collapsed": false,
     "input": [
      "plot(x)"
     ],
     "language": "python",
     "metadata": {},
     "outputs": [
      {
       "output_type": "pyout",
       "prompt_number": 892,
       "text": [
        "[<matplotlib.lines.Line2D at 0x1409b41d0>]"
       ]
      }
     ],
     "prompt_number": 892
    },
    {
     "cell_type": "code",
     "collapsed": false,
     "input": [
      "plot(x_dot_2)\n",
      "plot(x_dot)"
     ],
     "language": "python",
     "metadata": {},
     "outputs": [
      {
       "output_type": "pyout",
       "prompt_number": 854,
       "text": [
        "[<matplotlib.lines.Line2D at 0x139a8d210>]"
       ]
      }
     ],
     "prompt_number": 854
    },
    {
     "cell_type": "code",
     "collapsed": false,
     "input": [
      "x = ones_like(t)*5\n",
      "x_dot = zeros_like(t)\n",
      "o = euint(T_dot,T0,t[:-1])\n",
      "#colorline(x[-101:-1],o[-100:],z= phase[-101:-1]/(2*pi))\n",
      "plot(t[:-1],o)"
     ],
     "language": "python",
     "metadata": {},
     "outputs": [
      {
       "output_type": "stream",
       "stream": "stdout",
       "text": [
        "[ 0.      0.0001  0.0002  0.0003  0.0004]\n"
       ]
      },
      {
       "output_type": "pyout",
       "prompt_number": 875,
       "text": [
        "[<matplotlib.lines.Line2D at 0x140904890>]"
       ]
      }
     ],
     "prompt_number": 875
    },
    {
     "cell_type": "code",
     "collapsed": false,
     "input": [
      "plot(x)\n",
      "plot(x_dot)"
     ],
     "language": "python",
     "metadata": {},
     "outputs": [
      {
       "output_type": "pyout",
       "prompt_number": 738,
       "text": [
        "[<matplotlib.lines.Line2D at 0x13cb39250>]"
       ]
      }
     ],
     "prompt_number": 738
    },
    {
     "cell_type": "code",
     "collapsed": false,
     "input": [
      "def euint(fun,y0,t):\n",
      "    Y = np.zeros((np.size(t),(np.size(y0))))\n",
      "    Y[0,:] = y0\n",
      "    dt = t[1]-t[0]\n",
      "    print t[0:5]\n",
      "    for i in xrange(np.size(t)-1):\n",
      "        df_dt = fun(Y[i,:],t[i])\n",
      "        Y[i+1,:] = Y[i,:] + df_dt*np.array(dt)\n",
      "    return Y\n",
      "\n",
      "def simulate(t,method = 'odeint'):\n",
      "    y0 = get_y0() # get initial conditions\n",
      "    if method is 'odeint':\n",
      "        Y,info = odeint(d_dt,y0,t,full_output = True) # integrate\n",
      "        print info['message']\n",
      "    else:\n",
      "        Y = euint(d_dt,y0,t)\n",
      "        print \"euler integration\"\n",
      "    return Y"
     ],
     "language": "python",
     "metadata": {},
     "outputs": [],
     "prompt_number": 251
    },
    {
     "cell_type": "code",
     "collapsed": false,
     "input": [],
     "language": "python",
     "metadata": {},
     "outputs": [
      {
       "output_type": "pyout",
       "prompt_number": 670,
       "text": [
        "<matplotlib.collections.LineCollection at 0x13735d150>"
       ]
      }
     ],
     "prompt_number": 670
    },
    {
     "cell_type": "code",
     "collapsed": false,
     "input": [
      "plot(o,x[:-8000])"
     ],
     "language": "python",
     "metadata": {},
     "outputs": [
      {
       "output_type": "pyout",
       "prompt_number": 630,
       "text": [
        "[<matplotlib.lines.Line2D at 0x13789f750>]"
       ]
      }
     ],
     "prompt_number": 630
    },
    {
     "cell_type": "code",
     "collapsed": false,
     "input": [],
     "language": "python",
     "metadata": {},
     "outputs": [],
     "prompt_number": 540
    },
    {
     "cell_type": "code",
     "collapsed": false,
     "input": [
      "plot(phase[:-8000],o)"
     ],
     "language": "python",
     "metadata": {},
     "outputs": [
      {
       "output_type": "pyout",
       "prompt_number": 549,
       "text": [
        "[<matplotlib.lines.Line2D at 0x12311a710>]"
       ]
      }
     ],
     "prompt_number": 549
    },
    {
     "cell_type": "code",
     "collapsed": false,
     "input": [
      "plot("
     ],
     "language": "python",
     "metadata": {},
     "outputs": [
      {
       "output_type": "pyout",
       "prompt_number": 570,
       "text": [
        "[<matplotlib.lines.Line2D at 0x133e3cf10>]"
       ]
      }
     ],
     "prompt_number": 570
    },
    {
     "cell_type": "code",
     "collapsed": false,
     "input": [],
     "language": "python",
     "metadata": {},
     "outputs": []
    }
   ],
   "metadata": {}
  }
 ]
}