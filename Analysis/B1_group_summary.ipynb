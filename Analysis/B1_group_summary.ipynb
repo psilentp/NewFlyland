{
 "metadata": {
  "name": "B1_group_summary"
 },
 "nbformat": 3,
 "nbformat_minor": 0,
 "worksheets": [
  {
   "cells": [
    {
     "cell_type": "code",
     "collapsed": false,
     "input": [
      "import cPickle"
     ],
     "language": "python",
     "metadata": {},
     "outputs": [],
     "prompt_number": 1
    },
    {
     "cell_type": "code",
     "collapsed": false,
     "input": [
      "cells = [28,29,32,35,37,38,40,41,42,43,47,49]\n",
      "data_list = list()\n",
      "for cell in cells:\n",
      "    print cell\n",
      "    f = open('summmary_data_Fly%s.cpkl'%(cell),'rb')\n",
      "    data_list.append(cPickle.load(f))\n",
      "    f.close()"
     ],
     "language": "python",
     "metadata": {},
     "outputs": [
      {
       "output_type": "stream",
       "stream": "stdout",
       "text": [
        "28\n",
        "29"
       ]
      },
      {
       "output_type": "stream",
       "stream": "stdout",
       "text": [
        "\n",
        "32"
       ]
      },
      {
       "output_type": "stream",
       "stream": "stdout",
       "text": [
        "\n",
        "35"
       ]
      },
      {
       "output_type": "stream",
       "stream": "stdout",
       "text": [
        "\n",
        "37"
       ]
      },
      {
       "output_type": "stream",
       "stream": "stdout",
       "text": [
        "\n",
        "38"
       ]
      },
      {
       "output_type": "stream",
       "stream": "stdout",
       "text": [
        "\n",
        "40"
       ]
      },
      {
       "output_type": "stream",
       "stream": "stdout",
       "text": [
        "\n",
        "41"
       ]
      },
      {
       "output_type": "stream",
       "stream": "stdout",
       "text": [
        "\n",
        "42"
       ]
      },
      {
       "output_type": "stream",
       "stream": "stdout",
       "text": [
        "\n",
        "43"
       ]
      },
      {
       "output_type": "stream",
       "stream": "stdout",
       "text": [
        "\n",
        "47"
       ]
      },
      {
       "output_type": "stream",
       "stream": "stdout",
       "text": [
        "\n",
        "49"
       ]
      },
      {
       "output_type": "stream",
       "stream": "stdout",
       "text": [
        "\n"
       ]
      }
     ],
     "prompt_number": 2
    },
    {
     "cell_type": "code",
     "collapsed": false,
     "input": [
      "v_strs = list()\n",
      "for data in data_list:\n",
      "    figure(figsize = (5,10))\n",
      "    for i,trial in enumerate(data[1][5:10]):\n",
      "        axc = subplot(5,2,(i+1)*2 - 1)\n",
      "        plot(trial['f_spk_ipsi_amp'],trial['f_spk_phases'],'o',alpha = 0.2,color = 'k')\n",
      "        axp = subplot(5,2,(i+1)*2,polar = True)\n",
      "        bins = linspace(0,2*pi,94)\n",
      "        h= histogram(fph.fix_transform(trial['down_x_pos'][2000:5000]),bins = bins,normed = True)\n",
      "        plot(h[1][:-1],h[0])\n",
      "        #axp.set_xticklabels([])\n",
      "        axp.set_yticklabels([])\n",
      "        axc.set_xbound(3,8)\n",
      "        axc.set_ybound(0,2*pi)\n",
      "        v_strs.append(get_v_strenght(trial))"
     ],
     "language": "python",
     "metadata": {},
     "outputs": [
      {
       "ename": "NameError",
       "evalue": "name 'fph' is not defined",
       "output_type": "pyerr",
       "traceback": [
        "\u001b[0;31m---------------------------------------------------------------------------\u001b[0m\n\u001b[0;31mNameError\u001b[0m                                 Traceback (most recent call last)",
        "\u001b[0;32m<ipython-input-3-e260756ab4a7>\u001b[0m in \u001b[0;36m<module>\u001b[0;34m()\u001b[0m\n\u001b[1;32m      7\u001b[0m         \u001b[0maxp\u001b[0m \u001b[0;34m=\u001b[0m \u001b[0msubplot\u001b[0m\u001b[0;34m(\u001b[0m\u001b[0;36m5\u001b[0m\u001b[0;34m,\u001b[0m\u001b[0;36m2\u001b[0m\u001b[0;34m,\u001b[0m\u001b[0;34m(\u001b[0m\u001b[0mi\u001b[0m\u001b[0;34m+\u001b[0m\u001b[0;36m1\u001b[0m\u001b[0;34m)\u001b[0m\u001b[0;34m*\u001b[0m\u001b[0;36m2\u001b[0m\u001b[0;34m,\u001b[0m\u001b[0mpolar\u001b[0m \u001b[0;34m=\u001b[0m \u001b[0mTrue\u001b[0m\u001b[0;34m)\u001b[0m\u001b[0;34m\u001b[0m\u001b[0m\n\u001b[1;32m      8\u001b[0m         \u001b[0mbins\u001b[0m \u001b[0;34m=\u001b[0m \u001b[0mlinspace\u001b[0m\u001b[0;34m(\u001b[0m\u001b[0;36m0\u001b[0m\u001b[0;34m,\u001b[0m\u001b[0;36m2\u001b[0m\u001b[0;34m*\u001b[0m\u001b[0mpi\u001b[0m\u001b[0;34m,\u001b[0m\u001b[0;36m94\u001b[0m\u001b[0;34m)\u001b[0m\u001b[0;34m\u001b[0m\u001b[0m\n\u001b[0;32m----> 9\u001b[0;31m         \u001b[0mh\u001b[0m\u001b[0;34m=\u001b[0m \u001b[0mhistogram\u001b[0m\u001b[0;34m(\u001b[0m\u001b[0mfph\u001b[0m\u001b[0;34m.\u001b[0m\u001b[0mfix_transform\u001b[0m\u001b[0;34m(\u001b[0m\u001b[0mtrial\u001b[0m\u001b[0;34m[\u001b[0m\u001b[0;34m'down_x_pos'\u001b[0m\u001b[0;34m]\u001b[0m\u001b[0;34m[\u001b[0m\u001b[0;36m2000\u001b[0m\u001b[0;34m:\u001b[0m\u001b[0;36m5000\u001b[0m\u001b[0;34m]\u001b[0m\u001b[0;34m)\u001b[0m\u001b[0;34m,\u001b[0m\u001b[0mbins\u001b[0m \u001b[0;34m=\u001b[0m \u001b[0mbins\u001b[0m\u001b[0;34m,\u001b[0m\u001b[0mnormed\u001b[0m \u001b[0;34m=\u001b[0m \u001b[0mTrue\u001b[0m\u001b[0;34m)\u001b[0m\u001b[0;34m\u001b[0m\u001b[0m\n\u001b[0m\u001b[1;32m     10\u001b[0m         \u001b[0mplot\u001b[0m\u001b[0;34m(\u001b[0m\u001b[0mh\u001b[0m\u001b[0;34m[\u001b[0m\u001b[0;36m1\u001b[0m\u001b[0;34m]\u001b[0m\u001b[0;34m[\u001b[0m\u001b[0;34m:\u001b[0m\u001b[0;34m-\u001b[0m\u001b[0;36m1\u001b[0m\u001b[0;34m]\u001b[0m\u001b[0;34m,\u001b[0m\u001b[0mh\u001b[0m\u001b[0;34m[\u001b[0m\u001b[0;36m0\u001b[0m\u001b[0;34m]\u001b[0m\u001b[0;34m)\u001b[0m\u001b[0;34m\u001b[0m\u001b[0m\n\u001b[1;32m     11\u001b[0m         \u001b[0;31m#axp.set_xticklabels([])\u001b[0m\u001b[0;34m\u001b[0m\u001b[0;34m\u001b[0m\u001b[0m\n",
        "\u001b[0;31mNameError\u001b[0m: name 'fph' is not defined"
       ]
      }
     ],
     "prompt_number": 3
    },
    {
     "cell_type": "code",
     "collapsed": false,
     "input": [],
     "language": "python",
     "metadata": {},
     "outputs": []
    },
    {
     "cell_type": "code",
     "collapsed": false,
     "input": [
      "for i,data in enumerate(data_list):\n",
      "    c = cm.Set1(float(i)/len(data_list))\n",
      "    amp = array(concatenate([t['f_spk_ipsi_amp'] for t in data[1]]))\n",
      "    phase = array(concatenate([t['f_spk_phases'] for t in data[1]]))\n",
      "    #pnts = vstack((array(amp),array(phase)))\n",
      "    fit = polyfit(amp,phase,1)\n",
      "    fit_fn = poly1d(fit)\n",
      "    x = arange(10)\n",
      "    plot(x,fit_fn(x),color = 'k')\n",
      "    #print(shape(phase))\n",
      "    \n",
      "    #scatter(amp[::10],phase[::10],alpha = 0.05,c = c)\n",
      "    #plot_point_cov(pnts.T,nstd=2,fc='none')"
     ],
     "language": "python",
     "metadata": {},
     "outputs": [],
     "prompt_number": 8
    },
    {
     "cell_type": "code",
     "collapsed": false,
     "input": [
      "array(amp)"
     ],
     "language": "python",
     "metadata": {},
     "outputs": [
      {
       "output_type": "pyout",
       "prompt_number": 325,
       "text": [
        "array([ 3.2019043 ,  2.83447266,  3.23974609, ...,  1.49505615,\n",
        "        1.69616699,  1.50634766], dtype=float32)"
       ]
      }
     ],
     "prompt_number": 325
    },
    {
     "cell_type": "code",
     "collapsed": false,
     "input": [
      "pi/4.0"
     ],
     "language": "python",
     "metadata": {},
     "outputs": [
      {
       "output_type": "pyout",
       "prompt_number": 346,
       "text": [
        "0.7853981633974483"
       ]
      }
     ],
     "prompt_number": 346
    },
    {
     "cell_type": "code",
     "collapsed": false,
     "input": [
      "trial.keys()"
     ],
     "language": "python",
     "metadata": {},
     "outputs": [
      {
       "output_type": "pyout",
       "prompt_number": 356,
       "text": [
        "['down_x_pos',\n",
        " 'f_spk_phases',\n",
        " 'down_contra_amp',\n",
        " 'f_spk_flips',\n",
        " 'f_spk_wbs',\n",
        " 'f_spk_ipsi_amp',\n",
        " 'down_ipsi_amp',\n",
        " 'f_spk_times',\n",
        " 'down_times',\n",
        " 'f_spk_contra_amp']"
       ]
      }
     ],
     "prompt_number": 356
    },
    {
     "cell_type": "code",
     "collapsed": false,
     "input": [
      "data = data_list[5]\n",
      "for i,trial in enumerate(data[1][9:10]):\n",
      "    figure()\n",
      "    ax1 = subplot(3,1,1)\n",
      "    plot(trial['down_times'],fph.fix_transform(trial['down_x_pos']),color = 'k')\n",
      "    ax2 = subplot(3,1,2,sharex = ax1)\n",
      "    plot(trial['down_times'],trial['down_contra_amp']) #this is a problem fix\n",
      "    plot(trial['down_times'],trial['down_ipsi_amp']) #this is a problem fi\n",
      "    ax3 = subplot(3,1,3,sharex = ax1)\n",
      "    plot(trial['f_spk_times'],trial['f_spk_phases'],'o-')\n",
      "    \n",
      "    ax1.set_ylabel('stripe postion, radians')\n",
      "    ax2.set_ylabel('wingbeat amplitude, volts')\n",
      "    ax3.set_ylabel('ipsilateral spike phase, radians')\n",
      "    ax3.set_xlabel('time sec')\n",
      "    ax3.set_xbound(-6,-1.5)"
     ],
     "language": "python",
     "metadata": {},
     "outputs": [],
     "prompt_number": 53
    },
    {
     "cell_type": "code",
     "collapsed": false,
     "input": [
      "ax = subplot(3,3,1)\n",
      "data = data_list[1]\n",
      "ol_amps = list()\n",
      "cl_amps = list()\n",
      "ol_phases = list()\n",
      "cl_phases = list()\n",
      "for i,trial in enumerate(data[1]):\n",
      "    amp = trial['f_spk_ipsi_amp'][::5]\n",
      "    phase = trial['f_spk_phases'][::5]\n",
      "    time = trial['f_spk_times'][::5]\n",
      "    selection = argwhere((time<-1.5) & (time> -4.5))\n",
      "    scatter(trial['f_spk_ipsi_amp'][selection],trial['f_spk_phases'][selection],alpha = 0.5,c='b')\n",
      "    cl_amps.append(amp)\n",
      "    cl_phases.append(amp)\n",
      "for i,trial in enumerate(data[0]):\n",
      "    amp = trial['f_spk_ipsi_amp'][::5]\n",
      "    phase = trial['f_spk_phases'][::5]\n",
      "    time = trial['f_spk_times'][::5]\n",
      "    selection = argwhere((time>-0.5) &(time<0.5))\n",
      "    scatter(trial['f_spk_ipsi_amp'][selection],trial['f_spk_phases'][selection],alpha = 0.5,c='r')\n",
      "    ol_amps.append(amp)\n",
      "    ol_phases.append(amp)\n",
      "m = array(median(trial['f_spk_ipsi_amp']))\n",
      "ax.set_xbound(m-2.5,m+2.5)\n",
      "for i,data in enumerate([data_list[x] for x in [2,3,5,6,7,8,9,11]]):\n",
      "    ax = subplot(3,3,i+2,sharey = ax)\n",
      "    for i,trial in enumerate(data[1]):\n",
      "        amp = trial['f_spk_ipsi_amp'][::5]\n",
      "        phase = trial['f_spk_phases'][::5]\n",
      "        time = trial['f_spk_times'][::5]\n",
      "        selection = argwhere((time<-1.5) & (time> -4.5))\n",
      "        scatter(trial['f_spk_ipsi_amp'][selection],trial['f_spk_phases'][selection],alpha = 0.5,c='b')\n",
      "        cl_amps.append(array(amp))\n",
      "        cl_phases.append(array(phase))\n",
      "    for i,trial in enumerate(data[0]):\n",
      "        amp = trial['f_spk_ipsi_amp'][::5]\n",
      "        phase = trial['f_spk_phases'][::5]\n",
      "        time = trial['f_spk_times'][::5]\n",
      "        selection = argwhere((time>-0.5) &(time<0.5))\n",
      "        scatter(trial['f_spk_ipsi_amp'][selection],trial['f_spk_phases'][selection],alpha = 0.5,c='r')\n",
      "        ol_amps.append(array(amp))\n",
      "        ol_phases.append(array(phase))\n",
      "    m = array(median(trial['f_spk_ipsi_amp']))\n",
      "    ax.set_xbound(m-2.5,m+2.5)\n",
      "    #fit = polyfit(concatenate(ol_phases),concatenate(ol_amps),1)\n",
      "    #fit_fn = poly1d(fit)\n",
      "    #x = arange(10)\n",
      "    #plot(x,fit_fn(x),color = 'k')\n",
      "    \n",
      "    #fit = polyfit(concatenate(cl_phases),concatenate(cl_amps),1)\n",
      "    #fit_fn = poly1d(fit)\n",
      "    #x = arange(10)\n",
      "    #plot(x,fit_fn(x),color = 'r')"
     ],
     "language": "python",
     "metadata": {},
     "outputs": [],
     "prompt_number": 52
    },
    {
     "cell_type": "code",
     "collapsed": false,
     "input": [
      "ol_amps[0]"
     ],
     "language": "python",
     "metadata": {},
     "outputs": [
      {
       "output_type": "pyout",
       "prompt_number": 553,
       "text": [
        "<AnalogSignal(array([ 4.30206299,  4.30206299,  4.30206299,  3.6831665 ,  3.64074707,\n",
        "        3.61541748,  3.66912842,  3.82507324,  3.72467041,  3.699646  ,\n",
        "        3.74023438,  3.68041992,  3.76342773,  4.23980713,  4.22393799,\n",
        "        4.35272217,  4.79919434,  4.39331055,  4.33258057,  4.31610107,\n",
        "        4.12322998,  4.18029785,  4.2199707 ,  4.30053711,  4.53643799,\n",
        "        4.2010498 ,  4.18762207,  4.30419922,  4.30541992,  4.13696289,\n",
        "        4.18426514,  4.32495117,  4.47509766,  4.61425781,  4.39788818,\n",
        "        3.99078369,  4.24987793,  4.22271729,  4.25170898,  4.16320801,\n",
        "        4.10430908,  4.17144775,  4.40917969,  4.10614014,  4.41619873,\n",
        "        4.1809082 ,  4.23034668,  4.06860352,  4.18579102,  4.17907715,\n",
        "        4.37103271,  4.38018799,  4.38018799,  4.38018799,  4.38018799,\n",
        "        4.38018799,  4.38018799,  4.34051514,  4.34051514,  4.34051514,\n",
        "        4.34051514,  4.34051514,  4.25323486,  4.25323486,  4.25323486,\n",
        "        4.25323486,  4.25323486,  4.25323486,  4.25323486,  4.25323486,\n",
        "        4.25323486,  4.25323486,  4.25323486,  4.25323486,  4.25323486,\n",
        "        4.25323486,  4.25323486,  4.25323486,  4.25323486,  4.25323486,\n",
        "        4.25323486,  4.25323486,  4.25323486,  4.25323486,  4.25323486,\n",
        "        4.25323486,  4.25323486,  4.25323486,  4.25323486,  4.25323486,\n",
        "        4.25323486,  4.25323486,  4.25323486,  4.27154541,  4.27154541,\n",
        "        4.27154541,  4.27154541,  4.27154541,  4.27154541,  4.21936035,\n",
        "        4.21936035,  4.21936035,  4.21936035,  4.21936035,  4.29290771,\n",
        "        3.59741211,  3.73931885,  3.60565186,  3.64898682,  3.79638672,\n",
        "        3.67462158,  3.70330811,  4.0246582 ,  4.0246582 ,  4.0246582 ,\n",
        "        3.68774414,  3.69232178,  3.84765625,  3.93341064,  3.86810303,\n",
        "        4.35028076,  3.85620117,  4.02709961,  4.17449951,  3.74664307,\n",
        "        3.74664307,  3.74664307,  4.11315918,  4.14550781,  4.37988281,\n",
        "        3.99932861,  3.82965088,  3.82965088,  4.11102295,  3.77166748,\n",
        "        3.85009766,  3.73352051,  4.1607666 ,  4.16442871,  4.06921387,\n",
        "        4.06921387,  4.06921387,  4.06921387,  4.14276123,  4.14276123,\n",
        "        4.14276123,  4.14276123,  4.14276123,  4.14276123,  4.26055908,\n",
        "        4.26055908,  4.26055908,  4.26055908,  4.26055908,  4.26055908,\n",
        "        4.26055908,  4.26055908,  4.26055908,  4.26055908,  4.26055908,\n",
        "        4.26055908,  4.26055908,  4.02648926,  4.02648926,  4.02648926,\n",
        "        3.95080566,  3.95080566,  3.95080566,  3.95080566,  3.95080566,\n",
        "        3.95080566,  3.95080566,  3.95080566,  3.95080566,  3.95080566,\n",
        "        3.66546631,  3.66546631,  3.66546631,  3.66546631,  3.66546631,\n",
        "        3.66546631,  3.66546631,  3.66546631,  3.66546631,  3.62518311,\n",
        "        3.62518311,  3.62518311,  3.62518311,  3.62518311,  3.62518311,\n",
        "        3.62518311,  3.62518311,  3.62518311,  3.62518311,  3.46405029,\n",
        "        3.33953857,  3.25378418,  3.25378418,  3.25378418,  3.26965332,\n",
        "        3.26965332,  3.26965332,  3.27941895,  3.27941895,  3.41400146,\n",
        "        3.39324951,  3.39324951,  3.89160156,  3.7789917 ,  3.7789917 ,\n",
        "        3.7789917 ,  3.7789917 ,  3.7789917 ,  3.7789917 ,  3.7789917 ,\n",
        "        3.7789917 ,  3.7789917 ,  3.7789917 ,  3.7789917 ,  3.7789917 ,\n",
        "        3.7789917 ,  3.7789917 ,  3.7789917 ,  3.7789917 ,  3.7789917 ,\n",
        "        3.7789917 ,  3.7789917 ,  3.7789917 ,  3.7789917 ,  3.7789917 ,\n",
        "        3.7789917 ], dtype=float32) * V, [0.0 s, 0.01155 s], sampling rate: 20000.0 Hz)>"
       ]
      }
     ],
     "prompt_number": 553
    },
    {
     "cell_type": "code",
     "collapsed": false,
     "input": [
      "def time_bin_phases(spk_rasters,\n",
      "                      start = -0.3,\n",
      "                      stop = 0.1,\n",
      "                      interval = 0.01):\n",
      "    cat_times = concatenate([r['f_spk_times'] for r in spk_rasters])\n",
      "    cat_phases = concatenate([r['f_spk_phases'] for r in spk_rasters])\n",
      "    cat_ipsi_amp = concatenate([r['f_spk_ipsi_amp'] for r in spk_rasters])\n",
      "    cat_contra_amp = concatenate([r['f_spk_contra_amp'] for r in spk_rasters])\n",
      "\n",
      "    bins = arange(start,stop,interval)\n",
      "    med_phase = list()\n",
      "    top_phase = list()\n",
      "    bot_phase = list()\n",
      "\n",
      "    for b in bins:\n",
      "        subsample = argwhere((cat_times>b) & (cat_times < b+interval))\n",
      "        med_phase.append(median(cat_phases[subsample]))\n",
      "        top_phase.append(percentile(cat_phases[subsample],90))\n",
      "        bot_phase.append(percentile(cat_phases[subsample],10))\n",
      "    \n",
      "    return bins+(interval/2.0),med_phase,top_phase,bot_phase"
     ],
     "language": "python",
     "metadata": {},
     "outputs": [],
     "prompt_number": 6
    },
    {
     "cell_type": "code",
     "collapsed": false,
     "input": [
      "ipsi_shift = list()\n",
      "contra_shift = list()\n",
      "\n",
      "ipsi_stim_ipsi_amp = list() \n",
      "ipsi_stim_contra_amp = list() \n",
      "\n",
      "contra_stim_ipsi_amp = list() \n",
      "contra_stim_contra_amp = list() \n",
      "for data in data_list:\n",
      "    ph_group = time_bin_phases(data[0])\n",
      "    ipsi_shift.append(ph_group[1])\n",
      "    ph_group = time_bin_phases(data[1])\n",
      "    contra_shift.append(ph_group[1])\n",
      "    \n",
      "    ipsi_stim_ipsi_amp.append(median([x['down_contra_amp'] for x in data[0]],axis = 0))\n",
      "    ipsi_stim_contra_amp.append(median([x['down_ipsi_amp'] for x in data[0]],axis = 0))\n",
      "    \n",
      "    contra_stim_ipsi_amp.append(median([x['down_contra_amp'] for x in data[1]],axis = 0))\n",
      "    contra_stim_contra_amp.append(median([x['down_ipsi_amp'] for x in data[1]],axis = 0))\n",
      "\n",
      "\n",
      "ax_00 = subplot(3,2,1)\n",
      "plot(trial['down_times'],trial['down_x_pos'],color = 'k')\n",
      "     \n",
      "ax_01 = subplot(3,2,2,sharex = ax_00, sharey = ax_00)\n",
      "plot(trial['down_times'],trial['down_x_pos'],color = 'k')\n",
      "\n",
      "ax_10 = subplot(3,2,3,sharex = ax_00)\n",
      "med = median(array(ipsi_stim_ipsi_amp),axis= 0)\n",
      "topq = percentile(array(ipsi_stim_ipsi_amp),75,axis= 0)\n",
      "botq = percentile(array(ipsi_stim_ipsi_amp),25,axis= 0)\n",
      "fill_between(trial['down_times'],topq,botq,alpha = 0.6, facecolor = ipsi_color,edgecolor = 'None')\n",
      "plot(trial['down_times'],med,color = ipsi_color)\n",
      "\n",
      "med = median(array(ipsi_stim_contra_amp),axis= 0)\n",
      "topq = percentile(array(ipsi_stim_contra_amp),75,axis= 0)\n",
      "botq = percentile(array(ipsi_stim_contra_amp),25,axis= 0)\n",
      "fill_between(trial['down_times'],topq,botq,alpha = 0.6, facecolor =contra_color,edgecolor = 'None')\n",
      "plot(trial['down_times'],med,color = contra_color)\n",
      "\n",
      "\n",
      "\n",
      "ax_11 = subplot(3,2,4,sharex = ax_00,sharey = ax_10)\n",
      "med = median(array(contra_stim_ipsi_amp),axis= 0)\n",
      "topq = percentile(array(contra_stim_ipsi_amp),75,axis= 0)\n",
      "botq = percentile(array(contra_stim_ipsi_amp),25,axis= 0)\n",
      "fill_between(trial['down_times'],topq,botq,alpha = 0.6, facecolor =ipsi_color,edgecolor = 'None')\n",
      "plot(trial['down_times'],med,color = ipsi_color)\n",
      "\n",
      "med = median(array(contra_stim_contra_amp),axis= 0)\n",
      "topq = percentile(array(contra_stim_contra_amp),75,axis= 0)\n",
      "botq = percentile(array(contra_stim_contra_amp),25,axis= 0)\n",
      "fill_between(trial['down_times'],topq,botq,alpha = 0.6, facecolor =contra_color,edgecolor = 'None')\n",
      "plot(trial['down_times'],med,color = contra_color)\n",
      "\n",
      "\n",
      "ax_20 = subplot(3,2,5,sharex = ax_00)\n",
      "med = median(array(ipsi_shift),axis= 0)\n",
      "topq = percentile(array(ipsi_shift),75,axis= 0)-med\n",
      "botq = med-percentile(array(ipsi_shift),25,axis= 0)\n",
      "errorbar(ph_group[0],med,yerr=[botq,topq])\n",
      "\n",
      "ax_21 = subplot(3,2,6,sharex = ax_10,sharey = ax_20)\n",
      "med = median(array(contra_shift),axis= 0)\n",
      "topq = percentile(array(contra_shift),75,axis= 0)-med\n",
      "botq = med-percentile(array(contra_shift),25,axis= 0)\n",
      "errorbar(ph_group[0],med,yerr=[botq,topq])\n",
      "\n",
      "#####################\n",
      "\n",
      "\n",
      "\n",
      "\n",
      "\n",
      "\n",
      "ax_00.set_xbound(-0.3,0.1)\n",
      "#errorbar(trial['down_times'],med,yerr=[botq,topq])\n",
      "\n",
      "#plot(trial['down_times'],median(array(ipsi_stim_ipsi_amp),axis= 0))\n",
      "#plot(trial['down_times'],median(array(ipsi_stim_contra_amp),axis= 0))\n",
      "#plot(ph_raster[0],mean(array(contra_shift),axis= 0),color = 'k',lw = 5)"
     ],
     "language": "python",
     "metadata": {},
     "outputs": [],
     "prompt_number": 14
    },
    {
     "cell_type": "code",
     "collapsed": false,
     "input": [
      "ipsi_color = array([50.0,102.0,179.0,255.0])/255\n",
      "contra_color = array([179.0,102.0,51.0,255.0])/255"
     ],
     "language": "python",
     "metadata": {},
     "outputs": [],
     "prompt_number": 12
    },
    {
     "cell_type": "code",
     "collapsed": false,
     "input": [
      "from matplotlib import gridspec\n",
      "gs = gridspec.GridSpec(4,1)\n",
      "ax_00 = subplot(gs[0])\n",
      "plot(trial['down_times'],trial['down_x_pos'],color = 'k')\n",
      "\n",
      "ax_20 = subplot(gs[1:4],sharex = ax_00)\n",
      "med = median(array(ipsi_shift),axis= 0)\n",
      "topq = percentile(array(ipsi_shift),75,axis= 0)-med\n",
      "botq = med-percentile(array(ipsi_shift),25,axis= 0)\n",
      "errorbar(ph_group[0],med,yerr=[botq,topq],color = ipsi_color)\n",
      "\n",
      "med = median(array(contra_shift),axis= 0)\n",
      "topq = percentile(array(contra_shift),75,axis= 0)-med\n",
      "botq = med-percentile(array(contra_shift),25,axis= 0)\n",
      "errorbar(ph_group[0],med,yerr=[botq,topq],color = contra_color)\n",
      "ax_20.set_ybound(pi/2,3*pi/2)\n",
      "ax_20.set_yticks(linspace(pi/2,3*pi/2,3))\n",
      "ax_20.set_xbound(-0.3,0.1)"
     ],
     "language": "python",
     "metadata": {},
     "outputs": [],
     "prompt_number": 55
    },
    {
     "cell_type": "code",
     "collapsed": false,
     "input": [
      "for trial in data[0][:10]:\n",
      "    plot(trial['down_times'][2000:5000],trial['down_x_pos'][2000:5000])"
     ],
     "language": "python",
     "metadata": {},
     "outputs": [],
     "prompt_number": 85
    },
    {
     "cell_type": "code",
     "collapsed": false,
     "input": [
      "linspace(pi/2,3*pi/2,3)"
     ],
     "language": "python",
     "metadata": {},
     "outputs": [
      {
       "output_type": "pyout",
       "prompt_number": 50,
       "text": [
        "array([ 1.57079633,  3.14159265,  4.71238898])"
       ]
      }
     ],
     "prompt_number": 50
    },
    {
     "cell_type": "code",
     "collapsed": false,
     "input": [
      "*pi/4"
     ],
     "language": "python",
     "metadata": {},
     "outputs": [
      {
       "output_type": "pyout",
       "prompt_number": 49,
       "text": [
        "2.356194490192345"
       ]
      }
     ],
     "prompt_number": 49
    },
    {
     "cell_type": "code",
     "collapsed": false,
     "input": [
      "def get_v_strenght(trial):\n",
      "    stripe_p = fph.fix_transform(trial['down_x_pos'][2000:5000])\n",
      "    stripe_v = vstack((cos(array(stripe_p)),sin(array(stripe_p))))\n",
      "    v_sum = sum(stripe_v,axis = 1)\n",
      "    v_st = sqrt(v_sum[0]**2 + v_sum[1]**2)\n",
      "    return v_st"
     ],
     "language": "python",
     "metadata": {},
     "outputs": [],
     "prompt_number": 214
    },
    {
     "cell_type": "code",
     "collapsed": false,
     "input": [
      "hist(v_strenghts,bins = 20)"
     ],
     "language": "python",
     "metadata": {},
     "outputs": [
      {
       "output_type": "pyout",
       "prompt_number": 174,
       "text": [
        "(array([ 2.,  0.,  3.,  2.,  2.,  4.,  0.,  3.,  0.,  0.,  1.,  0.,  1.,\n",
        "        0.,  0.,  0.,  0.,  0.,  2.,  4.]),\n",
        " array([   97.45940225,   240.39679103,   383.33417982,   526.27156861,\n",
        "         669.2089574 ,   812.14634619,   955.08373498,  1098.02112376,\n",
        "        1240.95851255,  1383.89590134,  1526.83329013,  1669.77067892,\n",
        "        1812.70806771,  1955.64545649,  2098.58284528,  2241.52023407,\n",
        "        2384.45762286,  2527.39501165,  2670.33240044,  2813.26978922,\n",
        "        2956.20717801]),\n",
        " <a list of 20 Patch objects>)"
       ]
      }
     ],
     "prompt_number": 174
    },
    {
     "cell_type": "code",
     "collapsed": false,
     "input": [
      "2*pi"
     ],
     "language": "python",
     "metadata": {},
     "outputs": [
      {
       "output_type": "pyout",
       "prompt_number": 67,
       "text": [
        "6.283185307179586"
       ]
      }
     ],
     "prompt_number": 67
    },
    {
     "cell_type": "code",
     "collapsed": false,
     "input": [
      "import numpy as np\n",
      "\n",
      "import matplotlib.pyplot as plt\n",
      "from matplotlib.patches import Ellipse\n",
      "\n",
      "def plot_point_cov(points, nstd=2, ax=None, **kwargs):\n",
      "    \"\"\"\n",
      "    Plots an `nstd` sigma ellipse based on the mean and covariance of a point\n",
      "    \"cloud\" (points, an Nx2 array).\n",
      "\n",
      "    Parameters\n",
      "    ----------\n",
      "        points : An Nx2 array of the data points.\n",
      "        nstd : The radius of the ellipse in numbers of standard deviations.\n",
      "            Defaults to 2 standard deviations.\n",
      "        ax : The axis that the ellipse will be plotted on. Defaults to the \n",
      "            current axis.\n",
      "        Additional keyword arguments are pass on to the ellipse patch.\n",
      "\n",
      "    Returns\n",
      "    -------\n",
      "        A matplotlib ellipse artist\n",
      "    \"\"\"\n",
      "    pos = points.mean(axis=0)\n",
      "    cov = np.cov(points, rowvar=False)\n",
      "    return plot_cov_ellipse(cov, pos, nstd, ax, **kwargs)\n",
      "\n",
      "def plot_cov_ellipse(cov, pos, nstd=2, ax=None, **kwargs):\n",
      "    \"\"\"\n",
      "    Plots an `nstd` sigma error ellipse based on the specified covariance\n",
      "    matrix (`cov`). Additional keyword arguments are passed on to the \n",
      "    ellipse patch artist.\n",
      "\n",
      "    Parameters\n",
      "    ----------\n",
      "        cov : The 2x2 covariance matrix to base the ellipse on\n",
      "        pos : The location of the center of the ellipse. Expects a 2-element\n",
      "            sequence of [x0, y0].\n",
      "        nstd : The radius of the ellipse in numbers of standard deviations.\n",
      "            Defaults to 2 standard deviations.\n",
      "        ax : The axis that the ellipse will be plotted on. Defaults to the \n",
      "            current axis.\n",
      "        Additional keyword arguments are pass on to the ellipse patch.\n",
      "\n",
      "    Returns\n",
      "    -------\n",
      "        A matplotlib ellipse artist\n",
      "    \"\"\"\n",
      "    def eigsorted(cov):\n",
      "        vals, vecs = np.linalg.eigh(cov)\n",
      "        order = vals.argsort()[::-1]\n",
      "        return vals[order], vecs[:,order]\n",
      "\n",
      "    if ax is None:\n",
      "        ax = plt.gca()\n",
      "\n",
      "    vals, vecs = eigsorted(cov)\n",
      "    theta = np.degrees(np.arctan2(*vecs[:,0][::-1]))\n",
      "\n",
      "    # Width and height are \"full\" widths, not radius\n",
      "    width, height = 2 * nstd * np.sqrt(vals)\n",
      "    ellip = Ellipse(xy=pos, width=width, height=height, angle=theta, **kwargs)\n",
      "\n",
      "    ax.add_artist(ellip)\n",
      "    return ellip\n",
      "\n",
      "if __name__ == '__main__':\n",
      "    #-- Example usage -----------------------\n",
      "    # Generate some random, correlated data\n",
      "    points = np.random.multivariate_normal(\n",
      "            mean=(1,1), cov=[[0.4, 9],[9, 10]], size=1000\n",
      "            )\n",
      "    # Plot the raw points...\n",
      "    x, y = points.T\n",
      "    plt.plot(x, y, 'ro')\n",
      "\n",
      "    # Plot a transparent 3 standard deviation covariance ellipse\n",
      "    plot_point_cov(points, nstd=3, alpha=0.5, color='green')\n",
      "\n",
      "    plt.show()"
     ],
     "language": "python",
     "metadata": {},
     "outputs": [],
     "prompt_number": 234
    },
    {
     "cell_type": "code",
     "collapsed": false,
     "input": [],
     "language": "python",
     "metadata": {},
     "outputs": []
    }
   ],
   "metadata": {}
  }
 ]
}